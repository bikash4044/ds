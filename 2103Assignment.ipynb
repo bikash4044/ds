{
 "cells": [
  {
   "cell_type": "markdown",
   "metadata": {},
   "source": [
    "Q1. What is the difference between Ordinal Encoding and Label Encoding? Provide an example of when you might choose one over the other.\n",
    "\n",
    "Ans:\n",
    "\n",
    "\n",
    "Label Encoding:\n",
    "\n",
    "Converts each category into a unique integer.\n",
    "No inherent order is implied among the categories.\n",
    "Example: Types of fruits (\"Apple,\" \"Banana,\" \"Cherry\") where the order doesn’t matter.\n",
    "\n",
    "Ordinal Encoding:\n",
    "\n",
    "Converts each category into an integer based on an inherent order.\n",
    "Implies a ranking or order among the categories.\n",
    "Example: Customer satisfaction levels (\"Low,\" \"Medium,\" \"High\") where there is a meaningful order.\n",
    "\n",
    "When to Choose:\n",
    "\n",
    "Label Encoding for categories without order.\n",
    "\n",
    "Ordinal Encoding for categories with a meaningful ranking."
   ]
  },
  {
   "cell_type": "markdown",
   "metadata": {},
   "source": [
    "Q2. Explain how Target Guided Ordinal Encoding works and provide an example of when you might use it in a machine learning project.\n",
    "\n",
    "Ans:\n",
    "\n",
    "Target Guided Ordinal Encoding assigns numerical values to categories based on their average target value. Here’s how it works:\n",
    "\n",
    "Calculate the mean of the target variable for each category.\n",
    "Sort categories by these mean values.\n",
    "Assign integers based on this order (higher mean gets a higher number).\n",
    "Example:\n",
    "\n",
    "Feature: Contract Type with categories [\"Month-to-Month,\" \"One Year,\" \"Two Year\"].\n",
    "Target: Churn rate.\n",
    "Encoding: Higher churn rates get higher integers. For instance:\n",
    "\"Month-to-Month\" -> 2\n",
    "\"One Year\" -> 1\n",
    "\"Two Year\" -> 0\n",
    "Use Case: When you want to capture the impact of categorical features on a target variable and the categories have an ordinal relationship."
   ]
  },
  {
   "cell_type": "markdown",
   "metadata": {},
   "source": [
    "Q3. Define covariance and explain why it is important in statistical analysis. How is covariance calculated?\n",
    "\n",
    "Ans:\n",
    "\n",
    "Covariance is a measure of the degree to which two random variables change together.\n",
    "\n",
    "Positive Covariance: Both variables increase or decrease together.\n",
    "Negative Covariance: One variable increases while the other decreases.\n",
    "Zero Covariance: No linear relationship.\n",
    "Importance:\n",
    "Understanding Relationships: Helps in determining how two variables are related.\n",
    "Modeling: Used in techniques like Principal Component Analysis (PCA).\n",
    "\n",
    "Its calculated from oberved data, output data and average of both set taken separately."
   ]
  },
  {
   "cell_type": "markdown",
   "metadata": {},
   "source": [
    "Q4. For a dataset with the following categorical variables: Color (red, green, blue), Size (small, medium, large), and Material (wood, metal, plastic), perform label encoding using Python's scikit-learn library. Show your code and explain the output."
   ]
  },
  {
   "cell_type": "code",
   "execution_count": 1,
   "metadata": {},
   "outputs": [
    {
     "name": "stdout",
     "output_type": "stream",
     "text": [
      "Original Colors: ['red', 'green', 'blue']\n",
      "Encoded Colors: [2 1 0]\n",
      "Original Sizes: ['small', 'medium', 'large']\n",
      "Encoded Sizes: [2 1 0]\n",
      "Original Materials: ['wood', 'metal', 'plastic']\n",
      "Encoded Materials: [2 0 1]\n"
     ]
    }
   ],
   "source": [
    "from sklearn.preprocessing import LabelEncoder\n",
    "\n",
    "color_encoder = LabelEncoder()\n",
    "size_encoder = LabelEncoder()\n",
    "material_encoder = LabelEncoder()\n",
    "\n",
    "colors = ['red', 'green', 'blue']\n",
    "sizes = ['small', 'medium', 'large']\n",
    "materials = ['wood', 'metal', 'plastic']\n",
    "\n",
    "color_encoded = color_encoder.fit_transform(colors)\n",
    "size_encoded = size_encoder.fit_transform(sizes)\n",
    "material_encoded = material_encoder.fit_transform(materials)\n",
    "\n",
    "print(\"Original Colors:\", colors)\n",
    "print(\"Encoded Colors:\", color_encoded)\n",
    "print(\"Original Sizes:\", sizes)\n",
    "print(\"Encoded Sizes:\", size_encoded)\n",
    "print(\"Original Materials:\", materials)\n",
    "print(\"Encoded Materials:\", material_encoded)\n"
   ]
  },
  {
   "cell_type": "markdown",
   "metadata": {},
   "source": [
    "LabelEncoder assigns integer values based on the alphabetical order of the categories. For example, \"blue\" is encoded as 0 because it comes first alphabetically, and \"red\" is encoded as 2 because it comes last."
   ]
  },
  {
   "cell_type": "markdown",
   "metadata": {},
   "source": [
    "Q5. Calculate the covariance matrix for the following variables in a dataset: Age, Income, and Education level. Interpret the results."
   ]
  },
  {
   "cell_type": "code",
   "execution_count": 2,
   "metadata": {},
   "outputs": [
    {
     "name": "stdout",
     "output_type": "stream",
     "text": [
      "Covariance Matrix:\n",
      " [[ 6.25000000e+01  1.25000000e+05 -1.11022302e-16]\n",
      " [ 1.25000000e+05  2.50000000e+08 -2.22044605e-13]\n",
      " [-1.11022302e-16 -2.22044605e-13  7.00000000e-01]]\n"
     ]
    }
   ],
   "source": [
    "import numpy as np\n",
    "\n",
    "age = np.array([25, 30, 35, 40, 45])\n",
    "income = np.array([50000, 60000, 70000, 80000, 90000])\n",
    "education_level = np.array([1, 2, 3, 2, 1])\n",
    "\n",
    "data = np.vstack([age, income, education_level])\n",
    "\n",
    "cov_matrix = np.cov(data, bias=False)\n",
    "\n",
    "print(\"Covariance Matrix:\\n\", cov_matrix)\n"
   ]
  },
  {
   "cell_type": "markdown",
   "metadata": {},
   "source": [
    "Q6. You are working on a machine learning project with a dataset containing several categorical variables, including \"Gender\" (Male/Female), \"Education Level\" (High School/Bachelor's/Master's/PhD), and \"Employment Status\" (Unemployed/Part-Time/Full-Time). Which encoding method would you use for\n",
    "each variable, and why?\n",
    "\n",
    "Ans:\n",
    "\n",
    "For the given categorical variables, the encoding methods should be chosen based on the nature of each variable and their relationships. Here’s the best approach for each:\n",
    "\n",
    "1. Gender (Male/Female)\n",
    "Encoding Method: One-Hot Encoding\n",
    "Reason: \"Gender\" is a nominal variable with no inherent order. One-hot encoding will create separate binary columns for each category without implying any ranking or order.\n",
    "2. Education Level (High School/Bachelor's/Master's/PhD)\n",
    "Encoding Method: Ordinal Encoding\n",
    "Reason: \"Education Level\" has a natural ordinal relationship (there is a clear order from High School to PhD). Ordinal encoding will preserve this ranking by assigning increasing integers based on the education level.\n",
    "3. Employment Status (Unemployed/Part-Time/Full-Time)\n",
    "Encoding Method: Ordinal Encoding\n",
    "Reason: \"Employment Status\" can be considered ordinal if we assume there's an inherent order in terms of employment engagement or status. However, if there’s no inherent ranking, one-hot encoding could also be used.\n"
   ]
  },
  {
   "cell_type": "markdown",
   "metadata": {},
   "source": [
    "Q7. You are analyzing a dataset with two continuous variables, \"Temperature\" and \"Humidity\", and two categorical variables, \"Weather Condition\" (Sunny/Cloudy/Rainy) and \"Wind Direction\" (North/South/East/West). Calculate the covariance between each pair of variables and interpret the results."
   ]
  },
  {
   "cell_type": "code",
   "execution_count": 4,
   "metadata": {},
   "outputs": [
    {
     "name": "stdout",
     "output_type": "stream",
     "text": [
      "Covariance Matrix:\n",
      " [[  9.3  -21.25   0.9    3.1 ]\n",
      " [-21.25  62.5   -1.25  -8.75]\n",
      " [  0.9   -1.25   0.7    0.55]\n",
      " [  3.1   -8.75   0.55   1.7 ]]\n"
     ]
    }
   ],
   "source": [
    "import numpy as np\n",
    "\n",
    "temperature = np.array([25, 22, 27, 30, 24])\n",
    "humidity = np.array([60, 65, 55, 50, 70])\n",
    "\n",
    "weather_condition = np.array([0, 1, 0, 2, 1])\n",
    "wind_direction = np.array([0, 1, 2, 3, 0])\n",
    "data = np.vstack([temperature, humidity, weather_condition, wind_direction])\n",
    "\n",
    "cov_matrix = np.cov(data, bias=False)\n",
    "print(\"Covariance Matrix:\\n\", cov_matrix)"
   ]
  },
  {
   "cell_type": "markdown",
   "metadata": {},
   "source": [
    "- Temperature and Humidity: A moderate negative relationship.\n",
    "- Temperature and Weather Condition: A slight positive relationship.\n",
    "- Temperature and Wind Direction: A slight positive relationship.\n",
    "- Humidity and Weather Condition: A slight negative relationship.\n",
    "- Humidity and Wind Direction: A moderate negative relationship.\n",
    "- Weather Condition and Wind Direction: A slight positive relationship."
   ]
  }
 ],
 "metadata": {
  "kernelspec": {
   "display_name": "base",
   "language": "python",
   "name": "python3"
  },
  "language_info": {
   "codemirror_mode": {
    "name": "ipython",
    "version": 3
   },
   "file_extension": ".py",
   "mimetype": "text/x-python",
   "name": "python",
   "nbconvert_exporter": "python",
   "pygments_lexer": "ipython3",
   "version": "3.12.4"
  }
 },
 "nbformat": 4,
 "nbformat_minor": 2
}
