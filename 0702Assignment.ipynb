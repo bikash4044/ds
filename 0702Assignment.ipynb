{
 "cells": [
  {
   "cell_type": "markdown",
   "id": "c745800c-1063-43f5-b02f-e3106d86a09f",
   "metadata": {},
   "source": [
    "## 1"
   ]
  },
  {
   "cell_type": "code",
   "execution_count": 4,
   "id": "19d2b233-92af-4e0c-bc33-fd9fe84afe54",
   "metadata": {},
   "outputs": [
    {
     "name": "stdin",
     "output_type": "stream",
     "text": [
      "Enter a password: Bikash.Ranjan@08@10\n"
     ]
    },
    {
     "name": "stdout",
     "output_type": "stream",
     "text": [
      "Valid Password\n"
     ]
    }
   ],
   "source": [
    "pswd=input(\"Enter a password:\")\n",
    "n=0\n",
    "l=0\n",
    "u=0\n",
    "c=0\n",
    "\n",
    "for i in pswd:\n",
    "    if i.isalnum():\n",
    "        if i.isnumeric():\n",
    "            n+=1\n",
    "        elif i.isupper():\n",
    "            u+=1\n",
    "        elif i.islower():\n",
    "            l+=1\n",
    "    else:\n",
    "        c+=1\n",
    "        \n",
    "if len(pswd)<10:\n",
    "    print(\"Length must be 10 characters\")\n",
    "elif u<2:\n",
    "    print(\"Two UPPERCASE character must be present\")\n",
    "elif l<2:\n",
    "    print(\"Two lowercase character must be present\")\n",
    "elif n==0:\n",
    "    print(\"at least one number must be there\")\n",
    "elif c<3:\n",
    "    print(\"At least three special character expected\")\n",
    "else:\n",
    "    print(\"Valid Password\")"
   ]
  },
  {
   "cell_type": "markdown",
   "id": "5e96a0f2-a83c-4a26-93a9-67cc0620a8df",
   "metadata": {},
   "source": [
    "## 2"
   ]
  },
  {
   "cell_type": "markdown",
   "id": "b2e6eb8f-8b2f-4ef5-8f8a-20ae9b5e26b1",
   "metadata": {},
   "source": [
    "Check if the string starts with a particular letter"
   ]
  },
  {
   "cell_type": "code",
   "execution_count": 8,
   "id": "59dfd18c-4f3c-47bc-8211-b3d670fc662e",
   "metadata": {},
   "outputs": [
    {
     "data": {
      "text/plain": [
       "[True]"
      ]
     },
     "execution_count": 8,
     "metadata": {},
     "output_type": "execute_result"
    }
   ],
   "source": [
    "s=\"character\"\n",
    "[True  if s[0]=='c' else ' ']"
   ]
  },
  {
   "cell_type": "code",
   "execution_count": 23,
   "id": "abb00c00-3512-4156-ac60-e94fd4bc064b",
   "metadata": {},
   "outputs": [
    {
     "data": {
      "text/plain": [
       "['Numeric String']"
      ]
     },
     "execution_count": 23,
     "metadata": {},
     "output_type": "execute_result"
    }
   ],
   "source": [
    "s=\"4646448\"\n",
    "[\"Numeric String\" if s.isnumeric() else \"NOt a numeric string\"]"
   ]
  },
  {
   "cell_type": "code",
   "execution_count": 11,
   "id": "b5fe354e-e75f-434f-955b-e65461f9bfaa",
   "metadata": {},
   "outputs": [
    {
     "data": {
      "text/plain": [
       "[('orange', 80), ('mango', 99), ('grapes', 1000)]"
      ]
     },
     "execution_count": 11,
     "metadata": {},
     "output_type": "execute_result"
    }
   ],
   "source": [
    "l=[(\"mango\",99),(\"orange\",80), (\"grapes\", 1000)]\n",
    "fn = lambda x : x[1]\n",
    "l.sort(key=fn)\n",
    "l"
   ]
  },
  {
   "cell_type": "code",
   "execution_count": 12,
   "id": "959d1d4a-b5a9-4f79-a613-345e0bde8593",
   "metadata": {},
   "outputs": [
    {
     "data": {
      "text/plain": [
       "[1, 4, 9, 16, 25, 36, 49, 64, 81, 100]"
      ]
     },
     "execution_count": 12,
     "metadata": {},
     "output_type": "execute_result"
    }
   ],
   "source": [
    "[i**2 for i in range(1,11)]"
   ]
  },
  {
   "cell_type": "code",
   "execution_count": 14,
   "id": "59defb42-8e8f-4b2d-9024-e7b656c217eb",
   "metadata": {},
   "outputs": [
    {
     "data": {
      "text/plain": [
       "[1.0,\n",
       " 1.2599210498948732,\n",
       " 1.4422495703074083,\n",
       " 1.5874010519681994,\n",
       " 1.7099759466766968,\n",
       " 1.8171205928321397,\n",
       " 1.912931182772389,\n",
       " 2.0,\n",
       " 2.080083823051904,\n",
       " 2.154434690031884]"
      ]
     },
     "execution_count": 14,
     "metadata": {},
     "output_type": "execute_result"
    }
   ],
   "source": [
    "[i**(1/3) for i in range(1,11)]"
   ]
  },
  {
   "cell_type": "code",
   "execution_count": 16,
   "id": "3522df0e-05ec-4720-b91b-384a04e87d9e",
   "metadata": {},
   "outputs": [
    {
     "data": {
      "text/plain": [
       "['Even']"
      ]
     },
     "execution_count": 16,
     "metadata": {},
     "output_type": "execute_result"
    }
   ],
   "source": [
    "n=456\n",
    "[\"Even\"  if n%2==0 else \"Odd\"]"
   ]
  },
  {
   "cell_type": "code",
   "execution_count": 17,
   "id": "8bc047ba-7250-4e28-9a57-791c81bea41b",
   "metadata": {},
   "outputs": [
    {
     "data": {
      "text/plain": [
       "[1, 3, 5, 7, 9]"
      ]
     },
     "execution_count": 17,
     "metadata": {},
     "output_type": "execute_result"
    }
   ],
   "source": [
    "list1=[1,2,3,4,5,6,7,8,9,10]\n",
    "list(filter(lambda x : x%2!=0, list1))"
   ]
  },
  {
   "cell_type": "code",
   "execution_count": 20,
   "id": "2a6424f6-8e6c-4757-870a-5931e0f3af83",
   "metadata": {},
   "outputs": [
    {
     "name": "stdout",
     "output_type": "stream",
     "text": [
      "[-1, -2, -3, -4, -5]\n",
      "[1, 2, 3, 4, 5, 6, 0]\n"
     ]
    }
   ],
   "source": [
    "list2=[1,2,3,4,5,6,-1,-2,-3,-4,-5,0]\n",
    "print(list(filter(lambda x : x<0, list2)))\n",
    "print(list(filter(lambda x : x>=0, list2)))"
   ]
  },
  {
   "cell_type": "code",
   "execution_count": null,
   "id": "e94971bd-3967-40e2-b67d-3ba6614b04f3",
   "metadata": {},
   "outputs": [],
   "source": []
  }
 ],
 "metadata": {
  "kernelspec": {
   "display_name": "Python 3 (ipykernel)",
   "language": "python",
   "name": "python3"
  },
  "language_info": {
   "codemirror_mode": {
    "name": "ipython",
    "version": 3
   },
   "file_extension": ".py",
   "mimetype": "text/x-python",
   "name": "python",
   "nbconvert_exporter": "python",
   "pygments_lexer": "ipython3",
   "version": "3.10.8"
  }
 },
 "nbformat": 4,
 "nbformat_minor": 5
}
