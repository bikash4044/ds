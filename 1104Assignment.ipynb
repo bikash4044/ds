{
 "cells": [
  {
   "cell_type": "markdown",
   "metadata": {},
   "source": [
    "Q1. What is an ensemble technique in machine learning?\n",
    "\n",
    "Ans:\n",
    "\n",
    "An ensemble technique in machine learning combines multiple models to improve overall performance. By aggregating the predictions of several models, it aims to achieve better accuracy and robustness than any single model alone."
   ]
  },
  {
   "cell_type": "markdown",
   "metadata": {},
   "source": [
    "Q2. Why are ensemble techniques used in machine learning?\n",
    "\n",
    "Ans:\n",
    "\n",
    "Ensemble techniques are used in machine learning to improve model accuracy, reduce overfitting, and increase robustness. They combine multiple models to make better predictions than individual models."
   ]
  },
  {
   "cell_type": "markdown",
   "metadata": {},
   "source": [
    "Q3. What is bagging?\n",
    "\n",
    "Ans:\n",
    "\n",
    "Bagging, short for Bootstrap Aggregating, is an ensemble technique that improves the stability and accuracy of machine learning models. It involves training multiple models on different random subsets of the training data and then averaging their predictions."
   ]
  },
  {
   "cell_type": "markdown",
   "metadata": {},
   "source": [
    "Q4. What is boosting?\n",
    "\n",
    "Ans:\n",
    "\n",
    "Boosting is a technique that combines multiple weak models to create a strong model by focusing on errors from previous models."
   ]
  },
  {
   "cell_type": "markdown",
   "metadata": {},
   "source": [
    "Q5. What are the benefits of using ensemble techniques?\n",
    "\n",
    "Ans:\n",
    "\n",
    "Ensemble techniques improve accuracy, increase robustness, and reduce overfitting by combining multiple models."
   ]
  },
  {
   "cell_type": "markdown",
   "metadata": {},
   "source": [
    "Q6. Are ensemble techniques always better than individual models?\n",
    "\n",
    "Ans:\n",
    "\n",
    "Not always. They can be better but also depend on the problem and models used."
   ]
  },
  {
   "cell_type": "markdown",
   "metadata": {},
   "source": [
    "Q7. How is the confidence interval calculated using bootstrap?\n",
    "\n",
    "Ans:\n",
    "\n",
    "- Sample data with replacement to create multiple bootstrap samples.\n",
    "- Calculate the statistic (e.g., mean) for each sample.\n",
    "- Find percentiles from these statistics to get the confidence interval."
   ]
  },
  {
   "cell_type": "markdown",
   "metadata": {},
   "source": [
    "Q8. How does bootstrap work and What are the steps involved in bootstrap?\n",
    "\n",
    "Ans:\n",
    "\n",
    "Bootstrap estimates statistics by resampling the data. Steps:\n",
    "\n",
    "- Draw multiple samples with replacement from the original data.\n",
    "- Compute the statistic of interest for each sample.\n",
    "- Analyze the distribution of these statistics to estimate confidence intervals and variability."
   ]
  },
  {
   "cell_type": "markdown",
   "metadata": {},
   "source": [
    "Q9. A researcher wants to estimate the mean height of a population of trees. They measure the height of a sample of 50 trees and obtain a mean height of 15 meters and a standard deviation of 2 meters. Use bootstrap to estimate the 95% confidence interval for the population mean height."
   ]
  },
  {
   "cell_type": "code",
   "execution_count": 1,
   "metadata": {},
   "outputs": [
    {
     "data": {
      "text/plain": [
       "(14.654169091964903, 15.911680454889634)"
      ]
     },
     "execution_count": 1,
     "metadata": {},
     "output_type": "execute_result"
    }
   ],
   "source": [
    "import numpy as np\n",
    "\n",
    "np.random.seed(0)\n",
    "sample_means = np.random.normal(15, 2, 50)\n",
    "\n",
    "bootstrap_means = []\n",
    "for _ in range(10000):\n",
    "    bootstrap_sample = np.random.choice(sample_means, size=50, replace=True)\n",
    "    bootstrap_means.append(np.mean(bootstrap_sample))\n",
    "\n",
    "ci_lower, ci_upper = np.percentile(bootstrap_means, [2.5, 97.5])\n",
    "ci_lower, ci_upper\n"
   ]
  },
  {
   "cell_type": "code",
   "execution_count": null,
   "metadata": {},
   "outputs": [],
   "source": []
  }
 ],
 "metadata": {
  "kernelspec": {
   "display_name": "base",
   "language": "python",
   "name": "python3"
  },
  "language_info": {
   "codemirror_mode": {
    "name": "ipython",
    "version": 3
   },
   "file_extension": ".py",
   "mimetype": "text/x-python",
   "name": "python",
   "nbconvert_exporter": "python",
   "pygments_lexer": "ipython3",
   "version": "3.12.4"
  }
 },
 "nbformat": 4,
 "nbformat_minor": 2
}
