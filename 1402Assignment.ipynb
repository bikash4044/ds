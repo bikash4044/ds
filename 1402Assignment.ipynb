{
 "cells": [
  {
   "cell_type": "markdown",
   "metadata": {},
   "source": [
    "Q1. what is multithresding in python?\n",
    "\n",
    "A:\n",
    "Multithreading refers to diving the task into number of subtasks and perform then in an overlapping manner."
   ]
  },
  {
   "cell_type": "markdown",
   "metadata": {},
   "source": [
    "Q2. why is threading module used in python? write the use of following functions:\n",
    "activeCount()\n",
    "currentThread()\n",
    "enumerate()\n",
    "\n",
    "A:\n",
    "threading module in python is used to implement the concept of multithreading.\n",
    "\n",
    "activeCount(): represents number of active threads at the current instance\n",
    "currentThread(): returns the current thread object\n",
    "enumerate(): returns a list of all thread objects currently alive"
   ]
  },
  {
   "cell_type": "markdown",
   "metadata": {},
   "source": [
    "Q3. Explain the functions:\n",
    "\n",
    "run() : execute any target function belonging to a given thread\n",
    "start() : activates a thread object\n",
    "join(): allows the thread to wait until the completion of another\n",
    "isAlive() : represents if a thread is alive or not. returns true just before the run() starts until just after run() terminates"
   ]
  },
  {
   "cell_type": "code",
   "execution_count": 7,
   "metadata": {},
   "outputs": [
    {
     "name": "stdout",
     "output_type": "stream",
     "text": [
      "1\n",
      "1\n",
      "4\n",
      "8\n",
      "9\n",
      "27\n",
      "16\n",
      "64\n",
      "25\n",
      "125\n"
     ]
    }
   ],
   "source": [
    "#Q4 WAP in python t create two threads. thread 1 must print square and thread 2 cubes.\n",
    "\n",
    "import threading\n",
    "\n",
    "l=[1,2,3,4,5]\n",
    "p=[2,3]\n",
    "def powr(ele,x):\n",
    "    print(ele**x)\n",
    "\n",
    "t=[threading.Thread(target = powr, args = (l[i],p[j])) for i in range(len(l)) for j in range(len(p))]\n",
    "\n",
    "for thread1 in t:\n",
    "    thread1.start()"
   ]
  },
  {
   "cell_type": "markdown",
   "metadata": {},
   "source": [
    "Q5. Advantages and disadvantages of multithreading\n",
    "\n",
    "Advantages:\n",
    "1. parallel occurance of tasks\n",
    "1. enhanced performance in reduced time\n",
    "1. better use of cache \n",
    "1. better use of CPU\n",
    "1. saves time\n",
    "\n",
    "Disadvantages:\n",
    "1. complex debugging process\n",
    "1. chances of deadlock\n",
    "1. increased difficulty to write a program\n",
    "1. unpredictable result due to race condition\n"
   ]
  },
  {
   "cell_type": "markdown",
   "metadata": {},
   "source": [
    "Q6. Explain Deadlocks and race conditions\n",
    "\n",
    "A:\n",
    "Deadlocks can be defined as a condition where one or more thread wait for a condition that never occurs.\n",
    "\n",
    "when two or more thread shares a variable, the result depends on the order of program execution. this is called race condition.\n"
   ]
  }
 ],
 "metadata": {
  "kernelspec": {
   "display_name": "Python 3",
   "language": "python",
   "name": "python3"
  },
  "language_info": {
   "codemirror_mode": {
    "name": "ipython",
    "version": 3
   },
   "file_extension": ".py",
   "mimetype": "text/x-python",
   "name": "python",
   "nbconvert_exporter": "python",
   "pygments_lexer": "ipython3",
   "version": "3.10.6"
  }
 },
 "nbformat": 4,
 "nbformat_minor": 2
}
