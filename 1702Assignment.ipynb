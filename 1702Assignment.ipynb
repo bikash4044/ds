{
 "cells": [
  {
   "cell_type": "markdown",
   "id": "084f5385-1e0a-42d7-863a-757e9ae3fb98",
   "metadata": {},
   "source": [
    "Q1. What is MongoDB? Explain non-relational databases in short. In which scenarios it is preferred to use MongoDB over SQL databases?\n",
    "\n",
    "A:\n",
    "mongodb is a nosql based database management system. non-relational database use documents instead of rows and columns of tables to store data. mongodb is preferred over sql where we need dynamic classification and no fixed schema for storing of data."
   ]
  },
  {
   "cell_type": "markdown",
   "id": "bc84efa3-da98-4ae8-b5f2-b90db63bceac",
   "metadata": {},
   "source": [
    "Q2. State and Explain the features of MongoDB.\n",
    "\n",
    "A:\n",
    "Replication: A replica set is two or more MongoDB instances used to provide high availability. Replica sets are made of primary and secondary servers. The primary MongoDB server performs all the read and write operations, while the secondary replica keeps a copy of the data. If a primary replica fails, the secondary replica is then used.\n",
    "\n",
    "Scalability: MongoDB supports vertical and horizontal scaling. Vertical scaling works by adding more power to an existing machine, while horizontal scaling works by adding more machines to a user's resources.\n",
    "\n",
    "Load balancing: MongoDB handles load balancing without the need for a separate, dedicated load balancer, through either vertical or horizontal scaling.\n",
    "\n",
    "Schema-less: MongoDB is a schema-less database, which means the database can manage data without the need for a blueprint.\n",
    "    \n",
    "Document: Data in MongoDB is stored in documents with key-value pairs instead of rows and columns, which makes the data more flexible when compared to SQL databases.\n"
   ]
  },
  {
   "cell_type": "markdown",
   "id": "ee5d2ca2-9d9f-45ca-ad26-ccb657229644",
   "metadata": {},
   "source": [
    "Q3. Write a code to connect MongoDB to Python. Also, create a database and a collection in MongoDB."
   ]
  },
  {
   "cell_type": "code",
   "execution_count": 5,
   "id": "fc660540-68a9-4848-b0d3-6e67b1456db9",
   "metadata": {},
   "outputs": [],
   "source": [
    "from pymongo.mongo_client import MongoClient\n",
    "\n",
    "uri = \"mongodb+srv://private:<password>@cluster0.mgthil9.mongodb.net/?retryWrites=true&w=majority\"\n",
    "\n",
    "# Create a new client and connect to the server\n",
    "client = MongoClient(uri)\n",
    "\n",
    "db = client[\"detabase\"]\n",
    "coll_create = db[\"coll\"]"
   ]
  },
  {
   "cell_type": "markdown",
   "id": "74259a2e-bdb0-40ad-9870-349b6567f300",
   "metadata": {},
   "source": [
    "Q4. Using the database and the collection created in question number 3, write a code to insert one record, and insert many records. Use the find() and find_one() methods to print the inserted record."
   ]
  },
  {
   "cell_type": "code",
   "execution_count": 6,
   "id": "b11bd4c8-6bd6-4f48-bff8-2a25040f0ee0",
   "metadata": {},
   "outputs": [
    {
     "name": "stdout",
     "output_type": "stream",
     "text": [
      "{'_id': ObjectId('6592f3502c351af1be4de4b8'), 'name': 'bikash', 'roll': 2, 'dept': 'lwre'}\n",
      "{'_id': ObjectId('65938f918ab9852ae681e1ca'), 'name': 'amitoj', 'roll': 3, 'dept': 'lwre'}\n",
      "{'_id': ObjectId('659390de8ab9852ae681e1cb'), 'roll': 1, 'name': 'pulakesh'}\n",
      "{'_id': ObjectId('659390de8ab9852ae681e1cc'), 'roll': 4, 'name': 'tony'}\n",
      "{'_id': ObjectId('659390de8ab9852ae681e1cd'), 'roll': 5, 'name': 'rohit'}\n",
      "{'_id': ObjectId('659391ef61554bb394fc4858'), 'name': 'amitoj', 'roll': 3, 'dept': 'lwre'}\n",
      "{'_id': ObjectId('659391f061554bb394fc4859'), 'roll': 1, 'name': 'pulakesh'}\n",
      "{'_id': ObjectId('659391f061554bb394fc485a'), 'roll': 4, 'name': 'tony'}\n",
      "{'_id': ObjectId('659391f061554bb394fc485b'), 'roll': 5, 'name': 'rohit'}\n",
      "printing one record\n"
     ]
    },
    {
     "data": {
      "text/plain": [
       "{'_id': ObjectId('6592f3502c351af1be4de4b8'),\n",
       " 'name': 'bikash',\n",
       " 'roll': 2,\n",
       " 'dept': 'lwre'}"
      ]
     },
     "execution_count": 6,
     "metadata": {},
     "output_type": "execute_result"
    }
   ],
   "source": [
    "data2 = { \n",
    "    \"name\":\"amitoj\",\n",
    "    \"roll\":3,\n",
    "    \"dept\":\"lwre\"\n",
    "}\n",
    "coll_create.insert_one(data2)\n",
    "\n",
    "data3 =  [\n",
    "    {\"roll\":1,\"name\":\"pulakesh\"},\n",
    "    {\"roll\":4,\"name\":\"tony\"},\n",
    "    {\"roll\":5,\"name\":\"rohit\"}\n",
    "]\n",
    "coll_create.insert_many(data3)\n",
    "\n",
    "\n",
    "for i in coll_create.find():\n",
    "    print(i)\n",
    "    \n",
    "print(\"printing one record\")\n",
    "coll_create.find_one()"
   ]
  },
  {
   "cell_type": "markdown",
   "id": "2dea87be-fee9-4d53-b445-3b2e3d14f1a6",
   "metadata": {},
   "source": [
    "Q5. Explain how you can use the find() method to query the MongoDB database. Write a simple code to demonstrate this.\n",
    "\n",
    "A:\n",
    "find() is used with the collection object to iterate over all the records in the database."
   ]
  },
  {
   "cell_type": "code",
   "execution_count": 8,
   "id": "5173cb72-5284-42a0-981b-1130d31998d3",
   "metadata": {},
   "outputs": [
    {
     "name": "stdout",
     "output_type": "stream",
     "text": [
      "{'_id': ObjectId('6592f3502c351af1be4de4b8'), 'name': 'bikash', 'roll': 2, 'dept': 'lwre'}\n"
     ]
    }
   ],
   "source": [
    "for i in coll_create.find({\"roll\":2}):\n",
    "    print(i)"
   ]
  },
  {
   "cell_type": "markdown",
   "id": "ff0a3552-00ff-40c8-8579-4bd32848478e",
   "metadata": {},
   "source": [
    "Q6. Explain the sort() method. Give an example to demonstrate sorting in MongoDB.\n",
    "\n",
    "A:\n",
    "sort() is used in mongodb to sort the query results in ascending or descending order."
   ]
  },
  {
   "cell_type": "code",
   "execution_count": 11,
   "id": "650e8d6f-2794-4678-89a8-95064014cb4e",
   "metadata": {},
   "outputs": [
    {
     "name": "stdout",
     "output_type": "stream",
     "text": [
      "{'_id': ObjectId('659390de8ab9852ae681e1cb'), 'roll': 1, 'name': 'pulakesh'}\n",
      "{'_id': ObjectId('659391f061554bb394fc4859'), 'roll': 1, 'name': 'pulakesh'}\n",
      "{'_id': ObjectId('6592f3502c351af1be4de4b8'), 'name': 'bikash', 'roll': 2, 'dept': 'lwre'}\n",
      "{'_id': ObjectId('65938f918ab9852ae681e1ca'), 'name': 'amitoj', 'roll': 3, 'dept': 'lwre'}\n",
      "{'_id': ObjectId('659391ef61554bb394fc4858'), 'name': 'amitoj', 'roll': 3, 'dept': 'lwre'}\n",
      "{'_id': ObjectId('659390de8ab9852ae681e1cc'), 'roll': 4, 'name': 'tony'}\n",
      "{'_id': ObjectId('659391f061554bb394fc485a'), 'roll': 4, 'name': 'tony'}\n",
      "{'_id': ObjectId('659390de8ab9852ae681e1cd'), 'roll': 5, 'name': 'rohit'}\n",
      "{'_id': ObjectId('659391f061554bb394fc485b'), 'roll': 5, 'name': 'rohit'}\n"
     ]
    }
   ],
   "source": [
    "for i in coll_create.find().sort({\"roll\":1}):\n",
    "    print(i)"
   ]
  },
  {
   "cell_type": "markdown",
   "id": "a2486fac-a4ed-443a-b8c4-539e7618e765",
   "metadata": {},
   "source": [
    "Q7. Explain why delete_one(), delete_many(), and drop() is used.\n",
    "\n",
    "A:\n",
    "delete_one() is used to s delete one specific record.\n",
    "delete_many() is used to delete records using some filter.\n",
    "drop() is used to drop the entire collection."
   ]
  }
 ],
 "metadata": {
  "kernelspec": {
   "display_name": "Python 3 (ipykernel)",
   "language": "python",
   "name": "python3"
  },
  "language_info": {
   "codemirror_mode": {
    "name": "ipython",
    "version": 3
   },
   "file_extension": ".py",
   "mimetype": "text/x-python",
   "name": "python",
   "nbconvert_exporter": "python",
   "pygments_lexer": "ipython3",
   "version": "3.10.8"
  }
 },
 "nbformat": 4,
 "nbformat_minor": 5
}
