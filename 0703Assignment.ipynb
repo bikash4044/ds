{
 "cells": [
  {
   "cell_type": "markdown",
   "metadata": {},
   "source": [
    "Q1. What are the three measures of central tendency?\n",
    "\n",
    "Ans:\n",
    "\n",
    "Mean, mode and median are three measures of central tendency."
   ]
  },
  {
   "cell_type": "markdown",
   "metadata": {},
   "source": [
    "Q2. What is the difference between the mean, median, and mode? How are they used to measure the central tendency of a dataset?\n",
    "\n",
    "Ans:\n",
    "\n",
    "Mean\n",
    "\n",
    "Definition: Arithmetic average of all data points.\n",
    "Calculation: Sum of values divided by the number of values.\n",
    "Characteristics: Affected by outliers, represents overall average.\n",
    "Example: Average test score of students.\n",
    "\n",
    "Median\n",
    "\n",
    "Definition: Middle value in an ordered dataset.\n",
    "Calculation: Odd number of observations: Middle value, Even number of observations: Average of two middle values.\n",
    "Characteristics: Not affected by outliers, better for skewed distributions or ordinal data.\n",
    "Example: Median household income.\n",
    "\n",
    "Mode\n",
    "\n",
    "Definition: Most frequently occurring value.\n",
    "Calculation: Identified by frequency count.\n",
    "Characteristics: Can have multiple values (unimodal, bimodal, multimodal), useful for categorical data.\n",
    "Example: Most common shoe size sold.\n",
    "\n",
    "\n",
    "They are used to mesure the central tendecy of the datasets:\n",
    "Mean: Represents the average value, ideal for symmetrical datasets without outliers.\n",
    "Median: Represents the middle value, preferred for skewed distributions or datasets with outliers.\n",
    "Mode: Identifies the most frequent value, useful for categorical data and identifying common values."
   ]
  },
  {
   "cell_type": "markdown",
   "metadata": {},
   "source": [
    "Q3. Measure the three measures of central tendency for the given height data:\n",
    "[178,177,176,177,178.2,178,175,179,180,175,178.9,176.2,177,172.5,178,176.5]"
   ]
  },
  {
   "cell_type": "code",
   "execution_count": 6,
   "metadata": {},
   "outputs": [
    {
     "name": "stdout",
     "output_type": "stream",
     "text": [
      "Mean: 177.02\n",
      "Median: 177.00\n",
      "Mode: 177.0 (Frequency: 3)\n"
     ]
    }
   ],
   "source": [
    "import numpy as np\n",
    "from scipy import stats\n",
    "\n",
    "heights = [178, 177, 176, 177, 178.2, 178, 175, 179, 180, 175, 178.9, 176.2, 177, 172.5, 178, 176.5]\n",
    "\n",
    "mean_height = np.mean(heights)\n",
    "median_height = np.median(heights)\n",
    "mode_height = stats.mode(heights)\n",
    "\n",
    "print(f\"Mean: {mean_height:.2f}\")\n",
    "print(f\"Median: {median_height:.2f}\")\n",
    "print(f\"Mode: {mode_height.mode} (Frequency: {mode_height.count})\")"
   ]
  },
  {
   "cell_type": "markdown",
   "metadata": {},
   "source": [
    "Q4. Find the standard deviation for the given data:\n",
    "[178,177,176,177,178.2,178,175,179,180,175,178.9,176.2,177,172.5,178,176.5]"
   ]
  },
  {
   "cell_type": "code",
   "execution_count": 7,
   "metadata": {},
   "outputs": [
    {
     "name": "stdout",
     "output_type": "stream",
     "text": [
      "Standard Deviation: 1.79\n"
     ]
    }
   ],
   "source": [
    "import numpy as np\n",
    "\n",
    "heights = [178, 177, 176, 177, 178.2, 178, 175, 179, 180, 175, 178.9, 176.2, 177, 172.5, 178, 176.5]\n",
    "std_deviation = np.std(heights, ddof=0)  # ddof=0 for population standard deviation\n",
    "\n",
    "print(f\"Standard Deviation: {std_deviation:.2f}\")\n"
   ]
  },
  {
   "cell_type": "markdown",
   "metadata": {},
   "source": [
    "Q5. How are measures of dispersion such as range, variance, and standard deviation used to describe the spread of a dataset? Provide an example.\n",
    "\n",
    "Ans:\n",
    "\n",
    "For the dataset [178, 177, 176, 177, 178.2, 178, 175, 179, 180, 175, 178.9, 176.2, 177, 172.5, 178, 176.5]:\n",
    "\n",
    "Range: 7.5\n",
    "Variance: Calculated to understand the average squared deviation.\n",
    "Standard Deviation: Provides the average deviation in the same units as the data, offering a practical insight into data variability.\n",
    "These measures together provide a comprehensive view of the dataset’s spread, helping in understanding data distribution and variability."
   ]
  },
  {
   "cell_type": "markdown",
   "metadata": {},
   "source": [
    "Q6. What is a Venn diagram?\n",
    "\n",
    "Ans:\n",
    "\n",
    "A Venn diagram is a visual tool used to illustrate the relationships between different sets. It uses overlapping circles or other shapes to represent the logical relationships between sets or groups."
   ]
  },
  {
   "cell_type": "markdown",
   "metadata": {},
   "source": [
    "Q7. For the two given sets A = (2,3,4,5,6,7) & B = (0,2,6,8,10). Find:\n",
    "\n",
    "\n",
    "(i) A (intersection) B :(2,6)\n",
    "\n",
    "\n",
    "(ii) A ⋃ B : (0,2,3,4,5,6,7,8,10)"
   ]
  },
  {
   "cell_type": "markdown",
   "metadata": {},
   "source": [
    "Q8. What do you understand about skewness in data?\n",
    "\n",
    "Ans:\n",
    "\n",
    "Skewness refers to the asymmetry or deviation from the normal distribution of a dataset. It measures the extent to which a dataset's distribution deviates from a symmetric bell curve (normal distribution)."
   ]
  },
  {
   "cell_type": "markdown",
   "metadata": {},
   "source": [
    "Q9. If a data is right skewed then what will be the position of median with respect to mean?\n",
    "\n",
    "Ans:\n",
    "\n",
    "In this case, median will be less than the mean, hence will lie left to the mean."
   ]
  },
  {
   "cell_type": "markdown",
   "metadata": {},
   "source": [
    "Q10. Explain the difference between covariance and correlation. How are these measures used in statistical analysis?"
   ]
  },
  {
   "cell_type": "markdown",
   "metadata": {},
   "source": [
    "Ans:\n",
    "\n",
    "Covariance\n",
    "Definition:\n",
    "\n",
    "Measures how two variables change together. Positive covariance indicates that both variables tend to increase or decrease together, while negative covariance indicates that one variable increases as the other decreases.\n",
    "Characteristics:\n",
    "\n",
    "Units: Same as the units of the variables being measured.\n",
    "Magnitude: Not standardized; values can be difficult to interpret alone and are not directly comparable across different datasets or scales.\n",
    "\n",
    "Correlation\n",
    "Definition:\n",
    "\n",
    "Measures both the strength and direction of a linear relationship between two variables. It is a standardized measure, making it easier to interpret.\n",
    "Characteristics:\n",
    "\n",
    "Units: Dimensionless (no units).\n",
    "Range: Values range from -1 to 1.\n",
    "1: Perfect positive linear relationship.\n",
    "-1: Perfect negative linear relationship.\n",
    "0: No linear relationship.\n",
    "\n",
    "\n",
    "Uses in statistical analysis:\n",
    "\n",
    "Covariance: Used to determine the direction of the relationship between variables. For instance, examining whether two financial assets move together in the market.\n",
    "\n",
    "Correlation: Used to measure the strength and direction of the relationship. For example, evaluating the relationship between hours studied and exam scores to see how strongly studying affects scores and in what direction."
   ]
  },
  {
   "cell_type": "markdown",
   "metadata": {},
   "source": [
    "Q11. What is the formula for calculating the sample mean? Provide an example calculation for a dataset.\n",
    "\n",
    "Ans:\n",
    "\n",
    "mean = sum(all data)/(no of data)\n",
    "\n",
    "\n",
    "for (1,2,3,4)\n",
    "mean=(1+2+3+4)/4=2.5"
   ]
  },
  {
   "cell_type": "markdown",
   "metadata": {},
   "source": [
    "Q12. For a normal distribution data what is the relationship between its measure of central tendency?\n",
    "\n",
    "Ans:\n",
    "\n",
    "for a normal distribution, mean=mode=median"
   ]
  },
  {
   "cell_type": "markdown",
   "metadata": {},
   "source": [
    "Q13. How is covariance different from correlation?\n",
    "\n",
    "Ans:\n",
    "\n",
    "Covariance:\n",
    "\n",
    "Measures the degree to which two variables change together.\n",
    "Indicates the direction of the linear relationship between variables.\n",
    "Positive covariance means variables increase together, negative covariance means one variable increases as the other decreases.\n",
    "Has units same as the variables being measured.\n",
    "Not standardized and can take any value.\n",
    "Example: Positive covariance between hours studied and exam scores means more study hours are associated with higher scores.\n",
    "\n",
    "Correlation:\n",
    "\n",
    "Measures both the strength and direction of a linear relationship between two variables.\n",
    "Is dimensionless (no units).\n",
    "Ranges from -1 to 1, where 1 indicates a perfect positive relationship, -1 indicates a perfect negative relationship, and 0 indicates no linear relationship.\n",
    "Provides a standardized measure.\n",
    "Positive correlation means a strong positive relationship, negative correlation means a strong negative relationship.\n",
    "Example: A correlation coefficient of 0.85 between hours studied and exam scores indicates a strong positive linear relationship."
   ]
  },
  {
   "cell_type": "markdown",
   "metadata": {},
   "source": [
    "Q14. How do outliers affect measures of central tendency and dispersion? Provide an example."
   ]
  },
  {
   "cell_type": "markdown",
   "metadata": {},
   "source": [
    "Ans:\n",
    "\n",
    "Mean\n",
    "Effect: Significantly affected by outliers, pulling the mean towards extreme values.\n",
    "Positive Outliers: Increase the mean.\n",
    "Negative Outliers: Decrease the mean.\n",
    "Example: For the dataset [5,7,8,10,100], the mean is \n",
    "(5+7+8+10+100)/5 =26, which is greatly increased by the outlier (100).\n",
    "\n",
    "Median\n",
    "Effect: Less affected by outliers, as it represents the middle value of the dataset.\n",
    "Example: For the dataset [5,7,8,10,100], the median is 8, which remains unchanged by the outlier (100).\n",
    "\n",
    "Mode\n",
    "Effect: Generally unaffected by outliers unless they occur with a frequency that matches or exceeds other values.\n",
    "Example: In the dataset [5,7,7,8,100], the mode is 7. The outlier (100) does not affect the mode.\n",
    "\n",
    "Range\n",
    "Effect: Increases with outliers, as it measures the spread between the minimum and maximum values.\n",
    "Example: For the dataset [5,7,8,10,100], the range is 100−5=95, which is large due to the outlier (100).\n",
    "\n",
    "Variance and Standard Deviation\n",
    "Effect: Both increase with the presence of outliers, reflecting greater dispersion in the data due to the squared deviations from the mean.\n",
    "Example: For the dataset [5,7,8,10,100], variance and standard deviation will be large because of the high deviation caused by the outlier (100)."
   ]
  },
  {
   "cell_type": "markdown",
   "metadata": {},
   "source": []
  }
 ],
 "metadata": {
  "kernelspec": {
   "display_name": "base",
   "language": "python",
   "name": "python3"
  },
  "language_info": {
   "codemirror_mode": {
    "name": "ipython",
    "version": 3
   },
   "file_extension": ".py",
   "mimetype": "text/x-python",
   "name": "python",
   "nbconvert_exporter": "python",
   "pygments_lexer": "ipython3",
   "version": "3.12.4"
  }
 },
 "nbformat": 4,
 "nbformat_minor": 2
}
