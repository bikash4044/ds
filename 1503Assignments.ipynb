{
 "cells": [
  {
   "cell_type": "markdown",
   "metadata": {},
   "source": [
    "Q1: Explain the following with an example:\n",
    "1. Artificial Intelligence\n",
    "2. Machine Learning\n",
    "3. Deep Learning"
   ]
  },
  {
   "cell_type": "markdown",
   "metadata": {},
   "source": [
    "1. Artificial Intelligence (AI)\n",
    "\n",
    "Definition: AI refers to the simulation of human intelligence in machines that are designed to think and act like humans.\n",
    "\n",
    "Example: Virtual Assistants like Siri or Google Assistant, which can understand and respond to user commands.\n",
    "\n",
    "\n",
    "2. Machine Learning (ML)\n",
    "\n",
    "Definition: ML is a subset of AI where systems learn from data to improve their performance over time without being explicitly programmed.\n",
    "\n",
    "Example: Email Spam Filters that learn to classify emails as spam or not spam based on previous examples.\n",
    "\n",
    "\n",
    "3. Deep Learning (DL)\n",
    "\n",
    "Definition: DL is a subset of ML that uses neural networks with many layers (deep neural networks) to model complex patterns in data.\n",
    "\n",
    "Example: Image Recognition systems like those used in Facebook's photo tagging, which can identify people and objects in images."
   ]
  },
  {
   "cell_type": "markdown",
   "metadata": {},
   "source": [
    "\n",
    "Q2: What is supervised learning? List some examples of supervised learning.\n"
   ]
  },
  {
   "cell_type": "markdown",
   "metadata": {},
   "source": [
    "Supervised learning is a type of machine learning where the model is trained on labeled data. The algorithm learns from the input-output pairs to make predictions or decisions based on new, unseen data.\n",
    "E.g: Classifications, Regressions"
   ]
  },
  {
   "cell_type": "markdown",
   "metadata": {},
   "source": [
    "Q3: What is unsupervised learning? List some examples of unsupervised learning.\n"
   ]
  },
  {
   "cell_type": "markdown",
   "metadata": {},
   "source": [
    "Unsupervised learning is a type of machine learning where the model is trained on unlabeled data. The algorithm tries to find hidden patterns or intrinsic structures in the input data without predefined labels or outcomes.\n",
    "E.g: Clustering, Dimensionality Reduction"
   ]
  },
  {
   "cell_type": "markdown",
   "metadata": {},
   "source": [
    "Q4: What is the difference between AI, ML, DL, and DS?"
   ]
  },
  {
   "cell_type": "markdown",
   "metadata": {},
   "source": [
    "Artificial Intelligence (AI)\n",
    "\n",
    "Definition: AI is the broad field of creating systems that can perform tasks that typically require human intelligence. This includes reasoning, learning, problem-solving, and understanding natural language.\n",
    "\n",
    "Scope: Encompasses a wide range of technologies and methods aimed at mimicking human cognitive functions.\n",
    "\n",
    "Example: Virtual assistants like Siri or Google Assistant.\n",
    "\n",
    "\n",
    "Machine Learning (ML)\n",
    "\n",
    "Definition: ML is a subset of AI focused on developing algorithms that allow systems to learn from and make predictions or decisions based on data.\n",
    "\n",
    "Scope: Involves training models on data to improve their performance over time without explicit programming.\n",
    "\n",
    "Example: Email spam filters that learn to classify emails based on previous data.\n",
    "\n",
    "\n",
    "Deep Learning (DL)\n",
    "\n",
    "Definition: DL is a subset of ML that uses neural networks with many layers (deep neural networks) to model complex patterns and relationships in data.\n",
    "\n",
    "Scope: Specifically designed for handling large amounts of data and complex problems, often requiring significant computational resources.\n",
    "\n",
    "Example: Image recognition systems that can identify objects in photos.\n",
    "\n",
    "\n",
    "Data Science (DS)\n",
    "\n",
    "Definition: DS is a multidisciplinary field that combines statistics, data analysis, and machine learning to extract insights and knowledge from data.\n",
    "\n",
    "Scope: Focuses on the entire process of data collection, processing, analysis, and visualization to inform decision-making.\n",
    "\n",
    "Example: Analyzing customer data to generate actionable business insights and predictive models."
   ]
  },
  {
   "cell_type": "markdown",
   "metadata": {},
   "source": [
    "Q5: What are the main differences between supervised, unsupervised, and semi-supervised learning?\n"
   ]
  },
  {
   "cell_type": "markdown",
   "metadata": {},
   "source": [
    "Supervised Learning\n",
    "\n",
    "Definition: Machine learning where models are trained on labeled data. The algorithm learns to map inputs to outputs using known examples. \n",
    "\n",
    "Data: Uses input-output pairs (labeled data).\n",
    "\n",
    "Goal: Predict or classify new, unseen data based on the learned relationships.\n",
    "\n",
    "\n",
    "Unsupervised Learning\n",
    "\n",
    "Definition: Machine learning where models are trained on unlabeled data. The algorithm identifies patterns or structures in the data without predefined outcomes.\n",
    "\n",
    "Data: Uses only input data without output labels (unlabeled data).\n",
    "\n",
    "Goal: Discover hidden patterns or groupings within the data.\n",
    "\n",
    "\n",
    "Semi-Supervised Learning\n",
    "\n",
    "Definition: Machine learning that uses a combination of labeled and unlabeled data for training. It typically involves a small amount of labeled data and a large amount of unlabeled data.\n",
    "\n",
    "Data: Mix of labeled and unlabeled data.\n",
    "\n",
    "Goal: Improve learning accuracy by leveraging the additional unlabeled data along with the limited labeled examples."
   ]
  },
  {
   "cell_type": "markdown",
   "metadata": {},
   "source": [
    "Q6: What is train, test and validation split? Explain the importance of each term.\n"
   ]
  },
  {
   "cell_type": "markdown",
   "metadata": {},
   "source": [
    "Training Set:\n",
    "\n",
    "Definition: The portion of the dataset used to train the machine learning model. The model learns patterns and relationships from this data.\n",
    "\n",
    "Importance: Essential for teaching the model how to make predictions or classifications. It forms the basis for model learning.\n",
    "\n",
    "\n",
    "Validation Set:\n",
    "\n",
    "Definition: A separate portion of the dataset used to tune hyperparameters and evaluate the model's performance during training. It helps in selecting the best model configuration.\n",
    "\n",
    "Importance: Crucial for fine-tuning the model and avoiding overfitting by providing feedback on model performance on data it hasn't seen during training. It helps in choosing the best model settings before final evaluation.\n",
    "\n",
    "\n",
    "Test Set:\n",
    "\n",
    "Definition: The portion of the dataset that is held back and not used during training or validation. It is used to evaluate the final performance of the model.\n",
    "\n",
    "Importance: Provides an unbiased estimate of the model's performance on new, unseen data. It helps in assessing how well the model generalizes to real-world scenarios."
   ]
  },
  {
   "cell_type": "markdown",
   "metadata": {},
   "source": [
    "Q7: How can unsupervised learning be used in anomaly detection?\n",
    "\n",
    "Ans:\n",
    "\n",
    "Clustering:\n",
    "\n",
    "How It Works: Groups similar data points together. Anomalies are detected as points that do not fit well into any cluster or are far from the cluster centroids.\n",
    "\n",
    "Example: Using K-means clustering, data points that are distant from the centroids of any cluster are considered anomalies.\n",
    "\n",
    "\n",
    "Dimensionality Reduction:\n",
    "\n",
    "How It Works: Reduces the number of features in the data while preserving the structure. Anomalies are detected as points that fall far from the normal data distribution in the reduced space.\n",
    "\n",
    "Example: Using Principal Component Analysis (PCA), points with extreme values in the principal components can be identified as anomalies.\n",
    "\n",
    "\n",
    "Statistical Methods:\n",
    "\n",
    "How It Works: Models the distribution of data points. Data points that fall outside the expected distribution range are flagged as anomalies.\n",
    "\n",
    "Example: Using Gaussian distribution, data points with a low probability density (e.g., beyond a certain number of standard deviations from the mean) are considered anomalies."
   ]
  },
  {
   "cell_type": "markdown",
   "metadata": {},
   "source": [
    "Q8: List down some commonly used supervised learning algorithms and unsupervised learning algorithms.\n",
    "\n",
    "Ans:\n",
    "\n",
    "Supervised Learning Algorithms\n",
    "\n",
    "Linear Regression, Ridge Regression, Logistic Regression, Decision Trees, Random Forests, Support Vector Machines (SVM), k-Nearest Neighbors (k-NN), Naive Bayes\n",
    "\n",
    "Unsupervised Learning Algorithms\n",
    "\n",
    "k-Means Clustering, Hierarchical Clustering, DBSCAN, Principal Component Analysis (PCA), t-Distributed Stochastic Neighbor Embedding (t-SNE), Apriori Algorithm, Eclat Algorithm"
   ]
  },
  {
   "cell_type": "markdown",
   "metadata": {},
   "source": []
  }
 ],
 "metadata": {
  "language_info": {
   "name": "python"
  }
 },
 "nbformat": 4,
 "nbformat_minor": 2
}
