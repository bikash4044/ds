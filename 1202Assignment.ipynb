{
 "cells": [
  {
   "cell_type": "markdown",
   "metadata": {},
   "source": [
    "Q1. what is exception in python? how is it different from syntax error?\n",
    "\n",
    "A: Exception is a condition that prevent th normal flow of program. the difference between exception and syntax error is that, syntax error typically occur during compilation of program i.e while coding, but exception occurs during running the prgram."
   ]
  },
  {
   "cell_type": "code",
   "execution_count": 1,
   "metadata": {},
   "outputs": [
    {
     "ename": "ZeroDivisionError",
     "evalue": "division by zero",
     "output_type": "error",
     "traceback": [
      "\u001b[1;31m---------------------------------------------------------------------------\u001b[0m",
      "\u001b[1;31mZeroDivisionError\u001b[0m                         Traceback (most recent call last)",
      "Cell \u001b[1;32mIn[1], line 5\u001b[0m\n\u001b[0;32m      1\u001b[0m \u001b[38;5;66;03m#Q2. What happens when an exception is not handled? explain with an example.\u001b[39;00m\n\u001b[0;32m      2\u001b[0m \n\u001b[0;32m      3\u001b[0m \u001b[38;5;66;03m#if the exception is not handled, it abort the program during runtime and throws an exception error.\u001b[39;00m\n\u001b[1;32m----> 5\u001b[0m \u001b[38;5;28mprint\u001b[39m(\u001b[38;5;241;43m0\u001b[39;49m\u001b[38;5;241;43m/\u001b[39;49m\u001b[38;5;241;43m0\u001b[39;49m)\n",
      "\u001b[1;31mZeroDivisionError\u001b[0m: division by zero"
     ]
    }
   ],
   "source": [
    "#Q2. What happens when an exception is not handled? explain with an example.\n",
    "\n",
    "#if the exception is not handled, it abort the program during runtime and throws an exception error.\n",
    "\n",
    "print(0/0)"
   ]
  },
  {
   "cell_type": "code",
   "execution_count": 2,
   "metadata": {},
   "outputs": [
    {
     "name": "stdout",
     "output_type": "stream",
     "text": [
      "mismatch in data type\n"
     ]
    }
   ],
   "source": [
    "#Q3. which python statement are used to catch and handle exception? explain with example.\n",
    "\n",
    "x = 12\n",
    "y = \"12th\"\n",
    "try:\n",
    "    z = x + y\n",
    "except TypeError:\n",
    "    print(\"mismatch in data type\")"
   ]
  },
  {
   "cell_type": "markdown",
   "metadata": {},
   "source": [
    "Q4. explain\n",
    "a. try and else\n",
    "b. finally\n",
    "c. raise\n",
    "\n",
    "A:\n",
    "a. try and else\n",
    "try block test the code, if any found is handled by except block. if not, else block handles the part.\n",
    "\n",
    "b. finally\n",
    "when the try....except....else block is over, the finally part is executed.\n",
    "\n",
    "c. raise\n",
    "raise Exception(\"error message\") is used to raise an custom exception.\n"
   ]
  },
  {
   "cell_type": "markdown",
   "metadata": {},
   "source": [
    "Q5. what are custom exception in python? why do we need these? explain with example.\n",
    "\n",
    "custom exceptions are the exceptions that are not in-nuilt to the language but are created exclusively for the program/application. \n",
    "\n",
    "These come into action, when there is a chance of error data being input. to prevent any runtime error, we use custom exception.\n",
    "\n",
    "\n"
   ]
  },
  {
   "cell_type": "code",
   "execution_count": 3,
   "metadata": {},
   "outputs": [
    {
     "name": "stdout",
     "output_type": "stream",
     "text": [
      "worker detected.\n",
      "worker detected.\n",
      "worker detected.\n"
     ]
    },
    {
     "ename": "Exception",
     "evalue": "Owner can not be listed under worker",
     "output_type": "error",
     "traceback": [
      "\u001b[1;31m---------------------------------------------------------------------------\u001b[0m",
      "\u001b[1;31mException\u001b[0m                                 Traceback (most recent call last)",
      "Cell \u001b[1;32mIn[3], line 6\u001b[0m\n\u001b[0;32m      4\u001b[0m \u001b[38;5;28;01mfor\u001b[39;00m i \u001b[38;5;129;01min\u001b[39;00m workers:\n\u001b[0;32m      5\u001b[0m     \u001b[38;5;28;01mif\u001b[39;00m i\u001b[38;5;241m==\u001b[39mowner:\n\u001b[1;32m----> 6\u001b[0m         \u001b[38;5;28;01mraise\u001b[39;00m \u001b[38;5;167;01mException\u001b[39;00m(\u001b[38;5;124m\"\u001b[39m\u001b[38;5;124mOwner can not be listed under worker\u001b[39m\u001b[38;5;124m\"\u001b[39m)\n\u001b[0;32m      7\u001b[0m     \u001b[38;5;28;01melse\u001b[39;00m:\n\u001b[0;32m      8\u001b[0m         \u001b[38;5;28mprint\u001b[39m(\u001b[38;5;124m\"\u001b[39m\u001b[38;5;124mworker detected.\u001b[39m\u001b[38;5;124m\"\u001b[39m)\n",
      "\u001b[1;31mException\u001b[0m: Owner can not be listed under worker"
     ]
    }
   ],
   "source": [
    "workers=[\"mohan\",\"madan\",\"ram\",\"raaj\"]\n",
    "owner=\"raaj\"\n",
    "\n",
    "for i in workers:\n",
    "    if i==owner:\n",
    "        raise Exception(\"Owner can not be listed under worker\")\n",
    "    else:\n",
    "        print(\"worker detected.\")"
   ]
  },
  {
   "cell_type": "code",
   "execution_count": 5,
   "metadata": {},
   "outputs": [
    {
     "name": "stdout",
     "output_type": "stream",
     "text": [
      "Exception occurred: Invalid Age\n"
     ]
    }
   ],
   "source": [
    "#Q6. create a custom exception class. use the same to handle exception.\n",
    "\n",
    "class InvalidAgeException(Exception):\n",
    "    \"Raised when the input value is less than 18\"\n",
    "    pass\n",
    "\n",
    "# input 12\n",
    "number = 18\n",
    "\n",
    "try:\n",
    "    input_num = int(input(\"Enter a number: \"))\n",
    "    if input_num < number:\n",
    "        raise InvalidAgeException\n",
    "    else:\n",
    "        print(\"Eligible to Vote\")\n",
    "        \n",
    "except InvalidAgeException:\n",
    "    print(\"Exception occurred: Invalid Age\")"
   ]
  }
 ],
 "metadata": {
  "kernelspec": {
   "display_name": "Python 3",
   "language": "python",
   "name": "python3"
  },
  "language_info": {
   "codemirror_mode": {
    "name": "ipython",
    "version": 3
   },
   "file_extension": ".py",
   "mimetype": "text/x-python",
   "name": "python",
   "nbconvert_exporter": "python",
   "pygments_lexer": "ipython3",
   "version": "3.10.6"
  }
 },
 "nbformat": 4,
 "nbformat_minor": 2
}
