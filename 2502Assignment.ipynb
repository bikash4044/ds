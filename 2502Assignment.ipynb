{
 "cells": [
  {
   "cell_type": "markdown",
   "id": "11e7625b-4c4a-48cd-a476-f33a69da24d0",
   "metadata": {},
   "source": [
    "### Consider following code to answer further questions:\n",
    "```\n",
    "import pandas as pd\n",
    "course_name = ['Data Science', 'Machine Learning', 'Big Data', 'Data Engineer']\n",
    "duration = [2,3,6,4]\n",
    "df = pd.DataFrame(data = {'course_name' : course_name, 'duration' : duration})\n",
    "```"
   ]
  },
  {
   "cell_type": "code",
   "execution_count": 1,
   "id": "3a5e1c66-fb87-4b16-9dc2-63eadc24e458",
   "metadata": {},
   "outputs": [],
   "source": [
    "import pandas as pd\n",
    "course_name = ['Data Science', 'Machine Learning', 'Big Data', 'Data Engineer']\n",
    "duration = [2,3,6,4]\n",
    "df = pd.DataFrame(data = {'course_name' : course_name, 'duration' : duration})"
   ]
  },
  {
   "cell_type": "markdown",
   "id": "ed099347-fc6d-41dd-8c11-0c912409a4de",
   "metadata": {},
   "source": [
    "### Q1. Write a code to print the data present in the second row of the dataframe, df."
   ]
  },
  {
   "cell_type": "code",
   "execution_count": 2,
   "id": "a503c170-6f3f-4c00-97a8-0df36e688fa6",
   "metadata": {},
   "outputs": [
    {
     "data": {
      "text/plain": [
       "course_name    Machine Learning\n",
       "duration                      3\n",
       "Name: 1, dtype: object"
      ]
     },
     "execution_count": 2,
     "metadata": {},
     "output_type": "execute_result"
    }
   ],
   "source": [
    "df.loc[df.index[1]]"
   ]
  },
  {
   "cell_type": "markdown",
   "id": "f3fbbd72-ff51-42ed-a955-fcbd04977ec3",
   "metadata": {},
   "source": [
    "### Q2. What is the difference between the functions loc and iloc in pandas.DataFrame?\n",
    "\n",
    "#### A: loc and iloc are basically used to iterate through the dataframe. The key difference between them is loc uses actual index i.e the labels, whereas  iloc uses numeric indexing i.e 0:size-1:1. loc support slicing which includes the last element, but  slicing using iloc excludes the last element just like the list slicing."
   ]
  },
  {
   "cell_type": "markdown",
   "id": "33fd9497-0540-4581-b719-8f497b0474f6",
   "metadata": {},
   "source": [
    "### Q3. Reindex the given dataframe using a variable, reindex = [3,0,1,2] and store it in the variable, new_df then find the output for both new_df.loc[2] and new_df.iloc[2].\n",
    "### Did you observe any difference in both the outputs? If so then explain it. Consider the below code to answer further questions:\n",
    "```\n",
    "import pandas as pd\n",
    "import numpy as np\n",
    "columns = ['column_1', 'column_2', 'column_3', 'column_4', 'column_5', 'column_6']\n",
    "indices = [1,2,3,4,5,6]\n",
    "#Creating a dataframe:\n",
    "df1 = pd.DataFrame(np.random.rand(6,6), columns = columns, index = indices)\n",
    "```"
   ]
  },
  {
   "cell_type": "code",
   "execution_count": 2,
   "id": "4a317bd9-2170-429a-9a60-b04b818778db",
   "metadata": {},
   "outputs": [
    {
     "data": {
      "text/html": [
       "<div>\n",
       "<style scoped>\n",
       "    .dataframe tbody tr th:only-of-type {\n",
       "        vertical-align: middle;\n",
       "    }\n",
       "\n",
       "    .dataframe tbody tr th {\n",
       "        vertical-align: top;\n",
       "    }\n",
       "\n",
       "    .dataframe thead th {\n",
       "        text-align: right;\n",
       "    }\n",
       "</style>\n",
       "<table border=\"1\" class=\"dataframe\">\n",
       "  <thead>\n",
       "    <tr style=\"text-align: right;\">\n",
       "      <th></th>\n",
       "      <th>column_1</th>\n",
       "      <th>column_2</th>\n",
       "      <th>column_3</th>\n",
       "      <th>column_4</th>\n",
       "      <th>column_5</th>\n",
       "      <th>column_6</th>\n",
       "    </tr>\n",
       "  </thead>\n",
       "  <tbody>\n",
       "    <tr>\n",
       "      <th>1</th>\n",
       "      <td>0.793349</td>\n",
       "      <td>0.435292</td>\n",
       "      <td>0.435712</td>\n",
       "      <td>0.866079</td>\n",
       "      <td>0.637424</td>\n",
       "      <td>0.726103</td>\n",
       "    </tr>\n",
       "    <tr>\n",
       "      <th>2</th>\n",
       "      <td>0.927532</td>\n",
       "      <td>0.429108</td>\n",
       "      <td>0.250800</td>\n",
       "      <td>0.196534</td>\n",
       "      <td>0.089790</td>\n",
       "      <td>0.593313</td>\n",
       "    </tr>\n",
       "    <tr>\n",
       "      <th>3</th>\n",
       "      <td>0.208057</td>\n",
       "      <td>0.209901</td>\n",
       "      <td>0.925103</td>\n",
       "      <td>0.383031</td>\n",
       "      <td>0.650378</td>\n",
       "      <td>0.209212</td>\n",
       "    </tr>\n",
       "    <tr>\n",
       "      <th>4</th>\n",
       "      <td>0.568562</td>\n",
       "      <td>0.329990</td>\n",
       "      <td>0.439435</td>\n",
       "      <td>0.658371</td>\n",
       "      <td>0.407624</td>\n",
       "      <td>0.194459</td>\n",
       "    </tr>\n",
       "    <tr>\n",
       "      <th>5</th>\n",
       "      <td>0.102600</td>\n",
       "      <td>0.389616</td>\n",
       "      <td>0.182231</td>\n",
       "      <td>0.347440</td>\n",
       "      <td>0.356106</td>\n",
       "      <td>0.078497</td>\n",
       "    </tr>\n",
       "    <tr>\n",
       "      <th>6</th>\n",
       "      <td>0.907871</td>\n",
       "      <td>0.209053</td>\n",
       "      <td>0.523593</td>\n",
       "      <td>0.846713</td>\n",
       "      <td>0.390855</td>\n",
       "      <td>0.470861</td>\n",
       "    </tr>\n",
       "  </tbody>\n",
       "</table>\n",
       "</div>"
      ],
      "text/plain": [
       "   column_1  column_2  column_3  column_4  column_5  column_6\n",
       "1  0.793349  0.435292  0.435712  0.866079  0.637424  0.726103\n",
       "2  0.927532  0.429108  0.250800  0.196534  0.089790  0.593313\n",
       "3  0.208057  0.209901  0.925103  0.383031  0.650378  0.209212\n",
       "4  0.568562  0.329990  0.439435  0.658371  0.407624  0.194459\n",
       "5  0.102600  0.389616  0.182231  0.347440  0.356106  0.078497\n",
       "6  0.907871  0.209053  0.523593  0.846713  0.390855  0.470861"
      ]
     },
     "execution_count": 2,
     "metadata": {},
     "output_type": "execute_result"
    }
   ],
   "source": [
    "import pandas as pd\n",
    "import numpy as np\n",
    "columns = ['column_1', 'column_2', 'column_3', 'column_4', 'column_5', 'column_6']\n",
    "indices = [1,2,3,4,5,6]\n",
    "#Creating a dataframe:\n",
    "df1 = pd.DataFrame(np.random.rand(6,6), columns = columns, index = indices)\n",
    "df1"
   ]
  },
  {
   "cell_type": "code",
   "execution_count": 4,
   "id": "944ee664-d7d5-4512-9f86-1820de0b0ef5",
   "metadata": {},
   "outputs": [
    {
     "data": {
      "text/html": [
       "<div>\n",
       "<style scoped>\n",
       "    .dataframe tbody tr th:only-of-type {\n",
       "        vertical-align: middle;\n",
       "    }\n",
       "\n",
       "    .dataframe tbody tr th {\n",
       "        vertical-align: top;\n",
       "    }\n",
       "\n",
       "    .dataframe thead th {\n",
       "        text-align: right;\n",
       "    }\n",
       "</style>\n",
       "<table border=\"1\" class=\"dataframe\">\n",
       "  <thead>\n",
       "    <tr style=\"text-align: right;\">\n",
       "      <th></th>\n",
       "      <th>column_1</th>\n",
       "      <th>column_2</th>\n",
       "      <th>column_3</th>\n",
       "      <th>column_4</th>\n",
       "      <th>column_5</th>\n",
       "      <th>column_6</th>\n",
       "    </tr>\n",
       "  </thead>\n",
       "  <tbody>\n",
       "    <tr>\n",
       "      <th>3</th>\n",
       "      <td>0.208057</td>\n",
       "      <td>0.209901</td>\n",
       "      <td>0.925103</td>\n",
       "      <td>0.383031</td>\n",
       "      <td>0.650378</td>\n",
       "      <td>0.209212</td>\n",
       "    </tr>\n",
       "    <tr>\n",
       "      <th>0</th>\n",
       "      <td>NaN</td>\n",
       "      <td>NaN</td>\n",
       "      <td>NaN</td>\n",
       "      <td>NaN</td>\n",
       "      <td>NaN</td>\n",
       "      <td>NaN</td>\n",
       "    </tr>\n",
       "    <tr>\n",
       "      <th>1</th>\n",
       "      <td>0.793349</td>\n",
       "      <td>0.435292</td>\n",
       "      <td>0.435712</td>\n",
       "      <td>0.866079</td>\n",
       "      <td>0.637424</td>\n",
       "      <td>0.726103</td>\n",
       "    </tr>\n",
       "    <tr>\n",
       "      <th>2</th>\n",
       "      <td>0.927532</td>\n",
       "      <td>0.429108</td>\n",
       "      <td>0.250800</td>\n",
       "      <td>0.196534</td>\n",
       "      <td>0.089790</td>\n",
       "      <td>0.593313</td>\n",
       "    </tr>\n",
       "  </tbody>\n",
       "</table>\n",
       "</div>"
      ],
      "text/plain": [
       "   column_1  column_2  column_3  column_4  column_5  column_6\n",
       "3  0.208057  0.209901  0.925103  0.383031  0.650378  0.209212\n",
       "0       NaN       NaN       NaN       NaN       NaN       NaN\n",
       "1  0.793349  0.435292  0.435712  0.866079  0.637424  0.726103\n",
       "2  0.927532  0.429108  0.250800  0.196534  0.089790  0.593313"
      ]
     },
     "execution_count": 4,
     "metadata": {},
     "output_type": "execute_result"
    }
   ],
   "source": [
    "new_df = df1.reindex([3,0,1,2])\n",
    "new_df"
   ]
  },
  {
   "cell_type": "code",
   "execution_count": 5,
   "id": "f2274cdc-b314-463f-af5f-1efb07c5990d",
   "metadata": {},
   "outputs": [
    {
     "data": {
      "text/plain": [
       "column_1    0.927532\n",
       "column_2    0.429108\n",
       "column_3    0.250800\n",
       "column_4    0.196534\n",
       "column_5    0.089790\n",
       "column_6    0.593313\n",
       "Name: 2, dtype: float64"
      ]
     },
     "execution_count": 5,
     "metadata": {},
     "output_type": "execute_result"
    }
   ],
   "source": [
    "new_df.loc[2]"
   ]
  },
  {
   "cell_type": "code",
   "execution_count": 6,
   "id": "734c551a-e985-4eb9-88c7-478e60cb900c",
   "metadata": {},
   "outputs": [
    {
     "data": {
      "text/plain": [
       "column_1    0.793349\n",
       "column_2    0.435292\n",
       "column_3    0.435712\n",
       "column_4    0.866079\n",
       "column_5    0.637424\n",
       "column_6    0.726103\n",
       "Name: 1, dtype: float64"
      ]
     },
     "execution_count": 6,
     "metadata": {},
     "output_type": "execute_result"
    }
   ],
   "source": [
    "new_df.iloc[2]"
   ]
  },
  {
   "cell_type": "markdown",
   "id": "a2774a1f-aa6a-4520-bb02-636a45c76fdf",
   "metadata": {},
   "source": [
    "As observed in the scenario, loc[ ] returned the row with index=2, but iloc[ ] returned the 3rd row. Hence, loc[ ] follows label based indexing, and iloc[ ] follows numeric indexing i.e whole number."
   ]
  },
  {
   "cell_type": "markdown",
   "id": "07543f64-bd0d-4d0e-ac6d-2e8bbd682a8e",
   "metadata": {},
   "source": [
    "### Q4. Write a code to find the following statistical measurements for the above dataframe df1:\n",
    "### (i) mean of each and every column present in the dataframe.\n",
    "### (ii) standard deviation of column, ‘column_2’"
   ]
  },
  {
   "cell_type": "code",
   "execution_count": 15,
   "id": "2211b7d7-f077-448f-bf16-b192df41d591",
   "metadata": {},
   "outputs": [
    {
     "data": {
      "text/plain": [
       "column_1    0.584662\n",
       "column_2    0.333827\n",
       "column_3    0.459479\n",
       "column_4    0.549694\n",
       "column_5    0.422030\n",
       "column_6    0.378741\n",
       "Name: mean, dtype: float64"
      ]
     },
     "execution_count": 15,
     "metadata": {},
     "output_type": "execute_result"
    }
   ],
   "source": [
    "df1.describe().loc[\"mean\"]"
   ]
  },
  {
   "cell_type": "code",
   "execution_count": 16,
   "id": "563c491d-40cd-4f4e-844a-379437f0e953",
   "metadata": {},
   "outputs": [
    {
     "data": {
      "text/plain": [
       "0.10337038121847154"
      ]
     },
     "execution_count": 16,
     "metadata": {},
     "output_type": "execute_result"
    }
   ],
   "source": [
    "df1[\"column_2\"].describe()[\"std\"]"
   ]
  },
  {
   "cell_type": "markdown",
   "id": "dcb310aa-ff78-4732-9d86-fa758ef3e8c7",
   "metadata": {},
   "source": [
    "### Q5. Replace the data present in the second row of column, ‘column_2’ by a string variable then find the mean of column, column_2.\n",
    "### If you are getting errors in executing it then explain why.\n",
    "[Hint: To replace the data use df1.loc[] and equate this to string data of your choice.]"
   ]
  },
  {
   "cell_type": "code",
   "execution_count": 24,
   "id": "829b01d8-c6e3-4aee-95cd-c8c56ba97b1c",
   "metadata": {},
   "outputs": [
    {
     "data": {
      "text/html": [
       "<div>\n",
       "<style scoped>\n",
       "    .dataframe tbody tr th:only-of-type {\n",
       "        vertical-align: middle;\n",
       "    }\n",
       "\n",
       "    .dataframe tbody tr th {\n",
       "        vertical-align: top;\n",
       "    }\n",
       "\n",
       "    .dataframe thead th {\n",
       "        text-align: right;\n",
       "    }\n",
       "</style>\n",
       "<table border=\"1\" class=\"dataframe\">\n",
       "  <thead>\n",
       "    <tr style=\"text-align: right;\">\n",
       "      <th></th>\n",
       "      <th>column_1</th>\n",
       "      <th>column_2</th>\n",
       "      <th>column_3</th>\n",
       "      <th>column_4</th>\n",
       "      <th>column_5</th>\n",
       "      <th>column_6</th>\n",
       "    </tr>\n",
       "  </thead>\n",
       "  <tbody>\n",
       "    <tr>\n",
       "      <th>1</th>\n",
       "      <td>0.793349</td>\n",
       "      <td>hello</td>\n",
       "      <td>0.435712</td>\n",
       "      <td>0.866079</td>\n",
       "      <td>0.637424</td>\n",
       "      <td>0.726103</td>\n",
       "    </tr>\n",
       "    <tr>\n",
       "      <th>2</th>\n",
       "      <td>0.927532</td>\n",
       "      <td>0.429108</td>\n",
       "      <td>0.250800</td>\n",
       "      <td>0.196534</td>\n",
       "      <td>0.089790</td>\n",
       "      <td>0.593313</td>\n",
       "    </tr>\n",
       "    <tr>\n",
       "      <th>3</th>\n",
       "      <td>0.208057</td>\n",
       "      <td>0.209901</td>\n",
       "      <td>0.925103</td>\n",
       "      <td>0.383031</td>\n",
       "      <td>0.650378</td>\n",
       "      <td>0.209212</td>\n",
       "    </tr>\n",
       "    <tr>\n",
       "      <th>4</th>\n",
       "      <td>0.568562</td>\n",
       "      <td>0.32999</td>\n",
       "      <td>0.439435</td>\n",
       "      <td>0.658371</td>\n",
       "      <td>0.407624</td>\n",
       "      <td>0.194459</td>\n",
       "    </tr>\n",
       "    <tr>\n",
       "      <th>5</th>\n",
       "      <td>0.102600</td>\n",
       "      <td>0.389616</td>\n",
       "      <td>0.182231</td>\n",
       "      <td>0.347440</td>\n",
       "      <td>0.356106</td>\n",
       "      <td>0.078497</td>\n",
       "    </tr>\n",
       "    <tr>\n",
       "      <th>6</th>\n",
       "      <td>0.907871</td>\n",
       "      <td>0.209053</td>\n",
       "      <td>0.523593</td>\n",
       "      <td>0.846713</td>\n",
       "      <td>0.390855</td>\n",
       "      <td>0.470861</td>\n",
       "    </tr>\n",
       "  </tbody>\n",
       "</table>\n",
       "</div>"
      ],
      "text/plain": [
       "   column_1  column_2  column_3  column_4  column_5  column_6\n",
       "1  0.793349     hello  0.435712  0.866079  0.637424  0.726103\n",
       "2  0.927532  0.429108  0.250800  0.196534  0.089790  0.593313\n",
       "3  0.208057  0.209901  0.925103  0.383031  0.650378  0.209212\n",
       "4  0.568562   0.32999  0.439435  0.658371  0.407624  0.194459\n",
       "5  0.102600  0.389616  0.182231  0.347440  0.356106  0.078497\n",
       "6  0.907871  0.209053  0.523593  0.846713  0.390855  0.470861"
      ]
     },
     "execution_count": 24,
     "metadata": {},
     "output_type": "execute_result"
    }
   ],
   "source": [
    "df1[\"column_2\"].loc[1]=\"hello\"\n",
    "df1"
   ]
  },
  {
   "cell_type": "code",
   "execution_count": 25,
   "id": "9fb4065d-2203-4089-947b-02b467969d9b",
   "metadata": {},
   "outputs": [
    {
     "data": {
      "text/html": [
       "<div>\n",
       "<style scoped>\n",
       "    .dataframe tbody tr th:only-of-type {\n",
       "        vertical-align: middle;\n",
       "    }\n",
       "\n",
       "    .dataframe tbody tr th {\n",
       "        vertical-align: top;\n",
       "    }\n",
       "\n",
       "    .dataframe thead th {\n",
       "        text-align: right;\n",
       "    }\n",
       "</style>\n",
       "<table border=\"1\" class=\"dataframe\">\n",
       "  <thead>\n",
       "    <tr style=\"text-align: right;\">\n",
       "      <th></th>\n",
       "      <th>column_1</th>\n",
       "      <th>column_3</th>\n",
       "      <th>column_4</th>\n",
       "      <th>column_5</th>\n",
       "      <th>column_6</th>\n",
       "    </tr>\n",
       "  </thead>\n",
       "  <tbody>\n",
       "    <tr>\n",
       "      <th>count</th>\n",
       "      <td>6.000000</td>\n",
       "      <td>6.000000</td>\n",
       "      <td>6.000000</td>\n",
       "      <td>6.000000</td>\n",
       "      <td>6.000000</td>\n",
       "    </tr>\n",
       "    <tr>\n",
       "      <th>mean</th>\n",
       "      <td>0.584662</td>\n",
       "      <td>0.459479</td>\n",
       "      <td>0.549694</td>\n",
       "      <td>0.422030</td>\n",
       "      <td>0.378741</td>\n",
       "    </tr>\n",
       "    <tr>\n",
       "      <th>std</th>\n",
       "      <td>0.357784</td>\n",
       "      <td>0.261647</td>\n",
       "      <td>0.280548</td>\n",
       "      <td>0.207097</td>\n",
       "      <td>0.256138</td>\n",
       "    </tr>\n",
       "    <tr>\n",
       "      <th>min</th>\n",
       "      <td>0.102600</td>\n",
       "      <td>0.182231</td>\n",
       "      <td>0.196534</td>\n",
       "      <td>0.089790</td>\n",
       "      <td>0.078497</td>\n",
       "    </tr>\n",
       "    <tr>\n",
       "      <th>25%</th>\n",
       "      <td>0.298183</td>\n",
       "      <td>0.297028</td>\n",
       "      <td>0.356338</td>\n",
       "      <td>0.364793</td>\n",
       "      <td>0.198147</td>\n",
       "    </tr>\n",
       "    <tr>\n",
       "      <th>50%</th>\n",
       "      <td>0.680956</td>\n",
       "      <td>0.437574</td>\n",
       "      <td>0.520701</td>\n",
       "      <td>0.399240</td>\n",
       "      <td>0.340036</td>\n",
       "    </tr>\n",
       "    <tr>\n",
       "      <th>75%</th>\n",
       "      <td>0.879240</td>\n",
       "      <td>0.502553</td>\n",
       "      <td>0.799627</td>\n",
       "      <td>0.579974</td>\n",
       "      <td>0.562700</td>\n",
       "    </tr>\n",
       "    <tr>\n",
       "      <th>max</th>\n",
       "      <td>0.927532</td>\n",
       "      <td>0.925103</td>\n",
       "      <td>0.866079</td>\n",
       "      <td>0.650378</td>\n",
       "      <td>0.726103</td>\n",
       "    </tr>\n",
       "  </tbody>\n",
       "</table>\n",
       "</div>"
      ],
      "text/plain": [
       "       column_1  column_3  column_4  column_5  column_6\n",
       "count  6.000000  6.000000  6.000000  6.000000  6.000000\n",
       "mean   0.584662  0.459479  0.549694  0.422030  0.378741\n",
       "std    0.357784  0.261647  0.280548  0.207097  0.256138\n",
       "min    0.102600  0.182231  0.196534  0.089790  0.078497\n",
       "25%    0.298183  0.297028  0.356338  0.364793  0.198147\n",
       "50%    0.680956  0.437574  0.520701  0.399240  0.340036\n",
       "75%    0.879240  0.502553  0.799627  0.579974  0.562700\n",
       "max    0.927532  0.925103  0.866079  0.650378  0.726103"
      ]
     },
     "execution_count": 25,
     "metadata": {},
     "output_type": "execute_result"
    }
   ],
   "source": [
    "df1.describe()"
   ]
  },
  {
   "cell_type": "markdown",
   "id": "516a424c-694d-4498-9701-7b274b2e5bb6",
   "metadata": {},
   "source": [
    "#### Statistics of column 2 is missing here, because data types in column 2 are different for which the statistcs can't be calculated."
   ]
  },
  {
   "cell_type": "markdown",
   "id": "5eed2fdd-a343-4470-a568-716749b28ce4",
   "metadata": {},
   "source": [
    "### Q6. What do you understand about the windows function in pandas and list the types of windows functions?\n",
    "\n",
    "A: Windows function in pandas are the function that executes on a set of rows or a window.\n",
    "\n",
    "Types of windows function:\n",
    "1. rolling\n",
    "2. expanding"
   ]
  },
  {
   "cell_type": "markdown",
   "id": "6bc50726-4334-4a7b-8b51-447b0bb1dcd9",
   "metadata": {},
   "source": [
    "### Q7. Write a code to print only the current month and year at the time of answering this question.\n",
    "[Hint: Use pandas.datetime function]"
   ]
  },
  {
   "cell_type": "code",
   "execution_count": 34,
   "id": "495bc37e-bbb6-4cef-b4d9-f15306f67821",
   "metadata": {},
   "outputs": [
    {
     "name": "stdout",
     "output_type": "stream",
     "text": [
      "Month :  January\n",
      "Year :  2024\n"
     ]
    }
   ],
   "source": [
    "print(\"Month : \",pd.Timestamp.today().month_name())\n",
    "print(\"Year : \",pd.Timestamp.today().year)"
   ]
  },
  {
   "cell_type": "markdown",
   "id": "e067241c-37db-41e0-8da0-022aea756f89",
   "metadata": {},
   "source": [
    "### Q8. Write a Python program that takes in two dates as input (in the format YYYY-MM-DD) and calculates the difference between them in days, hours, and minutes using Pandas time delta. The program should prompt the user to enter the dates and display the result."
   ]
  },
  {
   "cell_type": "code",
   "execution_count": 41,
   "id": "2df17191-7d87-46d6-8569-e9b97a39b894",
   "metadata": {},
   "outputs": [
    {
     "name": "stdin",
     "output_type": "stream",
     "text": [
      "Enter the start date in format('YYYY-MM-DD') : 2023-02-01\n",
      "Enter the end date in format('YYYY-MM-DD') : 2024-02-01\n"
     ]
    },
    {
     "data": {
      "text/plain": [
       "Timedelta('365 days 00:00:00')"
      ]
     },
     "execution_count": 41,
     "metadata": {},
     "output_type": "execute_result"
    }
   ],
   "source": [
    "import pandas as pd\n",
    "\n",
    "date1 = pd.to_datetime(input(\"Enter the start date in format('YYYY-MM-DD') :\"),format=\"%Y/%m/%d\")\n",
    "date2 = pd.to_datetime(input(\"Enter the end date in format('YYYY-MM-DD') :\"),format=\"%Y/%m/%d\")\n",
    "pd.Timedelta(date2-date1)"
   ]
  },
  {
   "cell_type": "markdown",
   "id": "83da2c16-4628-4b2a-bd24-89297e754949",
   "metadata": {},
   "source": [
    "### Q9. Write a Python program that reads a CSV file containing categorical data and converts a specified column to a categorical data type. The program should prompt the user to enter the file path, column name, and category order, and then display the sorted data."
   ]
  },
  {
   "cell_type": "code",
   "execution_count": null,
   "id": "c27a8ac8-f75e-4e57-8284-e533abd52fbd",
   "metadata": {},
   "outputs": [],
   "source": [
    "import pandas as pd\n",
    "path = input(\"Enter the full path to the csv file(including name):\")\n",
    "df = pd.read_csv(path)\n",
    "print(\"Displaying first 5 row:\",df.head(5))\n",
    "col = input(\"Enter the column name :\")\n",
    "lst = list(df[col]).sort()\n"
   ]
  },
  {
   "cell_type": "markdown",
   "id": "f5e6d3ad-2d5d-4a2d-b554-aa71a2e12d1f",
   "metadata": {},
   "source": [
    "### Q10. Write a Python program that reads a CSV file containing sales data for different products and visualizes the data using a stacked bar chart to show the sales of each product category over time. The program should prompt the user to enter the file path and display the chart."
   ]
  },
  {
   "cell_type": "code",
   "execution_count": null,
   "id": "d3628c46-f015-4d76-8128-2d4a727578f7",
   "metadata": {},
   "outputs": [],
   "source": [
    "import pandas as pd\n",
    "import matplotlib.pyplot as plt\n",
    "path = input(\"Enter the full path to the csv file of sales data(including name):\")\n",
    "df = pd.read_csv(path)\n",
    "\n",
    "df['Date'] = pd.to_datetime(df['Date'])\n",
    "\n",
    "pivot_df = df.pivot(index='Date', columns='Category', values='Sales').fillna(0)\n",
    "\n",
    "# Create a stacked bar chart\n",
    "ax = pivot_df.plot(kind='bar', stacked=True, figsize=(10, 6))\n",
    "\n",
    "# Set labels and title\n",
    "plt.xlabel('Date')\n",
    "plt.ylabel('Sales')\n",
    "plt.title('Sales Data Over Time')\n",
    "\n",
    "# Show the legend\n",
    "plt.legend(title='Category', bbox_to_anchor=(1.05, 1), loc='upper left')\n",
    "\n",
    "# Display the chart\n",
    "plt.show()"
   ]
  },
  {
   "cell_type": "markdown",
   "id": "6c4b26e5-5981-4cd3-a314-c6a130fbde4a",
   "metadata": {},
   "source": [
    "### Q11. You are given a CSV file containing student data that includes the student ID and their test score. Write a Python program that reads the CSV file, calculates the mean, median, and mode of the test scores, and displays the results in a table.\n",
    "\n",
    "The program should do the following:\n",
    "* Prompt the user to enter the file path of the CSV file containing the student data\n",
    "* Read the CSV file into a Pandas DataFrame\n",
    "* Calculate the mean, median, and mode of the test scores using Pandas tools\n",
    "* Display the mean, median, and mode in a table.\n",
    "\n",
    "Assume the CSV file contains the following columns\n",
    "* Student ID: The ID of the student\n",
    "* Test Score: The score of the student's test.\n",
    "Example usage of the program:\n",
    "Enter the file path of the CSV file containing the student data: student_data.csv\n",
    "\n",
    "\n",
    "| Statistic | Value |\n",
    "|-----------|--------|\n",
    "| Mean | 79.6 |\n",
    "| Median | 82 |\n",
    "| Mode | 85, 90 |\n",
    "\n",
    "\n",
    "Assume that the CSV file student_data.csv contains the following data:\n",
    "Student ID,Test Score\n",
    "\n",
    "1,85\n",
    "\n",
    "2,90\n",
    "\n",
    "3,80\n",
    "\n",
    "4,75\n",
    "\n",
    "5,85\n",
    "\n",
    "6,82\n",
    "\n",
    "7,78\n",
    "\n",
    "8,85\n",
    "\n",
    "9,90\n",
    "\n",
    "10,85\n",
    "\n",
    "The program should calculate the mean, median, and mode of the test scores and display the results\n",
    "in a table.\n"
   ]
  },
  {
   "cell_type": "code",
   "execution_count": 57,
   "id": "e49612aa-6f5a-474e-89d0-7b3b196c29ef",
   "metadata": {},
   "outputs": [
    {
     "name": "stdout",
     "output_type": "stream",
     "text": [
      "  Statistic  Value\n",
      "0      Mean   83.5\n",
      "1    Median   85.0\n",
      "2      Mode   85.0\n"
     ]
    }
   ],
   "source": [
    "import pandas as pd\n",
    "# path = input(\"Enter the file path of the CSV file containing the student data: \")\n",
    "# df = pd.read_csv(path)\n",
    "\n",
    "df = pd.DataFrame()\n",
    "id = [i+1 for i in range(10)]\n",
    "score = [85,90,80,75,85,82,78,85,90,85]\n",
    "df[\"Student ID\"]=id\n",
    "df[\"Test Score\"]=score\n",
    "   \n",
    "df2 = pd.DataFrame({\"Statistic\":[\"Mean\",\"Median\",\"Mode\"],\"Value\":[df[\"Test Score\"].describe()[\"mean\"],df[\"Test Score\"].describe()[\"50%\"],float(df[\"Test Score\"].mode())]})\n",
    "print(df2)\n",
    "\n"
   ]
  }
 ],
 "metadata": {
  "kernelspec": {
   "display_name": "Python 3 (ipykernel)",
   "language": "python",
   "name": "python3"
  },
  "language_info": {
   "codemirror_mode": {
    "name": "ipython",
    "version": 3
   },
   "file_extension": ".py",
   "mimetype": "text/x-python",
   "name": "python",
   "nbconvert_exporter": "python",
   "pygments_lexer": "ipython3",
   "version": "3.10.8"
  }
 },
 "nbformat": 4,
 "nbformat_minor": 5
}
