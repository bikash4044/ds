{
 "cells": [
  {
   "cell_type": "markdown",
   "metadata": {},
   "source": [
    "Q1. What is a database? Differentiate between SQL and NoSQL databases.\n",
    "A: \n",
    "Database can be defined as an organised collection of structured data, stored digitally.\n",
    "SQl(structured querry language) is relational, have predefined schema and are vertically scalable.\n",
    "NoSQL(Not only SQL) is non-relational, have dynamic schema and are horizontally scalable."
   ]
  },
  {
   "cell_type": "markdown",
   "metadata": {},
   "source": [
    "Q2. What is DDL? Explain why CREATE, DROP, ALTER, and TRUNCATE are used with an example.\n",
    "\n",
    "A:\n",
    "DDL stands for data definition language. it is a subset of sql that deals with definition and database structure.\n",
    "\n",
    "CREATE comand is used to create databases.\n",
    "CREATE DATABASE if not exists test;\n",
    "\n",
    "DROP command is used to drop a table.\n",
    "drop table test.test_table;\n",
    "\n",
    "ALTER command is used to alter the contants of a table, such as adding a column\n",
    "ALTER Table test.test_table ADD column c10 INT;\n",
    "ALTER TABLE table_name RENAME COLUMN old_name to new_name; \n",
    "\n",
    "TRUNCATE deletes the data of a table, but not the table itself.\n",
    "truncate table test.test_table;"
   ]
  },
  {
   "cell_type": "markdown",
   "metadata": {},
   "source": [
    "Q3. What is DML? Explain INSERT, UPDATE, and DELETE with an example.\n",
    "\n",
    "A:\n",
    "DML stands for data manipulation language. it is a subset of sql that deals with access to data and database.\n",
    "\n",
    "INSERT is used to insert data into a table.\n",
    "insert into test1.test_table value(1,'Bikash',2,8.46,'EXEXAAAABP');\n",
    "\n",
    "UPDATE is used to update the records in a table (to do modification depending upon condition)\n",
    "update test1.test_table set c2=\"pulakesh\" where c1=1;\n",
    "\n",
    "DELETE is used to delete records from a database.\n",
    "delete from test.test_table where c1=1;"
   ]
  },
  {
   "cell_type": "markdown",
   "metadata": {},
   "source": [
    "Q4. What is DQL? Explain SELECT with an example.\n",
    "\n",
    "A:\n",
    "DQL stands for data query language. it is the subset of SQL that deals with retrival of data and organize the same.\n",
    "\n",
    "SELECT displays the data from a table as per given condition.\n",
    "select c1,c2 from test.test_table where c1<5;"
   ]
  },
  {
   "cell_type": "markdown",
   "metadata": {},
   "source": [
    "Q5. Explain Primary Key and Foreign Key.\n",
    "\n",
    "A:\n",
    "primary key is the column of a table that uniquely identifies each record.\n",
    "foreign key of a table is the column, which is primary key to another table."
   ]
  },
  {
   "cell_type": "markdown",
   "metadata": {},
   "source": [
    "Q6. Write a python code to connect MySQL to python. Explain the cursor() and execute() method."
   ]
  },
  {
   "cell_type": "markdown",
   "metadata": {},
   "source": [
    "cursor() interacts with the mysql server using a mysql connector object.\n",
    "execute() is used to run the sql commands on the server."
   ]
  },
  {
   "cell_type": "code",
   "execution_count": null,
   "metadata": {},
   "outputs": [],
   "source": [
    "import mysql.connector\n",
    "\n",
    "mydb = mysql.connector.connect(\n",
    "  host=\"localhost\",\n",
    "  user=\"abc\",\n",
    "  password=\"password\"\n",
    ")\n",
    "\n",
    "\n",
    "mycursor = mydb.cursor()\n",
    "mycursor.execute(\"select c1,c5 from test1.test_table\")\n",
    "for i in mycursor.fetchall():\n",
    "    print(i)\n",
    "mydb.close()"
   ]
  },
  {
   "cell_type": "markdown",
   "metadata": {},
   "source": [
    "Q7. Give the order of execution of SQL clauses in an SQL query.\n",
    "\n",
    "A:\n",
    "following is the order of execution\n",
    "1. FROM/JOIN\n",
    "1. WHERE\n",
    "1. GROUP BY\n",
    "1. HAVING\n",
    "1. SELECT\n",
    "1. ORDER BY\n",
    "1. LIMIT/OFFSET"
   ]
  },
  {
   "cell_type": "code",
   "execution_count": null,
   "metadata": {},
   "outputs": [],
   "source": []
  }
 ],
 "metadata": {
  "kernelspec": {
   "display_name": "Python 3 (ipykernel)",
   "language": "python",
   "name": "python3"
  },
  "language_info": {
   "codemirror_mode": {
    "name": "ipython",
    "version": 3
   },
   "file_extension": ".py",
   "mimetype": "text/x-python",
   "name": "python",
   "nbconvert_exporter": "python",
   "pygments_lexer": "ipython3",
   "version": "3.10.8"
  },
  "toc-showcode": true,
  "toc-showmarkdowntxt": true
 },
 "nbformat": 4,
 "nbformat_minor": 4
}
