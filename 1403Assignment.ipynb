{
 "cells": [
  {
   "cell_type": "markdown",
   "metadata": {},
   "source": [
    "Q1. Write a Python function that takes in two arrays of data and calculates the F-value for a variance ratio test. The function should return the F-value and the corresponding p-value for the test."
   ]
  },
  {
   "cell_type": "code",
   "execution_count": 1,
   "metadata": {},
   "outputs": [
    {
     "name": "stdout",
     "output_type": "stream",
     "text": [
      "F-value: 3.378550608995324\n",
      "P-value: 1.9025975937503325e-05\n"
     ]
    }
   ],
   "source": [
    "import numpy as np\n",
    "from scipy import stats\n",
    "\n",
    "def calculate_f_test(data1, data2):\n",
    "    var1 = np.var(data1, ddof=1)\n",
    "    var2 = np.var(data2, ddof=1)\n",
    "    f_value = var1 / var2 if var1 > var2 else var2 / var1\n",
    "    df1 = len(data1) - 1\n",
    "    df2 = len(data2) - 1\n",
    "    p_value = 1 - stats.f.cdf(f_value, df1, df2)\n",
    "    return f_value, p_value\n",
    "\n",
    "data1 = np.random.normal(loc=0, scale=1, size=50)\n",
    "data2 = np.random.normal(loc=0, scale=1.5, size=50)\n",
    "\n",
    "f_value, p_value = calculate_f_test(data1, data2)\n",
    "print(\"F-value:\", f_value)\n",
    "print(\"P-value:\", p_value)\n"
   ]
  },
  {
   "cell_type": "markdown",
   "metadata": {},
   "source": [
    "Q2. Given a significance level of 0.05 and the degrees of freedom for the numerator and denominator of an F-distribution, write a Python function that returns the critical F-value for a two-tailed test."
   ]
  },
  {
   "cell_type": "code",
   "execution_count": 2,
   "metadata": {},
   "outputs": [
    {
     "name": "stdout",
     "output_type": "stream",
     "text": [
      "Critical F-value: 3.289055845680407\n"
     ]
    }
   ],
   "source": [
    "import scipy.stats as stats\n",
    "\n",
    "def critical_f_value(alpha, df1, df2):\n",
    "    return stats.f.ppf(1 - alpha / 2, df1, df2)\n",
    "\n",
    "alpha = 0.05\n",
    "df1 = 5\n",
    "df2 = 20\n",
    "\n",
    "critical_value = critical_f_value(alpha, df1, df2)\n",
    "print(\"Critical F-value:\", critical_value)\n"
   ]
  },
  {
   "cell_type": "markdown",
   "metadata": {},
   "source": [
    "Q3. Write a Python program that generates random samples from two normal distributions with known variances and uses an F-test to determine if the variances are equal. The program should output the F-value, degrees of freedom, and p-value for the test."
   ]
  },
  {
   "cell_type": "code",
   "execution_count": 3,
   "metadata": {},
   "outputs": [
    {
     "name": "stdout",
     "output_type": "stream",
     "text": [
      "F-value: 1.3508746803148621\n",
      "Degrees of freedom (numerator): 49\n",
      "Degrees of freedom (denominator): 49\n",
      "P-value: 0.14793683526283108\n"
     ]
    }
   ],
   "source": [
    "import numpy as np\n",
    "from scipy import stats\n",
    "\n",
    "def generate_samples(mean1, var1, size1, mean2, var2, size2):\n",
    "    sample1 = np.random.normal(mean1, np.sqrt(var1), size1)\n",
    "    sample2 = np.random.normal(mean2, np.sqrt(var2), size2)\n",
    "    return sample1, sample2\n",
    "\n",
    "def f_test(sample1, sample2):\n",
    "    var1 = np.var(sample1, ddof=1)\n",
    "    var2 = np.var(sample2, ddof=1)\n",
    "    f_value = var1 / var2 if var1 > var2 else var2 / var1\n",
    "    df1 = len(sample1) - 1\n",
    "    df2 = len(sample2) - 1\n",
    "    p_value = 1 - stats.f.cdf(f_value, df1, df2)\n",
    "    return f_value, df1, df2, p_value\n",
    "\n",
    "mean1, var1, size1 = 0, 1, 50\n",
    "mean2, var2, size2 = 0, 1.5, 50\n",
    "\n",
    "sample1, sample2 = generate_samples(mean1, var1, size1, mean2, var2, size2)\n",
    "f_value, df1, df2, p_value = f_test(sample1, sample2)\n",
    "\n",
    "print(\"F-value:\", f_value)\n",
    "print(\"Degrees of freedom (numerator):\", df1)\n",
    "print(\"Degrees of freedom (denominator):\", df2)\n",
    "print(\"P-value:\", p_value)\n"
   ]
  },
  {
   "cell_type": "markdown",
   "metadata": {},
   "source": [
    "Q4.The variances of two populations are known to be 10 and 15. A sample of 12 observations is taken from each population. Conduct an F-test at the 5% significance level to determine if the variances are significantly different."
   ]
  },
  {
   "cell_type": "code",
   "execution_count": 4,
   "metadata": {},
   "outputs": [
    {
     "name": "stdout",
     "output_type": "stream",
     "text": [
      "F-value: 1.5\n",
      "Critical F-value: 3.473699051085809\n",
      "Degrees of freedom (numerator): 11\n",
      "Degrees of freedom (denominator): 11\n",
      "P-value: 0.25619489936789974\n",
      "Fail to reject the null hypothesis: Variances are not significantly different.\n"
     ]
    }
   ],
   "source": [
    "import scipy.stats as stats\n",
    "\n",
    "def perform_f_test(var1, var2, n1, n2, alpha):\n",
    "    # Calculate the F-value\n",
    "    f_value = var1 / var2 if var1 > var2 else var2 / var1\n",
    "    \n",
    "    # Degrees of freedom\n",
    "    df1 = n1 - 1\n",
    "    df2 = n2 - 1\n",
    "    \n",
    "    # Calculate the critical F-value for a two-tailed test\n",
    "    critical_f_value = stats.f.ppf(1 - alpha / 2, df1, df2)\n",
    "    \n",
    "    # Calculate the p-value\n",
    "    p_value = 1 - stats.f.cdf(f_value, df1, df2)\n",
    "    \n",
    "    return f_value, critical_f_value, df1, df2, p_value\n",
    "\n",
    "# Given values\n",
    "var1 = 10\n",
    "var2 = 15\n",
    "n1 = 12\n",
    "n2 = 12\n",
    "alpha = 0.05\n",
    "\n",
    "# Perform the F-test\n",
    "f_value, critical_f_value, df1, df2, p_value = perform_f_test(var1, var2, n1, n2, alpha)\n",
    "\n",
    "print(\"F-value:\", f_value)\n",
    "print(\"Critical F-value:\", critical_f_value)\n",
    "print(\"Degrees of freedom (numerator):\", df1)\n",
    "print(\"Degrees of freedom (denominator):\", df2)\n",
    "print(\"P-value:\", p_value)\n",
    "\n",
    "# Decision\n",
    "if p_value < alpha:\n",
    "    print(\"Reject the null hypothesis: Variances are significantly different.\")\n",
    "else:\n",
    "    print(\"Fail to reject the null hypothesis: Variances are not significantly different.\")\n"
   ]
  },
  {
   "cell_type": "markdown",
   "metadata": {},
   "source": [
    "Q5. A manufacturer claims that the variance of the diameter of a certain product is 0.005. A sample of 25 products is taken, and the sample variance is found to be 0.006. Conduct an F-test at the 1% significance level to determine if the claim is justified."
   ]
  },
  {
   "cell_type": "code",
   "execution_count": 5,
   "metadata": {},
   "outputs": [
    {
     "name": "stdout",
     "output_type": "stream",
     "text": [
      "F-value: 1.2\n",
      "Critical F-value: 2.659072104348157\n",
      "Degrees of freedom: 24\n",
      "P-value: 0.3293654682817244\n",
      "Fail to reject the null hypothesis: There is not enough evidence to conclude that the sample variance is different from the claimed variance.\n"
     ]
    }
   ],
   "source": [
    "import scipy.stats as stats\n",
    "\n",
    "def f_test_variance(sample_variance, claimed_variance, n, alpha):\n",
    "    f_value = sample_variance / claimed_variance\n",
    "    df = n - 1\n",
    "    critical_f_value = stats.f.ppf(1 - alpha, df, df)\n",
    "    p_value = 1 - stats.f.cdf(f_value, df, df)\n",
    "    return f_value, critical_f_value, df, p_value\n",
    "\n",
    "sample_variance = 0.006\n",
    "claimed_variance = 0.005\n",
    "n = 25\n",
    "alpha = 0.01\n",
    "\n",
    "f_value, critical_f_value, df, p_value = f_test_variance(sample_variance, claimed_variance, n, alpha)\n",
    "\n",
    "print(\"F-value:\", f_value)\n",
    "print(\"Critical F-value:\", critical_f_value)\n",
    "print(\"Degrees of freedom:\", df)\n",
    "print(\"P-value:\", p_value)\n",
    "\n",
    "if p_value < alpha:\n",
    "    print(\"Reject the null hypothesis: The sample variance is significantly different from the claimed variance.\")\n",
    "else:\n",
    "    print(\"Fail to reject the null hypothesis: There is not enough evidence to conclude that the sample variance is different from the claimed variance.\")\n"
   ]
  },
  {
   "cell_type": "markdown",
   "metadata": {},
   "source": [
    "Q6. Write a Python function that takes in the degrees of freedom for the numerator and denominator of an F-distribution and calculates the mean and variance of the distribution. The function should return the mean and variance as a tuple."
   ]
  },
  {
   "cell_type": "code",
   "execution_count": 6,
   "metadata": {},
   "outputs": [
    {
     "name": "stdout",
     "output_type": "stream",
     "text": [
      "Mean: 1.25\n",
      "Variance: 1.3541666666666667\n"
     ]
    }
   ],
   "source": [
    "def f_distribution_statistics(df1, df2):\n",
    "    if df2 > 2:\n",
    "        mean = df2 / (df2 - 2)\n",
    "        variance = (2 * (df2 ** 2) * (df1 + df2 - 2)) / (df1 * (df2 - 2) ** 2 * (df2 - 4))\n",
    "        return mean, variance\n",
    "    else:\n",
    "        raise ValueError(\"Degrees of freedom for the denominator must be greater than 2 for variance to be defined.\")\n",
    "\n",
    "df1 = 5\n",
    "df2 = 10\n",
    "\n",
    "mean, variance = f_distribution_statistics(df1, df2)\n",
    "print(\"Mean:\", mean)\n",
    "print(\"Variance:\", variance)\n"
   ]
  },
  {
   "cell_type": "markdown",
   "metadata": {},
   "source": [
    "Q7. A random sample of 10 measurements is taken from a normal population with unknown variance. The sample variance is found to be 25. Another random sample of 15 measurements is taken from another normal population with unknown variance, and the sample variance is found to be 20. Conduct an F-test at the 10% significance level to determine if the variances are significantly different."
   ]
  },
  {
   "cell_type": "code",
   "execution_count": 7,
   "metadata": {},
   "outputs": [
    {
     "name": "stdout",
     "output_type": "stream",
     "text": [
      "F-value: 1.25\n",
      "Critical F-value: 2.121954566976902\n",
      "Degrees of freedom (numerator): 9\n",
      "Degrees of freedom (denominator): 14\n",
      "P-value: 0.3416097191292977\n",
      "Fail to reject the null hypothesis: There is not enough evidence to conclude that the variances are different.\n"
     ]
    }
   ],
   "source": [
    "import scipy.stats as stats\n",
    "\n",
    "def f_test_var(s2_1, s2_2, n1, n2, alpha):\n",
    "    f_value = s2_1 / s2_2 if s2_1 > s2_2 else s2_2 / s2_1\n",
    "    df1 = n1 - 1\n",
    "    df2 = n2 - 1\n",
    "    critical_f_value = stats.f.ppf(1 - alpha, df1, df2)\n",
    "    p_value = 1 - stats.f.cdf(f_value, df1, df2)\n",
    "    return f_value, critical_f_value, df1, df2, p_value\n",
    "\n",
    "s2_1 = 25\n",
    "n1 = 10\n",
    "s2_2 = 20\n",
    "n2 = 15\n",
    "alpha = 0.10\n",
    "\n",
    "f_value, critical_f_value, df1, df2, p_value = f_test_var(s2_1, s2_2, n1, n2, alpha)\n",
    "\n",
    "print(\"F-value:\", f_value)\n",
    "print(\"Critical F-value:\", critical_f_value)\n",
    "print(\"Degrees of freedom (numerator):\", df1)\n",
    "print(\"Degrees of freedom (denominator):\", df2)\n",
    "print(\"P-value:\", p_value)\n",
    "\n",
    "if p_value < alpha:\n",
    "    print(\"Reject the null hypothesis: The variances are significantly different.\")\n",
    "else:\n",
    "    print(\"Fail to reject the null hypothesis: There is not enough evidence to conclude that the variances are different.\")\n"
   ]
  },
  {
   "cell_type": "markdown",
   "metadata": {},
   "source": [
    "Q8. The following data represent the waiting times in minutes at two different restaurants on a Saturday night: Restaurant A: 24, 25, 28, 23, 22, 20, 27; Restaurant B: 31, 33, 35, 30, 32, 36. Conduct an F-test at the 5% significance level to determine if the variances are significantly different."
   ]
  },
  {
   "cell_type": "code",
   "execution_count": 8,
   "metadata": {},
   "outputs": [
    {
     "name": "stdout",
     "output_type": "stream",
     "text": [
      "F-value: 1.4551907719609583\n",
      "Critical F-value: 4.950288068694318\n",
      "Degrees of freedom (numerator): 6\n",
      "Degrees of freedom (denominator): 5\n",
      "P-value: 0.3487407873968742\n",
      "Fail to reject the null hypothesis: There is not enough evidence to conclude that the variances are different.\n"
     ]
    }
   ],
   "source": [
    "import numpy as np\n",
    "import scipy.stats as stats\n",
    "\n",
    "def f_test_from_data(data1, data2, alpha):\n",
    "    var1 = np.var(data1, ddof=1)\n",
    "    var2 = np.var(data2, ddof=1)\n",
    "    f_value = var1 / var2 if var1 > var2 else var2 / var1\n",
    "    df1 = len(data1) - 1\n",
    "    df2 = len(data2) - 1\n",
    "    critical_f_value = stats.f.ppf(1 - alpha, df1, df2)\n",
    "    p_value = 1 - stats.f.cdf(f_value, df1, df2)\n",
    "    return f_value, critical_f_value, df1, df2, p_value\n",
    "\n",
    "data_a = [24, 25, 28, 23, 22, 20, 27]\n",
    "data_b = [31, 33, 35, 30, 32, 36]\n",
    "alpha = 0.05\n",
    "\n",
    "f_value, critical_f_value, df1, df2, p_value = f_test_from_data(data_a, data_b, alpha)\n",
    "\n",
    "print(\"F-value:\", f_value)\n",
    "print(\"Critical F-value:\", critical_f_value)\n",
    "print(\"Degrees of freedom (numerator):\", df1)\n",
    "print(\"Degrees of freedom (denominator):\", df2)\n",
    "print(\"P-value:\", p_value)\n",
    "\n",
    "if p_value < alpha:\n",
    "    print(\"Reject the null hypothesis: The variances are significantly different.\")\n",
    "else:\n",
    "    print(\"Fail to reject the null hypothesis: There is not enough evidence to conclude that the variances are different.\")\n"
   ]
  },
  {
   "cell_type": "markdown",
   "metadata": {},
   "source": [
    "Q9. The following data represent the test scores of two groups of students: Group A: 80, 85, 90, 92, 87, 83; Group B: 75, 78, 82, 79, 81, 84. Conduct an F-test at the 1% significance level to determine if the variances are significantly different."
   ]
  },
  {
   "cell_type": "code",
   "execution_count": 9,
   "metadata": {},
   "outputs": [
    {
     "name": "stdout",
     "output_type": "stream",
     "text": [
      "F-value: 1.9442622950819677\n",
      "Critical F-value: 10.967020650907992\n",
      "Degrees of freedom (numerator): 5\n",
      "Degrees of freedom (denominator): 5\n",
      "P-value: 0.2415521774535344\n",
      "Fail to reject the null hypothesis: There is not enough evidence to conclude that the variances are different.\n"
     ]
    }
   ],
   "source": [
    "import numpy as np\n",
    "import scipy.stats as stats\n",
    "\n",
    "def f_test_from_data(data1, data2, alpha):\n",
    "    var1 = np.var(data1, ddof=1)\n",
    "    var2 = np.var(data2, ddof=1)\n",
    "    f_value = var1 / var2 if var1 > var2 else var2 / var1\n",
    "    df1 = len(data1) - 1\n",
    "    df2 = len(data2) - 1\n",
    "    critical_f_value = stats.f.ppf(1 - alpha, df1, df2)\n",
    "    p_value = 1 - stats.f.cdf(f_value, df1, df2)\n",
    "    return f_value, critical_f_value, df1, df2, p_value\n",
    "\n",
    "data_a = [80, 85, 90, 92, 87, 83]\n",
    "data_b = [75, 78, 82, 79, 81, 84]\n",
    "alpha = 0.01\n",
    "\n",
    "f_value, critical_f_value, df1, df2, p_value = f_test_from_data(data_a, data_b, alpha)\n",
    "\n",
    "print(\"F-value:\", f_value)\n",
    "print(\"Critical F-value:\", critical_f_value)\n",
    "print(\"Degrees of freedom (numerator):\", df1)\n",
    "print(\"Degrees of freedom (denominator):\", df2)\n",
    "print(\"P-value:\", p_value)\n",
    "\n",
    "if p_value < alpha:\n",
    "    print(\"Reject the null hypothesis: The variances are significantly different.\")\n",
    "else:\n",
    "    print(\"Fail to reject the null hypothesis: There is not enough evidence to conclude that the variances are different.\")\n"
   ]
  },
  {
   "cell_type": "code",
   "execution_count": null,
   "metadata": {},
   "outputs": [],
   "source": []
  }
 ],
 "metadata": {
  "kernelspec": {
   "display_name": "base",
   "language": "python",
   "name": "python3"
  },
  "language_info": {
   "codemirror_mode": {
    "name": "ipython",
    "version": 3
   },
   "file_extension": ".py",
   "mimetype": "text/x-python",
   "name": "python",
   "nbconvert_exporter": "python",
   "pygments_lexer": "ipython3",
   "version": "3.12.4"
  }
 },
 "nbformat": 4,
 "nbformat_minor": 2
}
