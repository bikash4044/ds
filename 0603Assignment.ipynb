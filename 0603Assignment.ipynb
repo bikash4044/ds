{
 "cells": [
  {
   "cell_type": "markdown",
   "metadata": {},
   "source": [
    "Q1. What is Statistics?"
   ]
  },
  {
   "cell_type": "markdown",
   "metadata": {},
   "source": [
    "Ans:\n",
    "\n",
    "Statistics is the branch of mathematics that involves collection of data, interpretation, analysis, derriving results and presenting it."
   ]
  },
  {
   "cell_type": "markdown",
   "metadata": {},
   "source": [
    "Q2. Define the different types of statistics and give an example of when each type might be used."
   ]
  },
  {
   "cell_type": "markdown",
   "metadata": {},
   "source": [
    "Ans:\n",
    "\n",
    "1. Descriptive: It consists of organising and summarising the data; incldes central tendancy and other parameters;  \n",
    "\n",
    "Scenario: A retail store wants to understand the purchasing behavior of its customers;\n",
    "Application: Use descriptive statistics to calculate the average purchase amount, determine the most common product purchased, and visualize spending patterns with histograms and box plots.\n",
    "\n",
    "\n",
    "2. Inferential: It consists of using the data, which is already available, to form the conclusions; includes test such as ANOVA, and other hpothesis testing etc.;\n",
    " \n",
    "Scenario: A company wants to understand if there is a significant difference in customer satisfaction between two different product versions.\n",
    "Application: Use t-tests or ANOVA to determine if differences in satisfaction scores are statistically significant and perform regression analysis to assess the impact of different product features on satisfaction.\n"
   ]
  },
  {
   "cell_type": "markdown",
   "metadata": {},
   "source": [
    "Q3. What are the different types of data and how do they differ from each other? Provide an example of each type of data."
   ]
  },
  {
   "cell_type": "markdown",
   "metadata": {},
   "source": [
    "Ans:\n",
    "\n",
    "1. Quantitative\n",
    "Represents numerical values\n",
    "Discrete: Number of children (1, 2, 3) <br> Continuous: Height (170.5 cm, 175.2 cm)\n",
    "\n",
    "2. Qualitative\n",
    "Describes categories or qualities;\n",
    "Nominal: Types of fruits (Apple, Banana) <br> Ordinal: Education levels (High School, Bachelor's)"
   ]
  },
  {
   "cell_type": "markdown",
   "metadata": {},
   "source": [
    "Q4. Categorise the following datasets with respect to quantitative and qualitative data types:\n",
    "\n",
    "Ans:\n",
    "\n",
    "Qualitative: (i) Grading in exam: A+, A, B+, B, C+, C, D, E\n",
    "\n",
    "Qualitative: (ii) Colour of mangoes: yellow, green, orange, red\n",
    "\n",
    "Quantitative: (iii) Height data of a class: [178.9, 179, 179.5, 176, 177.2, 178.3, 175.8,...]\n",
    "\n",
    "Quantitative: (iv) Number of mangoes exported by a farm: [500, 600, 478, 672, ...]"
   ]
  },
  {
   "cell_type": "markdown",
   "metadata": {},
   "source": [
    "Q5. Explain the concept of levels of measurement and give an example of a variable for each level."
   ]
  },
  {
   "cell_type": "markdown",
   "metadata": {},
   "source": [
    "Ans:\n",
    "\n",
    "Levels of measurement, also known as scales of measurement, refer to the different ways in which variables or data can be categorized, ordered, and quantified. They are crucial for determining the appropriate statistical methods and analyses to use.\n",
    "\n",
    "Basicaly it is of four levels:\n",
    "\n",
    "1. Nominal: Categories with no inherent order; E.g: Type of pet (Dog, Cat, Fish, Bird)\n",
    "2. Ordinal: Ordered categories with non-uniform intervals; E.g:\tCustomer satisfaction rating (Poor, Fair, Good, Excellent)\n",
    "3. Interval: Ordered categories with equal intervals; no true zero; E.g: \tTemperature in Celsius (10°C, 20°C, 30°C)\n",
    "4. Ratio: Ordered categories with equal intervals and a true zero; E.g: Weight in kilograms (50 kg, 75 kg, 100 kg)"
   ]
  },
  {
   "cell_type": "markdown",
   "metadata": {},
   "source": [
    "Q6. Why is it important to understand the level of measurement when analyzing data? Provide an example to illustrate your answer."
   ]
  },
  {
   "cell_type": "markdown",
   "metadata": {},
   "source": [
    "Ans:\n",
    "\n",
    "Understanding the level of measurement is crucial for analyzing data because it determines which statistical techniques are appropriate and how the data can be interpreted. Each level of measurement provides different types of information such as frequency, rank, central tendencies,etc. and requires specific analytical methods.\n",
    "\n",
    "Illustration:\n",
    "\n",
    "Nominal Data: For favorite product features (e.g., Battery Life, Camera), use frequency counts or bar charts. No means or standard deviations.\n",
    "\n",
    "Ordinal Data: For satisfaction levels (e.g., Very Satisfied to Very Unsatisfied), calculate the median and use bar charts. Means are not appropriate.\n",
    "\n",
    "Interval Data: For ease of use ratings (1 to 10), calculate means and standard deviations. Histograms or scatter plots are suitable.\n",
    "\n",
    "Ratio Data: For weekly usage hours, calculate all statistics including ratios. Compare average usage between groups."
   ]
  },
  {
   "cell_type": "markdown",
   "metadata": {},
   "source": [
    "Q7. How nominal data type is different from ordinal data type."
   ]
  },
  {
   "cell_type": "markdown",
   "metadata": {},
   "source": [
    "Ans:\n",
    "\n",
    "Nominal Data\n",
    "\n",
    "Definition: Categorizes items into distinct groups without any inherent order.\n",
    "\n",
    "Order: No meaningful sequence among categories.\n",
    "\n",
    "Examples: Types of animals (Dog, Cat, Bird, Fish); Colors (Red, Blue, Green, Yellow).\n",
    "\n",
    "Usage: Ideal for counting frequencies and creating bar or pie charts.\n",
    "\n",
    "\n",
    "Ordinal Data\n",
    "\n",
    "Definition: Categorizes items into groups with a meaningful order or ranking.\n",
    "\n",
    "Order: Categories have a natural, meaningful sequence, though intervals between ranks are not equal.\n",
    "\n",
    "Examples: Customer satisfaction levels (Very Unsatisfied, Unsatisfied, Neutral, Satisfied, Very Satisfied); Education levels (High School, Bachelor’s, Master’s, PhD).\n",
    "Usage: Suitable for ranking and ordinal plots; means and standard deviations are not appropriate."
   ]
  },
  {
   "cell_type": "markdown",
   "metadata": {},
   "source": [
    "Q8. Which type of plot can be used to display data in terms of range?"
   ]
  },
  {
   "cell_type": "markdown",
   "metadata": {},
   "source": [
    "To display data in terms of range, the following types of plots can be used:\n",
    "\n",
    "Box Plot : This plot visually represents the range of data, including the minimum, maximum, median, and quartiles. It shows the spread and distribution of the data and highlights outliers.\n",
    "\n",
    "Range Plot: A specific plot that displays the range of data points directly, showing the minimum and maximum values, often used in time series or statistical analysis.\n",
    "\n",
    "Error Bar Plot: Useful for displaying the range of variability or uncertainty around data points. Error bars extend above and below the data points to show the range of possible values."
   ]
  },
  {
   "cell_type": "markdown",
   "metadata": {},
   "source": [
    "Q9. Describe the difference between descriptive and inferential statistics. Give an example of each type of statistics and explain how they are used."
   ]
  },
  {
   "cell_type": "markdown",
   "metadata": {},
   "source": [
    "Ans:\n",
    "\n",
    "Descriptive Statistics\n",
    "\n",
    "Definition: Summarizes and presents the main features of a dataset.\n",
    "\n",
    "Characteristics: Provides measures such as mean, median, mode, range, and standard deviation.\n",
    "\n",
    "Visualization: Uses charts like histograms, bar charts, and box plots.\n",
    "\n",
    "Example: Calculating the average test score of a class, median salary, or standard deviation of exam results.\n",
    "\n",
    "Inferential Statistics\n",
    "\n",
    "Definition: Uses a sample to make generalizations or predictions about a larger population.\n",
    "\n",
    "Characteristics: Includes hypothesis testing, confidence intervals, and regression analysis.\n",
    "\n",
    "Usage: Makes predictions or tests assumptions about a population based on sample data.\n",
    "\n",
    "Example: Conducting a t-test to compare test scores between two teaching methods, or estimating a population mean from a sample."
   ]
  },
  {
   "cell_type": "markdown",
   "metadata": {},
   "source": [
    "Q10. What are some common measures of central tendency and variability used in statistics? Explain how each measure can be used to describe a dataset."
   ]
  },
  {
   "cell_type": "markdown",
   "metadata": {},
   "source": [
    "Measures of Central Tendency\n",
    "\n",
    "Mean\n",
    "\n",
    "Definition: The average of all data points in a dataset.\n",
    "Calculation: Sum of all values divided by the number of values.\n",
    "Usage: Provides a single value representing the center of the dataset. Useful for understanding the overall level of the data.\n",
    "Example: Average test score of students in a class.\n",
    "\n",
    "Median\n",
    "\n",
    "Definition: The middle value when the data points are arranged in ascending or descending order.\n",
    "Calculation: If the number of observations is odd, the median is the middle value. If even, it is the average of the two middle values.\n",
    "Usage: Represents the central point of a dataset and is less affected by extreme values (outliers) compared to the mean.\n",
    "Example: Median income of households in a neighborhood.\n",
    "\n",
    "Mode\n",
    "\n",
    "Definition: The value that occurs most frequently in a dataset.\n",
    "Calculation: Identified by counting the frequency of each value and selecting the most common one.\n",
    "Usage: Useful for categorical data to identify the most common category or value.\n",
    "Example: Most common shoe size purchased in a store.\n",
    "\n",
    "\n",
    "Measures of Variability\n",
    "\n",
    "\n",
    "Range\n",
    "\n",
    "Definition: The difference between the maximum and minimum values in a dataset.\n",
    "Calculation: Maximum value minus the minimum value.\n",
    "Usage: Indicates the spread of data values but can be affected by outliers.\n",
    "Example: Range of ages in a group of participants.\n",
    "\n",
    "\n",
    "Variance\n",
    "\n",
    "Definition: The average of the squared differences from the mean.\n",
    "Calculation: Sum of squared deviations from the mean divided by the number of observations.\n",
    "Usage: Measures the extent to which data points differ from the mean. Higher variance indicates greater spread.\n",
    "Example: Variance in exam scores among students.\n",
    "\n",
    "\n",
    "Standard Deviation\n",
    "\n",
    "Definition: The square root of the variance.\n",
    "Calculation: Provides a measure of the average distance of each data point from the mean.\n",
    "Usage: Indicates the typical deviation from the mean, making it easier to understand the spread of data in the same units as the original data.\n",
    "Example: Standard deviation of heights in a population."
   ]
  },
  {
   "cell_type": "code",
   "execution_count": null,
   "metadata": {},
   "outputs": [],
   "source": []
  }
 ],
 "metadata": {
  "language_info": {
   "name": "python"
  }
 },
 "nbformat": 4,
 "nbformat_minor": 2
}
