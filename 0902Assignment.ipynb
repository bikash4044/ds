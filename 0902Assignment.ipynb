{
 "cells": [
  {
   "cell_type": "markdown",
   "id": "1735b8f0-802e-4091-9dd3-be30ee4a5003",
   "metadata": {},
   "source": [
    "## 1"
   ]
  },
  {
   "cell_type": "code",
   "execution_count": 1,
   "id": "d153ef44-b9a3-47cf-b1aa-d32302e63e10",
   "metadata": {},
   "outputs": [],
   "source": [
    "class vehicle:\n",
    "    def __init__(self,name,maxspeed,avg):\n",
    "        self.name_of_vehicle = name\n",
    "        self.max_speed = maxspeed\n",
    "        self.average_of_vehicle = avg"
   ]
  },
  {
   "cell_type": "markdown",
   "id": "c60a614e-7446-4ff3-950a-1fed4dfad8ac",
   "metadata": {},
   "source": [
    "## 2"
   ]
  },
  {
   "cell_type": "code",
   "execution_count": 2,
   "id": "0f983da2-c56d-48d5-a68a-7bd80279fb21",
   "metadata": {},
   "outputs": [],
   "source": [
    "class car(vehicle):\n",
    "    \n",
    "    \n",
    "    def seating_capacity(self,cap):\n",
    "        self.capacity = cap\n",
    "        return self.name_of_vehicle, self.capacity"
   ]
  },
  {
   "cell_type": "code",
   "execution_count": 3,
   "id": "0f7d95dd-6d73-44f0-b68b-3bca5ba41181",
   "metadata": {},
   "outputs": [],
   "source": [
    "c=car(\"Ferrari\",320,200)"
   ]
  },
  {
   "cell_type": "code",
   "execution_count": 4,
   "id": "0df43561-29f3-440e-9c8f-556b71b07179",
   "metadata": {},
   "outputs": [
    {
     "data": {
      "text/plain": [
       "('Ferrari', 2)"
      ]
     },
     "execution_count": 4,
     "metadata": {},
     "output_type": "execute_result"
    }
   ],
   "source": [
    "c.seating_capacity(2)"
   ]
  },
  {
   "cell_type": "markdown",
   "id": "25d159b0-4b78-498c-b13d-efd374954a98",
   "metadata": {},
   "source": [
    "## 3"
   ]
  },
  {
   "cell_type": "markdown",
   "id": "4bccfcc6-9eb6-4713-aca3-a163e887383a",
   "metadata": {},
   "source": [
    "if a class inherits from multiple class then it is called multiple inheritance."
   ]
  },
  {
   "cell_type": "code",
   "execution_count": 5,
   "id": "b996f4e5-6e1e-456d-896c-c8ccaed23161",
   "metadata": {},
   "outputs": [],
   "source": [
    "class a:\n",
    "    def funa():\n",
    "        pass\n",
    "    \n",
    "class b:\n",
    "    def funb():\n",
    "        pass\n",
    "    \n",
    "class c(a,b):\n",
    "    def func():\n",
    "        pass"
   ]
  },
  {
   "cell_type": "markdown",
   "id": "072c83de-5625-48b5-a1ff-17310e3039d3",
   "metadata": {},
   "source": [
    "## 4"
   ]
  },
  {
   "cell_type": "markdown",
   "id": "9c68e2af-ab80-4508-aff0-e6e15d3a5a51",
   "metadata": {},
   "source": [
    "getter and setter are the methods used to get the value or set it."
   ]
  },
  {
   "cell_type": "code",
   "execution_count": 6,
   "id": "7984a6b5-d307-4a03-81a8-abd727bf6003",
   "metadata": {},
   "outputs": [],
   "source": [
    "class getset:\n",
    "    def __init__(init,val):\n",
    "        self.a=val\n",
    "        \n",
    "    def getter(self):\n",
    "        return self.a\n",
    "    def setter(self,val):\n",
    "        self.a = val"
   ]
  },
  {
   "cell_type": "markdown",
   "id": "57e34557-2ee8-4634-92c7-5a42fd069473",
   "metadata": {},
   "source": [
    "## 5"
   ]
  },
  {
   "cell_type": "markdown",
   "id": "73da3c99-03c5-40f0-bbd0-9b8ac38716da",
   "metadata": {},
   "source": [
    "method overriding allows the child class to override the method defined in base class. for exaple lets define a child class to getset class of question 4, that will return x**2"
   ]
  },
  {
   "cell_type": "code",
   "execution_count": 7,
   "id": "a6bf6202-0b55-4dfe-99b5-66c1c17b8e3d",
   "metadata": {},
   "outputs": [],
   "source": [
    "class mod(getset):\n",
    "    def getter(self):\n",
    "        return self.a**2"
   ]
  },
  {
   "cell_type": "code",
   "execution_count": null,
   "id": "aa6f9dba-6284-48f7-bcde-f7fbc10365c6",
   "metadata": {},
   "outputs": [],
   "source": []
  }
 ],
 "metadata": {
  "kernelspec": {
   "display_name": "Python 3 (ipykernel)",
   "language": "python",
   "name": "python3"
  },
  "language_info": {
   "codemirror_mode": {
    "name": "ipython",
    "version": 3
   },
   "file_extension": ".py",
   "mimetype": "text/x-python",
   "name": "python",
   "nbconvert_exporter": "python",
   "pygments_lexer": "ipython3",
   "version": "3.10.8"
  }
 },
 "nbformat": 4,
 "nbformat_minor": 5
}
