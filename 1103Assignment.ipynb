{
 "cells": [
  {
   "cell_type": "markdown",
   "metadata": {},
   "source": [
    "Q1: What is the difference between a t-test and a z-test? Provide an example scenario where you would use each type of test.\n",
    "\n",
    "ANs:\n",
    "\n",
    "Differences:\n",
    "\n",
    "t-test:\n",
    "Used when the sample size is small (usually less than 30) and the population standard deviation is unknown.\n",
    "Uses the Student's t-distribution with thicker tails to account for the uncertainty in estimating the population standard deviation from the sample.\n",
    "\n",
    "z-test:\n",
    "Used when the sample size is large (usually 30 or more) or when the population standard deviation is known.\n",
    "Uses the standard normal distribution (Z-distribution) with thinner tails, assuming the sampling distribution of the mean is approximately normal.\n",
    "\n",
    "Example Scenarios:\n",
    "\n",
    "t-test:\n",
    "\n",
    "Scenario: You are studying the effect of a new teaching method on student performance with a small sample of 25 students. You want to compare their average test scores to the known average of students taught with a traditional method. Since the sample size is small and you don’t know the population standard deviation, you would use a t-test.\n",
    "\n",
    "z-test:\n",
    "\n",
    "Scenario: You are a quality control manager at a factory and want to check if a batch of light bulbs has an average lifespan different from the known population average of 1000 hours. With a large sample of 100 light bulbs and knowing the population standard deviation of 50 hours, you would use a z-test to see if the sample mean differs significantly from the population mean."
   ]
  },
  {
   "cell_type": "markdown",
   "metadata": {},
   "source": [
    "Q2: Differentiate between one-tailed and two-tailed tests.\n",
    "\n",
    "Ans:\n",
    "\n",
    "One-Tailed Test:\n",
    "Purpose: Tests for the possibility of an effect in one specific direction. It assesses whether the sample mean is significantly greater than or less than the population mean, but not both.\n",
    "\n",
    "Hypotheses:\n",
    "\n",
    "Null Hypothesis (H0): The population mean is equal to the sample mean.\n",
    "Alternative Hypothesis (H1): The population mean is either greater than or less than the sample mean (but not both).\n",
    "\n",
    "Critical Region: All of the rejection area is located in one tail of the distribution. If you’re testing whether the sample mean is greater than the population mean, the critical region is in the upper tail; if you’re testing whether it is less, the critical region is in the lower tail.\n",
    "\n",
    "Use Case Example: You are testing a new drug that is claimed to improve recovery time. You want to test if the new drug leads to a shorter recovery time than the current standard. Since you are only interested in whether the new drug reduces recovery time (and not if it increases it), you would use a one-tailed test.\n",
    "\n",
    "Two-Tailed Test:\n",
    "Purpose: Tests for the possibility of an effect in both directions. It assesses whether the sample mean is significantly different from the population mean, without specifying which direction the difference might be.\n",
    "\n",
    "Hypotheses:\n",
    "\n",
    "Null Hypothesis (H0): The population mean is equal to the sample mean.\n",
    "Alternative Hypothesis (H1): The population mean is either greater than or less than the sample mean (both directions).\n",
    "\n",
    "Critical Region: The rejection areas are split between both tails of the distribution. You look at both the upper and lower tails to determine if the sample mean differs significantly from the population mean.\n",
    "\n",
    "Use Case Example: You are testing whether a new teaching method changes students' average test scores compared to a traditional method. You are interested in finding out if the new method either increases or decreases the average test score. Since you’re open to differences in either direction, you would use a two-tailed test."
   ]
  },
  {
   "cell_type": "markdown",
   "metadata": {},
   "source": [
    "Q3: Explain the concept of Type 1 and Type 2 errors in hypothesis testing. Provide an example scenario for each type of error.\n",
    "\n",
    "Ans:\n",
    "\n",
    "Type I Error:\n",
    "\n",
    "Definition: A Type I error occurs when the null hypothesis is incorrectly rejected when it is actually true. In other words, it's the mistake of finding evidence for an effect or difference when none actually exists.\n",
    "\n",
    "Also Known As: False positive.\n",
    "\n",
    "Significance Level: The probability of making a Type I error is denoted by alpha (α), which is the significance level of the test (e.g., 0.05 or 5%). This is the threshold set before conducting the test for rejecting the null hypothesis.\n",
    "\n",
    "Example Scenario: Imagine a new drug is tested to determine if it is more effective than the current standard drug. The null hypothesis is that there is no difference in effectiveness between the new drug and the standard drug. If the test results lead you to reject the null hypothesis and conclude that the new drug is more effective, but in reality, the new drug is no better than the standard drug, you have committed a Type I error. You’ve incorrectly identified an effect that doesn’t exist.\n",
    "\n",
    "Type II Error:\n",
    "\n",
    "Definition: A Type II error occurs when the null hypothesis is not rejected when it is actually false. In other words, it's the mistake of failing to find evidence for an effect or difference when one actually exists.\n",
    "\n",
    "Also Known As: False negative.\n",
    "\n",
    "Significance Level: The probability of making a Type II error is denoted by beta (β). The power of the test (1 - β) is the probability of correctly rejecting the null hypothesis when it is false.\n",
    "\n",
    "Example Scenario: Using the same drug study, if the new drug is actually more effective than the standard drug, but the test results fail to reject the null hypothesis (indicating no significant difference), you have committed a Type II error. You’ve missed detecting a real effect of the new drug."
   ]
  },
  {
   "cell_type": "markdown",
   "metadata": {},
   "source": [
    "Q4: Explain Bayes's theorem with an example.\n",
    "\n",
    "Ans:\n",
    "\n",
    "Bayes's theorem helps update the probability of a hypothesis based on new evidence. It combines prior knowledge with new data.\n",
    "\n",
    "Formula:\n",
    "\n",
    "P(A|B) = (P(B|A) * P(A)) / P(B)\n",
    "\n",
    "Where:\n",
    "\n",
    "P(A|B) is the probability of event A given that B has occurred (posterior probability).\n",
    "P(B|A) is the probability of event B given that A is true (likelihood).\n",
    "P(A) is the initial probability of event A (prior probability).\n",
    "P(B) is the total probability of event B (marginal probability).\n",
    "Example Scenario:\n",
    "\n",
    "Situation: You want to determine the likelihood that a person has a rare disease given a positive test result.\n",
    "\n",
    "Known Data:\n",
    "\n",
    "The disease prevalence (prior probability) is 1% (0.01).\n",
    "The test has a 95% true positive rate (sensitivity), so if a person has the disease, the test will be positive 95% of the time.\n",
    "The test has a 5% false positive rate, so if a person does not have the disease, there’s a 5% chance the test will be positive.\n",
    "Objective: Given a positive test result, what is the probability that the person actually has the disease?\n",
    "\n",
    "Steps:\n",
    "\n",
    "Define Events:\n",
    "\n",
    "A = person has the disease.\n",
    "B = test is positive.\n",
    "Known Probabilities:\n",
    "\n",
    "P(A) = 0.01 (prior probability of having the disease).\n",
    "P(B|A) = 0.95 (probability of a positive test given the disease).\n",
    "P(B|¬A) = 0.05 (probability of a positive test given no disease).\n",
    "Calculate P(B): The total probability of a positive test.\n",
    "P(B) = (P(B|A) * P(A)) + (P(B|¬A) * P(¬A))\n",
    "P(¬A) = 1 - P(A) = 0.99\n",
    "So,\n",
    "P(B) = (0.95 * 0.01) + (0.05 * 0.99) = 0.0095 + 0.0495 = 0.059\n",
    "\n",
    "Apply Bayes's Theorem:\n",
    "P(A|B) = (P(B|A) * P(A)) / P(B)\n",
    "P(A|B) = (0.95 * 0.01) / 0.059 ≈ 0.161"
   ]
  },
  {
   "cell_type": "markdown",
   "metadata": {},
   "source": [
    "Q5: What is a confidence interval? How to calculate the confidence interval, explain with an example.\n",
    "\n",
    "Ans:\n",
    "\n",
    "A confidence interval (CI) is a range of values used to estimate the true value of a population parameter based on sample data. It provides an interval within which you can be reasonably confident that the parameter lies.\n",
    "\n",
    "Concept:\n",
    "\n",
    "Confidence Level: Indicates how confident you are that the interval contains the true population parameter. Common levels are 90%, 95%, and 99%.\n",
    "Interval: The range of values calculated from the sample data. For example, from 50 to 60, with a confidence level of 95%.\n",
    "Calculation:\n",
    "\n",
    "To calculate a confidence interval for the mean of a sample:\n",
    "\n",
    "Determine the Sample Mean (x̄).\n",
    "Determine the Sample Standard Deviation (s) if the sample size is small, or the Population Standard Deviation (σ) if known.\n",
    "Find the Sample Size (n).\n",
    "Choose the Confidence Level (e.g., 95%).\n",
    "Find the Appropriate Critical Value (Z or t-value) for the confidence level and sample size.\n",
    "Calculate the Margin of Error.\n",
    "Construct the Confidence Interval.\n",
    "Example:\n",
    "\n",
    "Scenario: You have a sample of 30 students who took a math test. You want to estimate the average score of all students.\n",
    "\n",
    "The sample mean score is 75.\n",
    "The sample standard deviation is 10.\n",
    "You want a 95% confidence interval.\n",
    "Steps:\n",
    "\n",
    "Determine the Sample Mean (x̄): 75.\n",
    "Determine the Sample Standard Deviation (s): 10.\n",
    "Determine the Sample Size (n): 30.\n",
    "Choose the Confidence Level: 95%.\n",
    "Find the Critical Value:\n",
    "For a 95% confidence level and 29 degrees of freedom (n-1), the critical t-value (from t-tables) is approximately 2.045.\n",
    "Calculate the Margin of Error:\n",
    "Margin of Error = Critical Value × (s / √n)\n",
    "Margin of Error = 2.045 × (10 / √30) ≈ 2.045 × 1.832 ≈ 3.75\n",
    "Construct the Confidence Interval:\n",
    "Confidence Interval = x̄ ± Margin of Error\n",
    "Confidence Interval = 75 ± 3.75\n",
    "Confidence Interval = (71.25, 78.75)\n",
    "\n",
    "Conclusion: You are 95% confident that the true average score of all students lies between 71.25 and 78.75."
   ]
  },
  {
   "cell_type": "markdown",
   "metadata": {},
   "source": [
    "Q6. Use Bayes' Theorem to calculate the probability of an event occurring given prior knowledge of the event's probability and new evidence. Provide a sample problem and solution.\n",
    "\n",
    "Ans:\n",
    "\n",
    " Let's consider this through an example.\n",
    "\n",
    " You are evaluating a diagnostic test for a rare disease with the following information:\n",
    "\n",
    "The prevalence of the disease (prior probability) is 2% (0.02).\n",
    "The test has a true positive rate (sensitivity) of 90% (0.90), meaning if a person has the disease, the test will be positive 90% of the time.\n",
    "The test has a false positive rate of 5% (0.05), meaning if a person does not have the disease, the test will incorrectly be positive 5% of the time.\n",
    "Objective: Given a positive test result, what is the probability that the person actually has the disease?\n",
    "\n",
    "Solution Using Bayes' Theorem:\n",
    "Define Events:\n",
    "\n",
    "A = person has the disease.\n",
    "B = test is positive.\n",
    "Known Probabilities:\n",
    "\n",
    "P(A) = 0.02 (probability of having the disease).\n",
    "P(B|A) = 0.90 (probability of a positive test given the disease).\n",
    "P(B|¬A) = 0.05 (probability of a positive test given no disease).\n",
    "Calculate P(B), the total probability of a positive test:\n",
    "P(B) = P(B|A) * P(A) + P(B|A) * P(A)\n",
    "Where:\n",
    "\n",
    "P(¬A) = 1 - P(A) = 0.98\n",
    "Therefore:\n",
    "P(B) = (0.90 * 0.02) + (0.05 * 0.98)\n",
    "P(B) = 0.018 + 0.049 = 0.067\n",
    "\n",
    "Apply Bayes' Theorem:\n",
    "P(A|B) = (P(B|A) * P(A)) / P(B)\n",
    "P(A|B) = (0.90 * 0.02) / 0.067\n",
    "P(A|B) = 0.018 / 0.067 ~~ 0.268"
   ]
  },
  {
   "cell_type": "markdown",
   "metadata": {},
   "source": [
    "Q7. Calculate the 95% confidence interval for a sample of data with a mean of 50 and a standard deviation of 5. Interpret the results.\n",
    "\n",
    "Ans:\n",
    "\n",
    "Steps to Calculate the 95% Confidence Interval:\n",
    "\n",
    "Sample Mean (x_): 50\n",
    "\n",
    "Standard Deviation (s): 5\n",
    "\n",
    "Sample Size (n): 30\n",
    "\n",
    "Find the Critical Value:\n",
    "\n",
    "For a 95% confidence interval with 29 degrees of freedom (n - 1), the critical t-value is approximately 2.045.\n",
    "Calculate the Margin of Error:\n",
    "\n",
    "Margin of Error = Critical Value × (s / √n)\n",
    "Margin of Error = 2.045 × (5 / √30)\n",
    "Margin of Error = 2.045 × (5 / 5.477)\n",
    "Margin of Error = 2.045 × 0.912\n",
    "Margin of Error ≈ 1.868\n",
    "Construct the Confidence Interval:\n",
    "\n",
    "Confidence Interval = x_ ± Margin of Error\n",
    "Confidence Interval = 50 ± 1.868\n",
    "Confidence Interval = (48.132, 51.868)"
   ]
  },
  {
   "cell_type": "markdown",
   "metadata": {},
   "source": [
    "Q8. What is the margin of error in a confidence interval? How does sample size affect the margin of error?\n",
    "Provide an example of a scenario where a larger sample size would result in a smaller margin of error.\n",
    "\n",
    "Ans:\n",
    "\n",
    "The margin of error is the range around a sample estimate (like a mean) within which you expect the true population parameter to lie. It shows how much the sample estimate might differ from the true value.\n",
    "\n",
    "Formula:\n",
    "Margin of Error = Critical Value × (Standard Deviation / √Sample Size)\n",
    "\n",
    "How Sample Size Affects the Margin of Error\n",
    "Relationship: As the sample size increases, the margin of error decreases. This happens because a larger sample provides a more accurate estimate, making the margin of error smaller.\n",
    "\n",
    "Example Scenario\n",
    "\n",
    "Scenario: A company surveys employees to estimate the average salary. They want to reduce the margin of error for a more accurate estimate.\n",
    "\n",
    "Initial Sample Size: 50 employees\n",
    "\n",
    "Average salary = $60,000\n",
    "Standard deviation = $8,000\n",
    "Critical value for 95% confidence = 1.96\n",
    "Margin of Error Calculation:\n",
    "Margin of Error = 1.96 × (8,000 / √50)\n",
    "Margin of Error = 1.96 × (8,000 / 7.07)\n",
    "Margin of Error = 1.96 × 1,132 ≈ $2,220\n",
    "\n",
    "95% Confidence Interval:\n",
    "$60,000 ± $2,220\n",
    "Range: $57,780 to $62,220\n",
    "\n",
    "Increased Sample Size: 200 employees\n",
    "\n",
    "Average salary = $60,000\n",
    "Standard deviation = $8,000\n",
    "Critical value for 95% confidence = 1.96\n",
    "New Margin of Error Calculation:\n",
    "Margin of Error = 1.96 × (8,000 / √200)\n",
    "Margin of Error = 1.96 × (8,000 / 14.14)\n",
    "Margin of Error = 1.96 × 565.7 ≈ $1,108\n",
    "\n",
    "95% Confidence Interval:\n",
    "$60,000 ± $1,108\n",
    "Range: $58,892 to $61,108"
   ]
  },
  {
   "cell_type": "markdown",
   "metadata": {},
   "source": [
    "Q9. Calculate the z-score for a data point with a value of 75, a population mean of 70, and a population\n",
    "standard deviation of 5. Interpret the results."
   ]
  },
  {
   "cell_type": "code",
   "execution_count": 1,
   "metadata": {},
   "outputs": [
    {
     "name": "stdout",
     "output_type": "stream",
     "text": [
      "Z-score: 1.0\n"
     ]
    }
   ],
   "source": [
    "\n",
    "data_point = 75\n",
    "mean = 70\n",
    "std_dev = 5\n",
    "\n",
    "z_score = (data_point - mean) / std_dev\n",
    "\n",
    "print(\"Z-score:\", z_score)\n"
   ]
  },
  {
   "cell_type": "markdown",
   "metadata": {},
   "source": [
    "Q10. In a study of the effectiveness of a new weight loss drug, a sample of 50 participants lost an average\n",
    "of 6 pounds with a standard deviation of 2.5 pounds. Conduct a hypothesis test to determine if the drug is\n",
    "significantly effective at a 95% confidence level using a t-test.\n",
    "\n",
    "Ans:\n"
   ]
  },
  {
   "cell_type": "code",
   "execution_count": 2,
   "metadata": {},
   "outputs": [
    {
     "name": "stdout",
     "output_type": "stream",
     "text": [
      "T-statistic: 16.970562748477143\n",
      "P-value: 0.0\n",
      "Critical t-value: 2.0095752371292397\n",
      "Reject the null hypothesis: The drug is significantly effective.\n"
     ]
    }
   ],
   "source": [
    "import scipy.stats as stats\n",
    "\n",
    "# Given values\n",
    "sample_mean = 6\n",
    "population_mean = 0\n",
    "std_dev = 2.5\n",
    "sample_size = 50\n",
    "\n",
    "# Calculate the t-statistic\n",
    "t_statistic = (sample_mean - population_mean) / (std_dev / (sample_size ** 0.5))\n",
    "\n",
    "# Degrees of freedom\n",
    "df = sample_size - 1\n",
    "\n",
    "# Calculate the p-value for a two-tailed test\n",
    "p_value = 2 * (1 - stats.t.cdf(abs(t_statistic), df))\n",
    "\n",
    "# Critical t-value for a 95% confidence level\n",
    "critical_value = stats.t.ppf(0.975, df)  # two-tailed, so use 0.975\n",
    "\n",
    "# Print results\n",
    "print(\"T-statistic:\", t_statistic)\n",
    "print(\"P-value:\", p_value)\n",
    "print(\"Critical t-value:\", critical_value)\n",
    "\n",
    "# Interpretation\n",
    "if abs(t_statistic) > critical_value:\n",
    "    print(\"Reject the null hypothesis: The drug is significantly effective.\")\n",
    "else:\n",
    "    print(\"Fail to reject the null hypothesis: There is not enough evidence to say the drug is effective.\")\n"
   ]
  },
  {
   "cell_type": "markdown",
   "metadata": {},
   "source": [
    "Q11. In a survey of 500 people, 65% reported being satisfied with their current job. Calculate the 95%\n",
    "confidence interval for the true proportion of people who are satisfied with their job."
   ]
  },
  {
   "cell_type": "code",
   "execution_count": 5,
   "metadata": {},
   "outputs": [
    {
     "name": "stdout",
     "output_type": "stream",
     "text": [
      "95% Confidence Interval: (0.6081925393809212, 0.6918074606190788)\n"
     ]
    }
   ],
   "source": [
    "import scipy.stats as stats\n",
    "import math\n",
    "\n",
    "sample_size = 500\n",
    "sample_proportion = 0.65\n",
    "confidence_level = 0.95\n",
    "\n",
    "z_score = stats.norm.ppf((1 + confidence_level) / 2)\n",
    "standard_error = math.sqrt((sample_proportion * (1 - sample_proportion)) / sample_size)\n",
    "margin_of_error = z_score * standard_error\n",
    "\n",
    "confidence_interval = (sample_proportion - margin_of_error, sample_proportion + margin_of_error)\n",
    "\n",
    "print(\"95% Confidence Interval:\", confidence_interval)\n"
   ]
  },
  {
   "cell_type": "markdown",
   "metadata": {},
   "source": [
    "Q12. A researcher is testing the effectiveness of two different teaching methods on student performance.\n",
    "Sample A has a mean score of 85 with a standard deviation of 6, while sample B has a mean score of 82\n",
    "with a standard deviation of 5. Conduct a hypothesis test to determine if the two teaching methods have a\n",
    "significant difference in student performance using a t-test with a significance level of 0.01."
   ]
  },
  {
   "cell_type": "code",
   "execution_count": 6,
   "metadata": {},
   "outputs": [
    {
     "name": "stdout",
     "output_type": "stream",
     "text": [
      "T-statistic: 2.1038606199548298\n",
      "P-value: 0.04417796236203286\n",
      "Critical value: 2.756385903670335\n",
      "Fail to reject the null hypothesis: There is not enough evidence to say there is a significant difference.\n"
     ]
    }
   ],
   "source": [
    "import scipy.stats as stats\n",
    "\n",
    "mean_A = 85\n",
    "std_dev_A = 6\n",
    "n_A = 30  # Assuming sample size for A\n",
    "\n",
    "mean_B = 82\n",
    "std_dev_B = 5\n",
    "n_B = 30  # Assuming sample size for B\n",
    "\n",
    "pooled_std = (((std_dev_A ** 2) / n_A) + ((std_dev_B ** 2) / n_B)) ** 0.5\n",
    "t_statistic = (mean_A - mean_B) / pooled_std\n",
    "df = min(n_A - 1, n_B - 1)\n",
    "p_value = 2 * (1 - stats.t.cdf(abs(t_statistic), df))\n",
    "\n",
    "alpha = 0.01\n",
    "critical_value = stats.t.ppf(1 - alpha / 2, df)\n",
    "\n",
    "print(\"T-statistic:\", t_statistic)\n",
    "print(\"P-value:\", p_value)\n",
    "print(\"Critical value:\", critical_value)\n",
    "\n",
    "if abs(t_statistic) > critical_value:\n",
    "    print(\"Reject the null hypothesis: There is a significant difference between the two teaching methods.\")\n",
    "else:\n",
    "    print(\"Fail to reject the null hypothesis: There is not enough evidence to say there is a significant difference.\")\n"
   ]
  },
  {
   "cell_type": "markdown",
   "metadata": {},
   "source": [
    "Q13. A population has a mean of 60 and a standard deviation of 8. A sample of 50 observations has a mean\n",
    "of 65. Calculate the 90% confidence interval for the true population mean."
   ]
  },
  {
   "cell_type": "code",
   "execution_count": 7,
   "metadata": {},
   "outputs": [
    {
     "name": "stdout",
     "output_type": "stream",
     "text": [
      "90% Confidence Interval: (63.13906055411732, 66.86093944588268)\n"
     ]
    }
   ],
   "source": [
    "import scipy.stats as stats\n",
    "import math\n",
    "\n",
    "population_mean = 60\n",
    "std_dev = 8\n",
    "sample_size = 50\n",
    "sample_mean = 65\n",
    "\n",
    "z_score = stats.norm.ppf(0.95)\n",
    "standard_error = std_dev / math.sqrt(sample_size)\n",
    "margin_of_error = z_score * standard_error\n",
    "\n",
    "confidence_interval = (sample_mean - margin_of_error, sample_mean + margin_of_error)\n",
    "\n",
    "print(\"90% Confidence Interval:\", confidence_interval)\n"
   ]
  },
  {
   "cell_type": "markdown",
   "metadata": {},
   "source": [
    "Q14. In a study of the effects of caffeine on reaction time, a sample of 30 participants had an average\n",
    "reaction time of 0.25 seconds with a standard deviation of 0.05 seconds. Conduct a hypothesis test to\n",
    "determine if the caffeine has a significant effect on reaction time at a 90% confidence level using a t-test."
   ]
  },
  {
   "cell_type": "code",
   "execution_count": 8,
   "metadata": {},
   "outputs": [
    {
     "name": "stdout",
     "output_type": "stream",
     "text": [
      "T-statistic: -5.47722557505166\n",
      "P-value: 6.7391453468790274e-06\n",
      "Critical value: 1.6991270265334972\n",
      "Reject the null hypothesis: Caffeine has a significant effect on reaction time.\n"
     ]
    }
   ],
   "source": [
    "import scipy.stats as stats\n",
    "import math\n",
    "\n",
    "sample_mean = 0.25\n",
    "std_dev = 0.05\n",
    "sample_size = 30\n",
    "population_mean = 0.30  # Assuming the null hypothesis mean is 0.30 seconds\n",
    "\n",
    "t_statistic = (sample_mean - population_mean) / (std_dev / math.sqrt(sample_size))\n",
    "df = sample_size - 1\n",
    "p_value = 2 * (1 - stats.t.cdf(abs(t_statistic), df))\n",
    "\n",
    "alpha = 0.10\n",
    "critical_value = stats.t.ppf(1 - alpha / 2, df)\n",
    "\n",
    "print(\"T-statistic:\", t_statistic)\n",
    "print(\"P-value:\", p_value)\n",
    "print(\"Critical value:\", critical_value)\n",
    "\n",
    "if abs(t_statistic) > critical_value:\n",
    "    print(\"Reject the null hypothesis: Caffeine has a significant effect on reaction time.\")\n",
    "else:\n",
    "    print(\"Fail to reject the null hypothesis: There is not enough evidence to say caffeine has a significant effect.\")\n"
   ]
  },
  {
   "cell_type": "code",
   "execution_count": null,
   "metadata": {},
   "outputs": [],
   "source": []
  }
 ],
 "metadata": {
  "kernelspec": {
   "display_name": "base",
   "language": "python",
   "name": "python3"
  },
  "language_info": {
   "codemirror_mode": {
    "name": "ipython",
    "version": 3
   },
   "file_extension": ".py",
   "mimetype": "text/x-python",
   "name": "python",
   "nbconvert_exporter": "python",
   "pygments_lexer": "ipython3",
   "version": "3.12.4"
  }
 },
 "nbformat": 4,
 "nbformat_minor": 2
}
