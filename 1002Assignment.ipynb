{
 "cells": [
  {
   "cell_type": "markdown",
   "metadata": {},
   "source": [
    "Q1. Which function is used to open a file? What are the different modes of opening a file? Explain each mode of file opening.\n",
    "\n",
    "A: open() function is used to open files for different operations.\n",
    "    different modes of opening a file are:\n",
    "    1. 'r'- reading\n",
    "    2. 'w'- writing\n",
    "    3. 'a'- append\n",
    "    4. '+'- this is used when we need  both read and write \n",
    "    5. 'b'- binary mode\n",
    "    6. 'x'- exclusively for creation, fails if the file already exists"
   ]
  },
  {
   "cell_type": "markdown",
   "metadata": {},
   "source": [
    "Q2. Why close() function is used? Why is it important to close a file?\n",
    "\n",
    "A: close() is necessary for a file to update the changes. without this statement, this file is updated only at program termination."
   ]
  },
  {
   "cell_type": "code",
   "execution_count": 7,
   "metadata": {},
   "outputs": [
    {
     "data": {
      "text/plain": [
       "'I want to become a Data Scientist'"
      ]
     },
     "execution_count": 7,
     "metadata": {},
     "output_type": "execute_result"
    }
   ],
   "source": [
    "#Q3. WAP to create a file, write in it and read content\n",
    "\n",
    "f=open(\"text.txt\",'w')\n",
    "f.write(\"I want to become a Data Scientist\")\n",
    "f.close()\n",
    "f=open(\"text.txt\",'r')\n",
    "f.read()"
   ]
  },
  {
   "cell_type": "markdown",
   "metadata": {},
   "source": [
    "Q4. Explain the following with python code: read(), readline() and readlines().\n",
    "\n",
    "A:\n",
    "read(): reads n bytes of data from file, if not specified, reads the entire file.\n",
    "readline(): reads one line from file.\n",
    "readlines(): reads the file and list all the lines from file"
   ]
  },
  {
   "cell_type": "markdown",
   "metadata": {},
   "source": [
    "Q5. Explain why with statement is used with open(). What is the advantage of using with statement and open() together?\n",
    "\n",
    "A: with open() is used to open a file. The advantage is, it closes the file without any close() as soon as the file object goes out of scope."
   ]
  },
  {
   "cell_type": "code",
   "execution_count": 9,
   "metadata": {},
   "outputs": [
    {
     "data": {
      "text/plain": [
       "'hello'"
      ]
     },
     "execution_count": 9,
     "metadata": {},
     "output_type": "execute_result"
    }
   ],
   "source": [
    "#Q6. Explain the write() and writelines() functions. Give a suitable example.\n",
    "f=open(\"text.txt\",'w')\n",
    "f.write(\"hello\")\n",
    "f.close()\n",
    "f=open(\"text.txt\",'r')\n",
    "f.read()"
   ]
  },
  {
   "cell_type": "code",
   "execution_count": 12,
   "metadata": {},
   "outputs": [
    {
     "data": {
      "text/plain": [
       "['hellogood morningtake care']"
      ]
     },
     "execution_count": 12,
     "metadata": {},
     "output_type": "execute_result"
    }
   ],
   "source": [
    "ls = [\"hello\",\"good morning\",\"take care\"]\n",
    "f=open(\"text.txt\",'w')\n",
    "f.writelines(ls)\n",
    "f.close()\n",
    "f=open(\"text.txt\",'r')\n",
    "f.readlines()"
   ]
  },
  {
   "cell_type": "markdown",
   "metadata": {},
   "source": [
    "As seen from the code, write() write a single string, but writelines() writes a list of string into the file."
   ]
  }
 ],
 "metadata": {
  "kernelspec": {
   "display_name": "Python 3",
   "language": "python",
   "name": "python3"
  },
  "language_info": {
   "codemirror_mode": {
    "name": "ipython",
    "version": 3
   },
   "file_extension": ".py",
   "mimetype": "text/x-python",
   "name": "python",
   "nbconvert_exporter": "python",
   "pygments_lexer": "ipython3",
   "version": "3.10.6"
  }
 },
 "nbformat": 4,
 "nbformat_minor": 2
}
