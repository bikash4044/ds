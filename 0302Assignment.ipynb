{
 "cells": [
  {
   "cell_type": "markdown",
   "id": "35488eed-e976-43eb-ace6-7b5e187feac5",
   "metadata": {},
   "source": [
    "## 1"
   ]
  },
  {
   "cell_type": "markdown",
   "id": "4cf44025-53c6-4cdd-8c31-56420afd57da",
   "metadata": {},
   "source": [
    "def keyword is used to create a function"
   ]
  },
  {
   "cell_type": "code",
   "execution_count": 3,
   "id": "80def18f-e769-40c0-bf81-5acde57e1b33",
   "metadata": {},
   "outputs": [],
   "source": [
    "def odd():\n",
    "    n=[]\n",
    "    for i in range(1,26):\n",
    "        if i%2 != 0:\n",
    "            n.append(i)\n",
    "    return n"
   ]
  },
  {
   "cell_type": "code",
   "execution_count": 4,
   "id": "2f067642-0ad5-4ecf-9f0f-fb1659907d82",
   "metadata": {},
   "outputs": [
    {
     "data": {
      "text/plain": [
       "[1, 3, 5, 7, 9, 11, 13, 15, 17, 19, 21, 23, 25]"
      ]
     },
     "execution_count": 4,
     "metadata": {},
     "output_type": "execute_result"
    }
   ],
   "source": [
    "odd()"
   ]
  },
  {
   "cell_type": "markdown",
   "id": "6283ea1c-02bb-448f-8dcf-bd4914c3310d",
   "metadata": {},
   "source": [
    "## 2"
   ]
  },
  {
   "cell_type": "markdown",
   "id": "2d55b331-f6e6-4208-8609-0f6bffdee15f",
   "metadata": {},
   "source": [
    "*args takes multiple elements and treat the collection as a tuple, whereas **kwargs takes multiple elements and treat the collection as a key-value pair i.e a dictionary."
   ]
  },
  {
   "cell_type": "code",
   "execution_count": 5,
   "id": "e5786308-6ac4-478e-922d-99dfbf712d24",
   "metadata": {},
   "outputs": [],
   "source": [
    "def test1(*arg):\n",
    "    print(arg)"
   ]
  },
  {
   "cell_type": "code",
   "execution_count": 6,
   "id": "d2eff403-fbf1-4a2f-9224-0d9c42c6d5ec",
   "metadata": {},
   "outputs": [],
   "source": [
    "def test2(**kwarg):\n",
    "    print(kwarg)"
   ]
  },
  {
   "cell_type": "code",
   "execution_count": 7,
   "id": "03213a5c-9735-4032-853a-c9d9f7c34559",
   "metadata": {},
   "outputs": [
    {
     "name": "stdout",
     "output_type": "stream",
     "text": [
      "(1, 2, 3, 4, 5)\n"
     ]
    }
   ],
   "source": [
    "test1(1,2,3,4,5)"
   ]
  },
  {
   "cell_type": "code",
   "execution_count": 8,
   "id": "acd5c83d-ccf3-4189-b6c1-a20a38f7030e",
   "metadata": {},
   "outputs": [
    {
     "name": "stdout",
     "output_type": "stream",
     "text": [
      "{'a': 1, 'b': 2, 'c': 3}\n"
     ]
    }
   ],
   "source": [
    "test2(a=1,b=2,c=3)"
   ]
  },
  {
   "cell_type": "markdown",
   "id": "42afea7c-997f-496e-9c50-6b1df317b0ab",
   "metadata": {},
   "source": [
    "## 3"
   ]
  },
  {
   "cell_type": "markdown",
   "id": "f0fcdbb7-643a-4c65-97e5-c26feb6fceea",
   "metadata": {},
   "source": [
    "An iterator in python is an object that is used to access the values of llist one by one.\n"
   ]
  },
  {
   "cell_type": "code",
   "execution_count": 18,
   "id": "be38e0fe-c809-4313-8ec7-775e6f31dd48",
   "metadata": {},
   "outputs": [],
   "source": [
    "l=[2, 4, 6, 8, 10, 12, 14, 16,\n",
    "18, 20]\n",
    "it=iter(l)"
   ]
  },
  {
   "cell_type": "code",
   "execution_count": 19,
   "id": "a4157a28-e9f5-4ca7-8b36-d576e6943414",
   "metadata": {},
   "outputs": [
    {
     "name": "stdout",
     "output_type": "stream",
     "text": [
      "2\n",
      "4\n",
      "6\n",
      "8\n",
      "10\n"
     ]
    }
   ],
   "source": [
    "for i in range(0,5):\n",
    "    print(next(it))"
   ]
  },
  {
   "cell_type": "markdown",
   "id": "85888163-c539-4967-b7de-6974ac1f043f",
   "metadata": {},
   "source": [
    "## 4"
   ]
  },
  {
   "cell_type": "markdown",
   "id": "f783e8a9-596f-4011-b853-7db3f774504f",
   "metadata": {},
   "source": [
    "Generator function in python is a function that supllies a sequence of values one by one instead of creating a list of it."
   ]
  },
  {
   "cell_type": "markdown",
   "id": "3e630b95-4d24-4c0f-a7e1-e8578c6d2469",
   "metadata": {},
   "source": [
    "yield keyword is in generator function to supply the next value of a sequence."
   ]
  },
  {
   "cell_type": "code",
   "execution_count": 11,
   "id": "1066f9a1-b9cb-4fcd-aee9-ba36ebc051e7",
   "metadata": {},
   "outputs": [],
   "source": [
    "def gen():\n",
    "    for i in range(1,11):\n",
    "        yield i"
   ]
  },
  {
   "cell_type": "code",
   "execution_count": 13,
   "id": "ae7a5941-1489-4cc4-865c-3445e678af99",
   "metadata": {},
   "outputs": [
    {
     "name": "stdout",
     "output_type": "stream",
     "text": [
      "[1, 2, 3, 4, 5, 6, 7, 8, 9, 10]\n"
     ]
    }
   ],
   "source": [
    "print(list(gen()))"
   ]
  },
  {
   "cell_type": "markdown",
   "id": "7d49714d-0e65-4edf-b4d0-f081798370f4",
   "metadata": {},
   "source": [
    "## 5"
   ]
  },
  {
   "cell_type": "code",
   "execution_count": 14,
   "id": "de3124d1-b299-4ae7-aafe-10103e49112e",
   "metadata": {},
   "outputs": [],
   "source": [
    "def prime():\n",
    "    yield 2\n",
    "    for i in range(3,1001):\n",
    "        flag=1\n",
    "        for j in range(2,i):\n",
    "            if i%j==0:\n",
    "                flag = 0\n",
    "        if flag:\n",
    "            yield i"
   ]
  },
  {
   "cell_type": "code",
   "execution_count": 24,
   "id": "249b5179-66f0-478b-8cf0-ce540e4c45b8",
   "metadata": {},
   "outputs": [
    {
     "name": "stdout",
     "output_type": "stream",
     "text": [
      "2\n",
      "3\n",
      "5\n",
      "7\n",
      "11\n",
      "13\n",
      "17\n",
      "19\n",
      "23\n",
      "29\n",
      "31\n",
      "37\n",
      "41\n",
      "43\n",
      "47\n",
      "53\n",
      "59\n",
      "61\n",
      "67\n",
      "71\n"
     ]
    }
   ],
   "source": [
    "pr=iter(prime())\n",
    "for i in range(20):\n",
    "    print(next(pr))"
   ]
  }
 ],
 "metadata": {
  "kernelspec": {
   "display_name": "Python 3 (ipykernel)",
   "language": "python",
   "name": "python3"
  },
  "language_info": {
   "codemirror_mode": {
    "name": "ipython",
    "version": 3
   },
   "file_extension": ".py",
   "mimetype": "text/x-python",
   "name": "python",
   "nbconvert_exporter": "python",
   "pygments_lexer": "ipython3",
   "version": "3.10.8"
  }
 },
 "nbformat": 4,
 "nbformat_minor": 5
}
