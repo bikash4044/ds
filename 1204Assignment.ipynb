{
 "cells": [
  {
   "cell_type": "markdown",
   "metadata": {},
   "source": [
    "Q1. How does bagging reduce overfitting in decision trees?\n",
    "\n",
    "Ans:\n",
    "\n",
    "Bagging reduces overfitting by training multiple decision trees on different subsets of the data and averaging their predictions, which helps to smooth out noise and variance."
   ]
  },
  {
   "cell_type": "markdown",
   "metadata": {},
   "source": [
    "Q2. What are the advantages and disadvantages of using different types of base learners in bagging?\n",
    "\n",
    "Ans:\n",
    "\n",
    "\n",
    "Advantages:\n",
    "\n",
    "Diverse Models: Using different base learners can improve overall performance by leveraging their unique strengths.\n",
    "Reduced Bias: Combining various models can reduce bias and increase robustness.\n",
    "\n",
    "Disadvantages:\n",
    "\n",
    "Complexity: Managing and tuning different base learners can be complex.\n",
    "Increased Computation: More diverse models can lead to higher computational costs."
   ]
  },
  {
   "cell_type": "markdown",
   "metadata": {},
   "source": [
    "Q3. How does the choice of base learner affect the bias-variance tradeoff in bagging?\n",
    "\n",
    "Ans:\n",
    "\n",
    "High-Bias Learners: Using models with high bias (e.g., simple decision trees) in bagging can lead to higher bias in the ensemble but lower variance.\n",
    "\n",
    "High-Variance Learners: Using models with high variance (e.g., deep decision trees) can lower bias but increase variance in the ensemble. Bagging helps to reduce this variance."
   ]
  },
  {
   "cell_type": "markdown",
   "metadata": {},
   "source": [
    "Q4. Can bagging be used for both classification and regression tasks? How does it differ in each case?\n",
    "\n",
    "Ans:\n",
    "\n",
    "\n",
    "Yes, bagging can be used for both:\n",
    "\n",
    "Classification: Combines predictions using majority voting or averaging probabilities.\n",
    "Regression: Combines predictions by averaging the outputs.\n",
    "\n",
    "The key difference is in how predictions are aggregated: voting for classification and averaging for regression."
   ]
  },
  {
   "cell_type": "markdown",
   "metadata": {},
   "source": [
    "Q5. What is the role of ensemble size in bagging? How many models should be included in the ensemble?\n",
    "\n",
    "Ans:\n",
    "\n",
    "Ensemble size in bagging affects performance:\n",
    "\n",
    "Larger Size: Generally improves stability and accuracy by reducing variance.\n",
    "Smaller Size: May not fully leverage the benefits of bagging."
   ]
  },
  {
   "cell_type": "markdown",
   "metadata": {},
   "source": [
    "Q6. Can you provide an example of a real-world application of bagging in machine learning?\n",
    "\n",
    "Ans:\n",
    "\n",
    "Sure! Bagging is used in image recognition. For instance, in identifying objects in photos, bagging combines predictions from multiple decision trees to improve accuracy and robustness."
   ]
  }
 ],
 "metadata": {
  "language_info": {
   "name": "python"
  }
 },
 "nbformat": 4,
 "nbformat_minor": 2
}
