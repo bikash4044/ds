{
 "cells": [
  {
   "cell_type": "markdown",
   "metadata": {},
   "source": [
    "Q1. What is multiprocessing in python? Why is it useful?\n",
    "\n",
    "A:\n",
    "Multiprocessing allows to run multiple processes, each with its own memory space, parallelly.  Its helpful, as we don't need another(previous) process to end. it also allows using the shared variable."
   ]
  },
  {
   "cell_type": "markdown",
   "metadata": {},
   "source": [
    "Q2. What are the differences between multiprocessing and multithreading?\n",
    "\n",
    "A:\n",
    "Multiprocessing uses two or more CPUs to increase computing power, whereas multithreading uses a single process with multiple code segments to increase computing power."
   ]
  },
  {
   "cell_type": "code",
   "execution_count": 1,
   "metadata": {},
   "outputs": [
    {
     "name": "stdout",
     "output_type": "stream",
     "text": [
      "[1, 4, 9]\n"
     ]
    }
   ],
   "source": [
    "#Q3 Write a python code to create a process using the multiprocessing module. \n",
    "\n",
    "from multiprocessing import Pool\n",
    "\n",
    "def f(x):\n",
    "    return x*x\n",
    "\n",
    "\n",
    "with Pool(5) as p:\n",
    "    print(p.map(f, [1, 2, 3]))\n"
   ]
  },
  {
   "cell_type": "markdown",
   "metadata": {},
   "source": [
    "Q4. What is a multiprocessing pool in python? Why is it used?\n",
    "\n",
    "A: Pool is a class present in multiprocessing module.\n",
    "Multiprocessing pool in python is used to distribute task to the available processor using FIFO(first in first out) principle."
   ]
  },
  {
   "cell_type": "markdown",
   "metadata": {},
   "source": [
    "Q5. How can we create a pool of worker processes in python using the multiprocessing module?\n",
    "\n",
    "A:\n",
    "\n",
    "with Pool(3) as pool:\n",
    "        lst = [1,2,4,6,8]\n",
    "        rslt = pool.map(function_name,lst) \n",
    "        #lst is the input list\n",
    "\n",
    "\n"
   ]
  },
  {
   "cell_type": "code",
   "execution_count": 2,
   "metadata": {},
   "outputs": [
    {
     "name": "stdout",
     "output_type": "stream",
     "text": [
      "values: [1, 2, 4, 6, 8]\n",
      "result: [1, 4, 16, 36, 64]\n"
     ]
    }
   ],
   "source": [
    "#Q6 Write a python program to create 4 processes, each process should print a different number using the multiprocessing module in python.\n",
    "\n",
    "from multiprocessing import Pool\n",
    "\n",
    "def sq(n):\n",
    "    return n*n\n",
    "\n",
    "\n",
    "if __name__ == \"__main__\":\n",
    "    with Pool(3) as pool:\n",
    "        lst = [1,2,4,6,8]\n",
    "        rslt = pool.map(sq,lst)\n",
    "        \n",
    "    print(f\"values: {lst}\")\n",
    "    print(f\"result: {rslt}\")"
   ]
  },
  {
   "cell_type": "code",
   "execution_count": null,
   "metadata": {},
   "outputs": [],
   "source": []
  }
 ],
 "metadata": {
  "kernelspec": {
   "display_name": "Python 3 (ipykernel)",
   "language": "python",
   "name": "python3"
  },
  "language_info": {
   "codemirror_mode": {
    "name": "ipython",
    "version": 3
   },
   "file_extension": ".py",
   "mimetype": "text/x-python",
   "name": "python",
   "nbconvert_exporter": "python",
   "pygments_lexer": "ipython3",
   "version": "3.10.8"
  }
 },
 "nbformat": 4,
 "nbformat_minor": 4
}
