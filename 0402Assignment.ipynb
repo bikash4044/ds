{
 "cells": [
  {
   "cell_type": "markdown",
   "id": "a6749429-80d2-4b6a-9191-ca9ac6841fc3",
   "metadata": {},
   "source": [
    "## 1"
   ]
  },
  {
   "cell_type": "code",
   "execution_count": 1,
   "id": "ae8c5a8a-3891-4b4c-9a89-e8703f57dc46",
   "metadata": {},
   "outputs": [],
   "source": [
    "l=[('Sachin Tendulkar', 34357), ('Ricky Ponting', 27483), ('Jack Kallis', 25534), ('Virat Kohli', 24936)]"
   ]
  },
  {
   "cell_type": "code",
   "execution_count": 3,
   "id": "73bb0ab8-0f6d-4e5e-a892-6ffde4e0e963",
   "metadata": {},
   "outputs": [],
   "source": [
    "def fn(p):\n",
    "    return p[1]\n",
    "    \n",
    "l.sort(key=fn)"
   ]
  },
  {
   "cell_type": "code",
   "execution_count": 4,
   "id": "7b87702b-cfc9-4bee-b132-6fe7e91bb038",
   "metadata": {},
   "outputs": [
    {
     "data": {
      "text/plain": [
       "[('Virat Kohli', 24936),\n",
       " ('Jack Kallis', 25534),\n",
       " ('Ricky Ponting', 27483),\n",
       " ('Sachin Tendulkar', 34357)]"
      ]
     },
     "execution_count": 4,
     "metadata": {},
     "output_type": "execute_result"
    }
   ],
   "source": [
    "l"
   ]
  },
  {
   "cell_type": "markdown",
   "id": "7b340a66-7640-48c2-b2ea-402e12c2bdba",
   "metadata": {},
   "source": [
    "## 2"
   ]
  },
  {
   "cell_type": "code",
   "execution_count": 7,
   "id": "c1e8092c-a673-4aa4-a566-07b6ae2f4270",
   "metadata": {},
   "outputs": [],
   "source": [
    "l1=[x for x in range(1,11)]"
   ]
  },
  {
   "cell_type": "code",
   "execution_count": 8,
   "id": "f2c9ecf2-7653-4324-9880-7aee6abc1a6d",
   "metadata": {},
   "outputs": [
    {
     "data": {
      "text/plain": [
       "[1, 2, 3, 4, 5, 6, 7, 8, 9, 10]"
      ]
     },
     "execution_count": 8,
     "metadata": {},
     "output_type": "execute_result"
    }
   ],
   "source": [
    "l1"
   ]
  },
  {
   "cell_type": "code",
   "execution_count": 9,
   "id": "a4b98ed3-085c-4db5-ba09-4241a599bfd5",
   "metadata": {},
   "outputs": [],
   "source": [
    "l2=[x**2 for x in l1]"
   ]
  },
  {
   "cell_type": "code",
   "execution_count": 10,
   "id": "b06ecf5e-ec3e-4c70-b1ad-4613372e2718",
   "metadata": {},
   "outputs": [
    {
     "data": {
      "text/plain": [
       "[1, 4, 9, 16, 25, 36, 49, 64, 81, 100]"
      ]
     },
     "execution_count": 10,
     "metadata": {},
     "output_type": "execute_result"
    }
   ],
   "source": [
    "l2"
   ]
  },
  {
   "cell_type": "code",
   "execution_count": 12,
   "id": "70973a3c-9208-4aab-a132-327e3c8fee9a",
   "metadata": {},
   "outputs": [
    {
     "data": {
      "text/plain": [
       "[1, 4, 9, 16, 25, 36, 49, 64, 81, 100]"
      ]
     },
     "execution_count": 12,
     "metadata": {},
     "output_type": "execute_result"
    }
   ],
   "source": [
    "list(map(lambda x : x**2,l1))"
   ]
  },
  {
   "cell_type": "markdown",
   "id": "79a4b332-96c7-46f4-9120-81ac2f992fa2",
   "metadata": {},
   "source": [
    "## 3"
   ]
  },
  {
   "cell_type": "code",
   "execution_count": 19,
   "id": "a9503e87-1a86-4cc2-94e1-2f5a4e7a42b4",
   "metadata": {},
   "outputs": [],
   "source": [
    "l3=tuple(map(lambda x : str(x),l1))"
   ]
  },
  {
   "cell_type": "code",
   "execution_count": 20,
   "id": "00f5e032-7805-4bc1-9dba-273c94a2a17d",
   "metadata": {},
   "outputs": [
    {
     "data": {
      "text/plain": [
       "('1', '2', '3', '4', '5', '6', '7', '8', '9', '10')"
      ]
     },
     "execution_count": 20,
     "metadata": {},
     "output_type": "execute_result"
    }
   ],
   "source": [
    "l3"
   ]
  },
  {
   "cell_type": "markdown",
   "id": "2f8c8faa-43ee-4964-b93f-5e1d5025959f",
   "metadata": {},
   "source": [
    "## 4"
   ]
  },
  {
   "cell_type": "code",
   "execution_count": 22,
   "id": "c483647c-2486-4ad0-9445-ca57bb7c33da",
   "metadata": {},
   "outputs": [],
   "source": [
    "l4=[x for x in range(1,26)]"
   ]
  },
  {
   "cell_type": "code",
   "execution_count": 23,
   "id": "c834e772-e350-45a5-8b50-348dc9004b3d",
   "metadata": {},
   "outputs": [
    {
     "data": {
      "text/plain": [
       "[1,\n",
       " 2,\n",
       " 3,\n",
       " 4,\n",
       " 5,\n",
       " 6,\n",
       " 7,\n",
       " 8,\n",
       " 9,\n",
       " 10,\n",
       " 11,\n",
       " 12,\n",
       " 13,\n",
       " 14,\n",
       " 15,\n",
       " 16,\n",
       " 17,\n",
       " 18,\n",
       " 19,\n",
       " 20,\n",
       " 21,\n",
       " 22,\n",
       " 23,\n",
       " 24,\n",
       " 25]"
      ]
     },
     "execution_count": 23,
     "metadata": {},
     "output_type": "execute_result"
    }
   ],
   "source": [
    "l4"
   ]
  },
  {
   "cell_type": "code",
   "execution_count": 26,
   "id": "6ae79ef7-1134-4bca-a416-37833b6bfb86",
   "metadata": {},
   "outputs": [
    {
     "data": {
      "text/plain": [
       "15511210043330985984000000"
      ]
     },
     "execution_count": 26,
     "metadata": {},
     "output_type": "execute_result"
    }
   ],
   "source": [
    "from functools import reduce\n",
    "reduce(lambda x,y : x*y, l4)"
   ]
  },
  {
   "cell_type": "markdown",
   "id": "764b5d14-3663-4b2e-a61b-bc6059cef5e3",
   "metadata": {},
   "source": [
    "## 5"
   ]
  },
  {
   "cell_type": "code",
   "execution_count": 27,
   "id": "3b863655-73d5-408a-aca9-15f24e7e152c",
   "metadata": {},
   "outputs": [],
   "source": [
    "l5 = [2, 3, 6, 9, 27, 60, 90, 120, 55, 46]"
   ]
  },
  {
   "cell_type": "code",
   "execution_count": 28,
   "id": "ec652f22-5b06-4e84-b446-3620830366f9",
   "metadata": {},
   "outputs": [
    {
     "data": {
      "text/plain": [
       "[2, 3, 6, 9, 27, 60, 90, 120, 46]"
      ]
     },
     "execution_count": 28,
     "metadata": {},
     "output_type": "execute_result"
    }
   ],
   "source": [
    "list(filter(lambda x : x%2==0 or x%3==0, l5))"
   ]
  },
  {
   "cell_type": "code",
   "execution_count": 29,
   "id": "f33dc19c-4bfb-4957-8fb9-915026bc016d",
   "metadata": {},
   "outputs": [],
   "source": [
    "l6=['python', 'php', 'aba', 'radar', 'level']"
   ]
  },
  {
   "cell_type": "code",
   "execution_count": 30,
   "id": "36ae1dc8-e796-44a4-922e-b3f5f14130f1",
   "metadata": {},
   "outputs": [
    {
     "data": {
      "text/plain": [
       "['php', 'aba', 'radar', 'level']"
      ]
     },
     "execution_count": 30,
     "metadata": {},
     "output_type": "execute_result"
    }
   ],
   "source": [
    "list(filter(lambda x: x[::-1]==x , l6))"
   ]
  },
  {
   "cell_type": "code",
   "execution_count": null,
   "id": "dcecb1e1-3a27-48d7-a915-bf84a41bfa57",
   "metadata": {},
   "outputs": [],
   "source": []
  }
 ],
 "metadata": {
  "kernelspec": {
   "display_name": "Python 3 (ipykernel)",
   "language": "python",
   "name": "python3"
  },
  "language_info": {
   "codemirror_mode": {
    "name": "ipython",
    "version": 3
   },
   "file_extension": ".py",
   "mimetype": "text/x-python",
   "name": "python",
   "nbconvert_exporter": "python",
   "pygments_lexer": "ipython3",
   "version": "3.10.8"
  }
 },
 "nbformat": 4,
 "nbformat_minor": 5
}
