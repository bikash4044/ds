{
 "cells": [
  {
   "cell_type": "markdown",
   "id": "18324ec3-685e-4486-af01-eaf0671e88d8",
   "metadata": {},
   "source": [
    "1. In OOP, Class represent a category having some specific attributes and the object represent an instance of it.\n",
    "\n",
    "example: CAR is a class but Hyundai i20 is an object."
   ]
  },
  {
   "cell_type": "markdown",
   "id": "3870c864-7aef-4248-a132-ea8140b65338",
   "metadata": {},
   "source": [
    "2. Four pillars of OOPs are polymorphism , abstraction, encapsulation and inheritance"
   ]
  },
  {
   "cell_type": "markdown",
   "id": "49daba5f-6ceb-4f6c-839b-405583ff77c4",
   "metadata": {},
   "source": [
    "3.  \"__ init __()\" is used to initialize an object of a class, as it is the constructor."
   ]
  },
  {
   "cell_type": "code",
   "execution_count": 5,
   "id": "15874be2-e1cd-42f5-b249-6cc5b8581cb4",
   "metadata": {},
   "outputs": [],
   "source": [
    "class cl:\n",
    "    def __init__(self,a):\n",
    "        self.sal=a\n",
    "    \n",
    "    def disp(self):\n",
    "        return self.sal\n",
    "        "
   ]
  },
  {
   "cell_type": "code",
   "execution_count": 7,
   "id": "14e05630-5274-4b45-a96b-d173a7120103",
   "metadata": {},
   "outputs": [],
   "source": [
    "obj=cl(5000)"
   ]
  },
  {
   "cell_type": "code",
   "execution_count": 8,
   "id": "ef774f42-a164-4077-b8d8-5ab787f44aff",
   "metadata": {},
   "outputs": [
    {
     "data": {
      "text/plain": [
       "5000"
      ]
     },
     "execution_count": 8,
     "metadata": {},
     "output_type": "execute_result"
    }
   ],
   "source": [
    "obj.disp()"
   ]
  },
  {
   "cell_type": "markdown",
   "id": "de821924-50d5-47d7-bf05-434f782f41bd",
   "metadata": {},
   "source": [
    "4. we can use self or any valid identifier in place of self. it is basically used as pointer to the object of the class."
   ]
  },
  {
   "cell_type": "markdown",
   "id": "8e0f6874-7cbd-43db-8b40-cb9f3d826b2f",
   "metadata": {},
   "source": [
    "5. Inheritance basically means to derrive or inherit the property and functions of one class into another class."
   ]
  },
  {
   "cell_type": "markdown",
   "id": "9b8d5999-c5b1-46e9-ad28-4af3cfdea392",
   "metadata": {},
   "source": [
    "example:\n",
    "1. single inheritance"
   ]
  },
  {
   "cell_type": "code",
   "execution_count": 11,
   "id": "9cce7914-e3cf-4f24-987c-e367cd4eec36",
   "metadata": {},
   "outputs": [],
   "source": [
    "class Parent:\n",
    "    def func(self):\n",
    "        pass\n",
    "    \n",
    "class Child(Parent):\n",
    "    def fun2(self):\n",
    "        pass\n",
    "    \n",
    "obj=Child()"
   ]
  },
  {
   "cell_type": "markdown",
   "id": "5e2b7258-82d5-47d8-a181-86d040d3ad56",
   "metadata": {},
   "source": [
    "2. Multiple Inheritance"
   ]
  },
  {
   "cell_type": "code",
   "execution_count": 12,
   "id": "c2de4350-e310-4448-8bf1-c12738b81c41",
   "metadata": {},
   "outputs": [],
   "source": [
    "class Parent1:\n",
    "    def func1(self):\n",
    "        pass\n",
    "    \n",
    "class Parent2:\n",
    "    def func2(self):\n",
    "        pass\n",
    "    \n",
    "class kid(Parent1, Parent2):\n",
    "    def func3(self):\n",
    "        pass\n",
    "    \n",
    "object_ = kid()"
   ]
  },
  {
   "cell_type": "markdown",
   "id": "5f4897ad-37a2-4127-a505-e19771a4692d",
   "metadata": {},
   "source": [
    "3. Multilevel Inheritance"
   ]
  },
  {
   "cell_type": "code",
   "execution_count": 13,
   "id": "ea1b878d-c660-416a-baf1-8134bf0cc493",
   "metadata": {},
   "outputs": [],
   "source": [
    "class grandparent:\n",
    "    def fn(self):\n",
    "        pass\n",
    "\n",
    "class parent(grandparent):\n",
    "    def fn1(self):\n",
    "        pass\n",
    "    \n",
    "class kidd(parent):\n",
    "    def fn2(self):\n",
    "        pass\n",
    "    \n",
    "kid_obj = kidd()"
   ]
  },
  {
   "cell_type": "markdown",
   "id": "7d89ae0c-9504-406e-a950-033c0f7b586d",
   "metadata": {},
   "source": [
    "4. Hierarchial Inheritance"
   ]
  },
  {
   "cell_type": "code",
   "execution_count": 14,
   "id": "89dbfa05-ad3c-4aba-8bde-93b090d72325",
   "metadata": {},
   "outputs": [],
   "source": [
    "class boss:\n",
    "    def fn(self):\n",
    "        pass\n",
    "\n",
    "class emp1(boss):\n",
    "    def fn1(self):\n",
    "        pass\n",
    "    \n",
    "class emp2(boss):\n",
    "    def fn2(self):\n",
    "        pass\n",
    "    \n",
    "E1 = emp1()\n",
    "E2 = emp2()"
   ]
  },
  {
   "cell_type": "markdown",
   "id": "e4f196cb-b4be-4a53-8683-ff0b49b9a947",
   "metadata": {},
   "source": [
    "5. Hybrid Inheritance: it is a combination of any of the above inheritances."
   ]
  },
  {
   "cell_type": "code",
   "execution_count": 15,
   "id": "aec48f95-51d2-4444-9c41-f2bc0e191094",
   "metadata": {},
   "outputs": [],
   "source": [
    "class boss:\n",
    "    def fn(self):\n",
    "        pass\n",
    "\n",
    "class emp1(boss):\n",
    "    def fn1(self):\n",
    "        pass\n",
    "\n",
    "class grandparent:\n",
    "    def fn(self):\n",
    "        pass\n",
    "\n",
    "class parent(grandparent):\n",
    "    def fn1(self):\n",
    "        pass\n",
    "    \n",
    "class kidd(parent,boss): #kid is grandchild to Grandparent as well as employee to boss\n",
    "    def fn2(self):\n",
    "        pass\n",
    "    \n",
    "E = emp1()\n",
    "S = kidd()"
   ]
  },
  {
   "cell_type": "code",
   "execution_count": null,
   "id": "12ffc78c-e5c5-4a9c-9fea-a547e249866d",
   "metadata": {},
   "outputs": [],
   "source": []
  }
 ],
 "metadata": {
  "kernelspec": {
   "display_name": "Python 3 (ipykernel)",
   "language": "python",
   "name": "python3"
  },
  "language_info": {
   "codemirror_mode": {
    "name": "ipython",
    "version": 3
   },
   "file_extension": ".py",
   "mimetype": "text/x-python",
   "name": "python",
   "nbconvert_exporter": "python",
   "pygments_lexer": "ipython3",
   "version": "3.10.8"
  }
 },
 "nbformat": 4,
 "nbformat_minor": 5
}
