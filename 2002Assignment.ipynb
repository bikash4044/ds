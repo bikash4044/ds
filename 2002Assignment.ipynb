{
 "cells": [
  {
   "cell_type": "code",
   "execution_count": null,
   "id": "dea263c6-9df7-40ee-a25c-6a85e8b2ff1f",
   "metadata": {},
   "outputs": [],
   "source": [
    "# Q1. Explain GET and POST methods.\n",
    "\n",
    "# A:\n",
    "# GET carries request parameter appended in URL string while POST carries request parameter in message body, for which GET is secure than POST.\n",
    "# GET makes the data vulnerable, while POST secures it.\n",
    "# GET is similar to google search, but POST is like the gmail."
   ]
  },
  {
   "cell_type": "code",
   "execution_count": null,
   "id": "19e8d653-2df1-4cc2-9632-738e7cd4dc0b",
   "metadata": {},
   "outputs": [],
   "source": [
    "# Q2. Why is request used in Flask?\n",
    "\n",
    "# A:\n",
    "# reuest in flask module is used to receive the data from HTML page.\n",
    "# synteax:\n",
    "# a = request.form[\"id1\"]"
   ]
  },
  {
   "cell_type": "code",
   "execution_count": null,
   "id": "5ee23853-bff7-4cb9-858e-dd99ec53d35a",
   "metadata": {},
   "outputs": [],
   "source": [
    "# Q3. Why is redirect() used in Flask?\n",
    "\n",
    "# A:\n",
    "# redirect in flask is used to send the user to another URL.\n",
    "\n",
    "# syntax:\n",
    "# flask.redirect(location,code=302)"
   ]
  },
  {
   "cell_type": "code",
   "execution_count": null,
   "id": "d0465279-4863-474a-b63b-2c9512f39202",
   "metadata": {},
   "outputs": [],
   "source": [
    "# Q4. What are templates in Flask? Why is the render_template() function used?\n",
    "\n",
    "# A:\n",
    "# Templates in flask are the files(basically HTML files), that contains static as well as dynamic data placeholders. Values of variables passed into the templates to produce the final document.\n",
    "# render_template() is used to generate the output page from the templates."
   ]
  },
  {
   "cell_type": "code",
   "execution_count": null,
   "id": "fc06366c-055d-4e86-b834-d63cd48c4de2",
   "metadata": {},
   "outputs": [],
   "source": [
    "# Q5. Create a simple API. Use Postman to test it. Attach the screenshot of the output in the Jupyter Notebook.\n",
    "\n",
    "# A:\n",
    "\n",
    "# from flask import Flask, render_template, request, jsonify\n",
    "\n",
    "# app = Flask(__name__)\n",
    "\n",
    "# @app.route('/')\n",
    "# def homepage():\n",
    "#     return render_template(\"index.html\")\n",
    "\n",
    "# @app.route('/usr', methods=[\"POST\"])\n",
    "# def rslt():\n",
    "#     if request.method == \"POST\":\n",
    "#         v = int(request.json[\"nm\"])\n",
    "#         res = str(v) + \" Entered\"\n",
    "#         return jsonify(result=res)\n",
    "\n",
    "# if __name__ == \"__main__\":\n",
    "#     app.run(host=\"0.0.0.0\", port=5000)\n",
    "    \n",
    "    \n",
    "# IMAGE: https://github.com/bikash4044/ds/blob/main/2002_flask.jpg"
   ]
  }
 ],
 "metadata": {
  "kernelspec": {
   "display_name": "Python 3 (ipykernel)",
   "language": "python",
   "name": "python3"
  },
  "language_info": {
   "codemirror_mode": {
    "name": "ipython",
    "version": 3
   },
   "file_extension": ".py",
   "mimetype": "text/x-python",
   "name": "python",
   "nbconvert_exporter": "python",
   "pygments_lexer": "ipython3",
   "version": "3.10.8"
  }
 },
 "nbformat": 4,
 "nbformat_minor": 5
}
