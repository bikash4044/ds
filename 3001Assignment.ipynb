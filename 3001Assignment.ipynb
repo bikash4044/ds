{
 "cells": [
  {
   "cell_type": "markdown",
   "id": "98267d22-e5bc-4f31-baf2-32853cceb3b9",
   "metadata": {},
   "source": [
    "## 1."
   ]
  },
  {
   "cell_type": "code",
   "execution_count": 1,
   "id": "abc9a69a-a106-45f1-a3fc-b59702705bcd",
   "metadata": {},
   "outputs": [
    {
     "name": "stdin",
     "output_type": "stream",
     "text": [
      "Enter Your Percentage: 75\n"
     ]
    },
    {
     "name": "stdout",
     "output_type": "stream",
     "text": [
      "Your grade is  C\n"
     ]
    }
   ],
   "source": [
    "perc=int(input(\"Enter Your Percentage:\")\n",
    "if perc > 90:\n",
    "    grade='A'\n",
    "elif perc > 80:\n",
    "    grade = 'B'\n",
    "elif perc >= 60:\n",
    "    grade = 'C'\n",
    "else:\n",
    "    grade = 'D'\n",
    "print(\"Your grade is \",grade)"
   ]
  },
  {
   "cell_type": "markdown",
   "id": "10e0d7dc-1321-4da8-9210-5faf7e6d4b2e",
   "metadata": {},
   "source": [
    "## 2."
   ]
  },
  {
   "cell_type": "code",
   "execution_count": 3,
   "id": "3dcffcb6-db3f-4ca0-85af-49067f386485",
   "metadata": {},
   "outputs": [
    {
     "name": "stdin",
     "output_type": "stream",
     "text": [
      "Enter price of bike: 60000\n"
     ]
    },
    {
     "name": "stdout",
     "output_type": "stream",
     "text": [
      "The tax to be paid is 6000.0 rupees\n"
     ]
    }
   ],
   "source": [
    "price=int(input(\"Enter price of bike:\"))\n",
    "if price > 100000:\n",
    "    tax = 0.15\n",
    "elif price> 50000:\n",
    "    tax = 0.1\n",
    "else:\n",
    "    tax = 0.05\n",
    "print(f\"The tax to be paid is {price*tax} rupees\")"
   ]
  },
  {
   "cell_type": "markdown",
   "id": "fdab6c53-6686-4f92-aed3-3a94b9fe0a4e",
   "metadata": {},
   "source": [
    "## 3."
   ]
  },
  {
   "cell_type": "code",
   "execution_count": 4,
   "id": "eae74d42-35e9-47ef-9eea-b6369849b548",
   "metadata": {},
   "outputs": [
    {
     "name": "stdin",
     "output_type": "stream",
     "text": [
      "Enter city name: Jaipur\n"
     ]
    },
    {
     "name": "stdout",
     "output_type": "stream",
     "text": [
      "Monument : Jal Mahal\n"
     ]
    }
   ],
   "source": [
    "city=input(\"Enter city name:\").lower()\n",
    "if city == \"delhi\":\n",
    "    print(\"Monument : Red Fort\")\n",
    "elif city == \"agra\":\n",
    "    print(\"Monument : Taj Mahal\")\n",
    "elif city == \"jaipur\":\n",
    "    print(\"Monument : Jal Mahal\")\n",
    "else:\n",
    "    print(\"The city is not in list\")"
   ]
  },
  {
   "cell_type": "markdown",
   "id": "9afc4c41-b9a5-4c62-ade5-e4bebb35efa1",
   "metadata": {},
   "source": [
    "## 4."
   ]
  },
  {
   "cell_type": "code",
   "execution_count": null,
   "id": "fd22274e-1d25-4446-acf9-5e23010a14f9",
   "metadata": {},
   "outputs": [],
   "source": [
    "num=int(input(\"Enter a number:\"))\n",
    "i=0\n",
    "n=num\n",
    "while n>10:\n",
    "        i+=1\n",
    "        n/=3\n",
    "print(f\"{num} can be divided {i} times by 3 before it less than or equal to 10\")"
   ]
  },
  {
   "cell_type": "markdown",
   "id": "fc2a6787-e660-4442-acfc-63707fa26808",
   "metadata": {},
   "source": [
    "5. A while loop is to be used when there ia a proper conndition to control the iteration. if there is an iterer then we must go for for loop."
   ]
  },
  {
   "cell_type": "markdown",
   "id": "6fe13d82-ccd4-4e7e-9bfd-73e7b5e7da29",
   "metadata": {},
   "source": [
    "## 6."
   ]
  },
  {
   "cell_type": "code",
   "execution_count": 15,
   "id": "471a65e1-f51e-4042-94aa-c4ec8851b6f1",
   "metadata": {},
   "outputs": [
    {
     "name": "stdout",
     "output_type": "stream",
     "text": [
      "*\n",
      "**\n",
      "***\n",
      "****\n",
      "*****\n",
      "******\n"
     ]
    }
   ],
   "source": [
    "i=j=0\n",
    "while i<6:\n",
    "    j=0\n",
    "    while j<6:\n",
    "        if i>=j:\n",
    "            print('*',end='')\n",
    "        j+=1\n",
    "    print(\"\")\n",
    "    i+=1"
   ]
  },
  {
   "cell_type": "code",
   "execution_count": 16,
   "id": "891cb61f-88c5-4d73-88e5-c61bc4a13983",
   "metadata": {},
   "outputs": [
    {
     "name": "stdout",
     "output_type": "stream",
     "text": [
      "******\n",
      "*****\n",
      "****\n",
      "***\n",
      "**\n",
      "*\n"
     ]
    }
   ],
   "source": [
    "i=j=0\n",
    "while i<6:\n",
    "    j=0\n",
    "    while j<6:\n",
    "        if i<=j:\n",
    "            print('*',end='')\n",
    "        j+=1\n",
    "    print(\"\")\n",
    "    i+=1"
   ]
  },
  {
   "cell_type": "code",
   "execution_count": 17,
   "id": "576848f5-f31e-404d-b553-879ec612b36a",
   "metadata": {},
   "outputs": [
    {
     "name": "stdout",
     "output_type": "stream",
     "text": [
      " ******\n",
      "  *****\n",
      "   ****\n",
      "    ***\n",
      "     **\n",
      "      *\n"
     ]
    }
   ],
   "source": [
    "i=j=0\n",
    "while i<6:\n",
    "    j=0\n",
    "    while j<6:\n",
    "        if i>=j:\n",
    "            print(' ',end='')\n",
    "        if i<=j:\n",
    "            print('*',end='')\n",
    "        j+=1\n",
    "    print(\"\")\n",
    "    i+=1"
   ]
  },
  {
   "cell_type": "markdown",
   "id": "2cb57c12-92a3-429f-876b-d906c96f2849",
   "metadata": {},
   "source": [
    "## 7."
   ]
  },
  {
   "cell_type": "code",
   "execution_count": 19,
   "id": "b7324864-d5db-43d4-b1eb-9d109ce6d815",
   "metadata": {},
   "outputs": [
    {
     "name": "stdout",
     "output_type": "stream",
     "text": [
      "10\n",
      "9\n",
      "8\n",
      "7\n",
      "6\n",
      "5\n",
      "4\n",
      "3\n",
      "2\n",
      "1\n"
     ]
    }
   ],
   "source": [
    "n=10\n",
    "while n>=1:\n",
    "    print(n)\n",
    "    n-=1"
   ]
  },
  {
   "cell_type": "code",
   "execution_count": null,
   "id": "b6972d1c-e36a-4cee-9926-cf544ea56336",
   "metadata": {},
   "outputs": [],
   "source": []
  }
 ],
 "metadata": {
  "kernelspec": {
   "display_name": "Python 3 (ipykernel)",
   "language": "python",
   "name": "python3"
  },
  "language_info": {
   "codemirror_mode": {
    "name": "ipython",
    "version": 3
   },
   "file_extension": ".py",
   "mimetype": "text/x-python",
   "name": "python",
   "nbconvert_exporter": "python",
   "pygments_lexer": "ipython3",
   "version": "3.10.8"
  }
 },
 "nbformat": 4,
 "nbformat_minor": 5
}
