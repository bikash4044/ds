{
 "cells": [
  {
   "cell_type": "markdown",
   "id": "455261c3-3784-458a-b407-0d01a37592fa",
   "metadata": {},
   "source": [
    "1 Pyhton was developed by Guido van Rossum."
   ]
  },
  {
   "cell_type": "markdown",
   "id": "7a39633a-c146-4e8c-ae80-7a5089bd2107",
   "metadata": {},
   "source": [
    "2 Python is an interpreted programming languagethat supports both object oriented as well as structural programming."
   ]
  },
  {
   "cell_type": "markdown",
   "id": "7d0fec7b-bfd9-4351-aea5-9f398fe0e33f",
   "metadata": {},
   "source": [
    "3. yes, Python is case sensitive while dealing with identifiers."
   ]
  },
  {
   "cell_type": "markdown",
   "id": "7661290d-58cd-45ed-8143-3ac8154fa32c",
   "metadata": {},
   "source": [
    "4. correct extension of python file is .py"
   ]
  },
  {
   "cell_type": "markdown",
   "id": "11235381-c099-4813-9cc1-f261d13369cf",
   "metadata": {},
   "source": [
    "5. Python code is interpreted."
   ]
  },
  {
   "cell_type": "markdown",
   "id": "4d7c334d-d3b9-445b-9bbe-79331f62c8f6",
   "metadata": {},
   "source": [
    "6. Functions, modules, classes are some blocks defined in python programming language."
   ]
  },
  {
   "cell_type": "markdown",
   "id": "1f57a248-aa2d-4a97-848a-dffe579974c0",
   "metadata": {},
   "source": [
    "7. '#' is used to give single line comment in python"
   ]
  },
  {
   "cell_type": "markdown",
   "id": "cbecb5b7-9466-4541-8351-d22536bd5acf",
   "metadata": {},
   "source": [
    "8. python -v can be used in command prompt to check for python version"
   ]
  },
  {
   "cell_type": "code",
   "execution_count": 4,
   "id": "47d7864f-02b7-479f-8e34-0aa5c8ff86b8",
   "metadata": {},
   "outputs": [
    {
     "data": {
      "text/plain": [
       "'3.10.8'"
      ]
     },
     "execution_count": 4,
     "metadata": {},
     "output_type": "execute_result"
    }
   ],
   "source": [
    "import platform \n",
    "platform.python_version()"
   ]
  },
  {
   "cell_type": "markdown",
   "id": "9dbf87ef-002f-4c7a-9aff-53b8a2910b64",
   "metadata": {},
   "source": [
    "it is also a method to check python version."
   ]
  },
  {
   "cell_type": "markdown",
   "id": "2537a7ac-af38-4e75-af43-36eae0b0389c",
   "metadata": {},
   "source": [
    "9. Python supports the creation of anonymous functions at runtime, using a construct called lambda. "
   ]
  },
  {
   "cell_type": "markdown",
   "id": "3a51761d-1723-4d3e-8849-8f2e53a1d3bd",
   "metadata": {},
   "source": [
    "10. pip stands for pip install packages"
   ]
  },
  {
   "cell_type": "markdown",
   "id": "b448c13e-5a34-45de-9021-87677b877de8",
   "metadata": {},
   "source": [
    "11. some of the built-in functions are print(),len(), int(), str(), float(), map(), etc"
   ]
  },
  {
   "cell_type": "markdown",
   "id": "536f7e11-cfda-47cb-9609-9759b5615340",
   "metadata": {},
   "source": [
    "12. An identifier in python can have maximum 79 characters."
   ]
  },
  {
   "cell_type": "markdown",
   "id": "716ccb1c-4247-4e52-8c2a-aa31d23b2b6a",
   "metadata": {},
   "source": [
    "13. Benefits of using python are:\n",
    "    easy to understand,\n",
    "    simple to use,\n",
    "    Free and Open source,\n",
    "    Portability of language,\n",
    "    dynamic in nature,\n",
    "    vast increasing community"
   ]
  },
  {
   "cell_type": "markdown",
   "id": "56d13148-d725-4887-8654-a9c77a81f662",
   "metadata": {},
   "source": [
    "14. Python memory manager allocates the memeory in the heap, that stores object and other data structures involved in a program."
   ]
  },
  {
   "cell_type": "markdown",
   "id": "b74960fa-f9b8-40df-88eb-c6b81d8fe473",
   "metadata": {},
   "source": [
    "15. Python can be downloaded and installed from python.org. Further the path varibale can be set at This PC -> Properties -> Advanced system setting -> Environment variable -> Path Variable"
   ]
  },
  {
   "cell_type": "markdown",
   "id": "efe3405a-f718-4d64-9e72-2b5e490a509b",
   "metadata": {},
   "source": [
    "16. Yes, indentation is required in python. it plays a vital role."
   ]
  },
  {
   "cell_type": "code",
   "execution_count": null,
   "id": "2a8df227-73ae-4952-b245-9924191933a5",
   "metadata": {},
   "outputs": [],
   "source": []
  }
 ],
 "metadata": {
  "kernelspec": {
   "display_name": "Python 3 (ipykernel)",
   "language": "python",
   "name": "python3"
  },
  "language_info": {
   "codemirror_mode": {
    "name": "ipython",
    "version": 3
   },
   "file_extension": ".py",
   "mimetype": "text/x-python",
   "name": "python",
   "nbconvert_exporter": "python",
   "pygments_lexer": "ipython3",
   "version": "3.10.8"
  }
 },
 "nbformat": 4,
 "nbformat_minor": 5
}
