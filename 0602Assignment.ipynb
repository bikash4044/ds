{
 "cells": [
  {
   "cell_type": "markdown",
   "id": "b328e030-36eb-41df-b7c4-4602ff57429a",
   "metadata": {},
   "source": [
    "## 1"
   ]
  },
  {
   "cell_type": "code",
   "execution_count": 1,
   "id": "dbd67eee-5511-47eb-9c67-29c55237e306",
   "metadata": {},
   "outputs": [],
   "source": [
    "list1 = [1,2,3,4, [44,55,66, True], False, (34,56,78,89,34), {1,2,3,3,2,1}, {1:34, \"key2\": [55, 67, 78, 89], 4: (45,\n",
    "22, 61, 34)}, [56, 'data science'], 'Machine Learning']"
   ]
  },
  {
   "cell_type": "code",
   "execution_count": 7,
   "id": "ebca38cc-0af9-49c6-8f7e-15e331326be4",
   "metadata": {},
   "outputs": [
    {
     "data": {
      "text/plain": [
       "4134711838987085478833841242112000"
      ]
     },
     "execution_count": 7,
     "metadata": {},
     "output_type": "execute_result"
    }
   ],
   "source": [
    "from functools import reduce\n",
    "def flatp(lists):\n",
    "\n",
    "    l=[]\n",
    "    for i in lists:\n",
    "        if type(i) == int or type(i) == float:\n",
    "            l.append(i)\n",
    "        elif type(i) == list or type(i) == tuple or type(i) == set:\n",
    "            if type(i) == list or type(i) == tuple:\n",
    "                temp = i\n",
    "            elif type(i) == set:\n",
    "                temp = list(i)\n",
    "            for j in temp:\n",
    "                if type(j) == int or type(j) == float:\n",
    "                    l.append(j)\n",
    "        \n",
    "        #to access everything in dictionary ....number or tuple or list or set\n",
    "        elif type(i) == dict:\n",
    "            for key in i.keys():\n",
    "                if type(key) == int or type(key) == float:\n",
    "                    l.append(key)\n",
    "                elif type(key) == list or type(key) == tuple or type(key) == set:\n",
    "                    if type(key) == list or type(key) == tuple:\n",
    "                        temp = key\n",
    "                    elif type(key) == set:\n",
    "                        temp = list(key)\n",
    "                    for j in temp:\n",
    "                        if type(j) == int or type(j) == float:\n",
    "                            l.append(j)\n",
    "                            \n",
    "            for value in i.values():\n",
    "                if type(value) == int or type(value) == float:\n",
    "                    l.append(value)\n",
    "                elif type(value) == list or type(value) == tuple or type(value) == set:\n",
    "                    if type(value) == list or type(value) == tuple:\n",
    "                        temp = value\n",
    "                    elif type(value) == set:\n",
    "                        temp = list(value)\n",
    "                    for j in temp:\n",
    "                        if type(j) == int or type(j) == float:\n",
    "                            l.append(j)              \n",
    "    p=reduce(lambda x,y: x*y, l)\n",
    "    return p\n",
    "\n",
    "flatp(list1)\n",
    "# another logic is to create functions to handle everything.. in its own manner and to add to global list --will be added later"
   ]
  },
  {
   "cell_type": "code",
   "execution_count": null,
   "id": "b3825b48-b1b3-400b-b9ee-fc5d68c5dab0",
   "metadata": {},
   "outputs": [],
   "source": []
  },
  {
   "cell_type": "code",
   "execution_count": 12,
   "id": "42cfea8a-57b3-42d0-bd62-dd44ed7164e3",
   "metadata": {},
   "outputs": [
    {
     "name": "stdout",
     "output_type": "stream",
     "text": [
      "i want to become a data scientist"
     ]
    }
   ],
   "source": [
    "list=[]\n",
    "for i in range(65,91):\n",
    "    list.append(chr(i).lower())\n",
    "    \n",
    "listi=list[::-1]\n",
    "\n",
    "msg=\"r dzmg gl yvxlnv z wzgz hxrvmgrhg\"\n",
    "#else msg can be given input\n",
    "m=msg.lower()\n",
    "rev=[]\n",
    "\n",
    "for i in m:\n",
    "    if not i in list:\n",
    "        rev. append(i)\n",
    "    else:\n",
    "        x=list.index(i)\n",
    "        rev.append(listi[x])\n",
    "    \n",
    "for i in rev:\n",
    "    print(i,end='')"
   ]
  }
 ],
 "metadata": {
  "kernelspec": {
   "display_name": "Python 3 (ipykernel)",
   "language": "python",
   "name": "python3"
  },
  "language_info": {
   "codemirror_mode": {
    "name": "ipython",
    "version": 3
   },
   "file_extension": ".py",
   "mimetype": "text/x-python",
   "name": "python",
   "nbconvert_exporter": "python",
   "pygments_lexer": "ipython3",
   "version": "3.10.8"
  }
 },
 "nbformat": 4,
 "nbformat_minor": 5
}
