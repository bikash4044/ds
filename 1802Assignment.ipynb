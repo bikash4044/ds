{
 "cells": [
  {
   "cell_type": "markdown",
   "id": "9a419eed-3adf-46f4-bdd2-4326d2897c14",
   "metadata": {},
   "source": [
    "Q1. What is an API? Give an example, where an API is used in real life.\n",
    "\n",
    "A:\n",
    "API stands for application programming interface. it is the interface for data transfer between frontend and backend. e.g: facebook, whatsapp, etc."
   ]
  },
  {
   "cell_type": "markdown",
   "id": "6d6e3767-0729-4749-af0b-5297ef1ec0ac",
   "metadata": {},
   "source": [
    "Q2. Give advantages and disadvantages of using API.\n",
    "\n",
    "A:\n",
    "Advantages:\n",
    "1. Improved Efficiency\n",
    "1. Better User Experience\n",
    "1. Increased Flexibility\n",
    "1. New Revenue Streams\n",
    "1. Increased Interoperability\n",
    "\n",
    "Disadvantages:\n",
    "1. Governance and Management\n",
    "1. Compatibility Issues\n",
    "1. Complexity\n",
    "1. Security Concerns"
   ]
  },
  {
   "cell_type": "markdown",
   "id": "fa2ee4e7-2502-4225-9b4f-2f42644d8734",
   "metadata": {},
   "source": [
    "Q3. What is a Web API? Differentiate between API and Web API.\n",
    "\n",
    "A:\n",
    "A Web API is an application programming interface for the Web. Web API can automatically convert request and response data into various formats, including JSON, XML, BSON, and url-encoded data."
   ]
  },
  {
   "cell_type": "markdown",
   "id": "97b82b76-7408-4f4f-a313-adadf2a56622",
   "metadata": {},
   "source": [
    "Q4. Explain REST and SOAP Architecture. Mention shortcomings of SOAP.\n",
    "\n",
    "A:\n",
    "SOAP and REST are two different approaches to API design. The SOAP approach is highly structured and uses XML data format. REST is more flexible and allows applications to exchange data in multiple formats.\n",
    "\n",
    "shortcomings of SOAP:\n",
    "1. slow process\n",
    "1. dificult to learn\n",
    "1. less/no flexibility\n"
   ]
  },
  {
   "cell_type": "markdown",
   "id": "c8a318bd-06c7-42fe-939c-daf2aa67f722",
   "metadata": {},
   "source": [
    "Q5. Differentiate between REST and SOAP.\n",
    "\n",
    "A:\n",
    "1. SOAP stands for Simple Object Access Protocol.\tREST stands for REpresentational State Transfer.\n",
    "1. SOAP can't use REST because it is a protocol.\tREST can use SOAP web services because it is a concept and can use any protocol like HTTP, SOAP.\n",
    "1. SOAP uses services interfaces to expose the business logic.\tREST uses URI to expose business logic.\n",
    "1. JAX-WS is the java API for SOAP web services.\tJAX-RS is the java API for RESTful web services.\n",
    "1. SOAP defines standards to be strictly followed. \tREST does not define too much standards like SOAP.\n",
    "1. SOAP requires more bandwidth and resource than REST.\tREST requires less bandwidth and resource than SOAP.\n",
    "1. SOAP defines its own security.\tRESTful web services inherits security measures from the underlying transport.\n",
    "1. SOAP permits XML data format only.\tREST permits different data format such as Plain text, HTML, XML, JSON etc."
   ]
  },
  {
   "cell_type": "code",
   "execution_count": null,
   "id": "9b4b68ca-c43a-4764-a94f-ae21cce57669",
   "metadata": {},
   "outputs": [],
   "source": []
  }
 ],
 "metadata": {
  "kernelspec": {
   "display_name": "Python 3 (ipykernel)",
   "language": "python",
   "name": "python3"
  },
  "language_info": {
   "codemirror_mode": {
    "name": "ipython",
    "version": 3
   },
   "file_extension": ".py",
   "mimetype": "text/x-python",
   "name": "python",
   "nbconvert_exporter": "python",
   "pygments_lexer": "ipython3",
   "version": "3.10.8"
  }
 },
 "nbformat": 4,
 "nbformat_minor": 5
}
