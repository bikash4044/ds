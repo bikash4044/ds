{
 "cells": [
  {
   "cell_type": "code",
   "execution_count": null,
   "id": "0c017667-49ee-4af3-b1d2-165ed7698bfd",
   "metadata": {},
   "outputs": [],
   "source": [
    "# Q1. What is Flask Framework? What are the advantages of Flask Framework?\n",
    "\n",
    "# A:\n",
    "# Flask framework is used in python for the purpose of creating a server.\n",
    "\n",
    "# Advantage:\n",
    "# It supports application programing interface(API).\n",
    "# It offers high levels of flexible to the user, allowing to implement various libraries as per the need.\n",
    "# it is a simple, light weight framework which makes it easy to learn and use."
   ]
  },
  {
   "cell_type": "code",
   "execution_count": null,
   "id": "ab8e28d6-de22-491b-96ef-a9f16b4a720b",
   "metadata": {},
   "outputs": [],
   "source": [
    "# Q2. Create a simple Flask application to display ‘Hello World!!’. Attach the screenshot of the output in\n",
    "# Jupyter Notebook.\n",
    "\n",
    "# A:\n",
    "# from flask import Flask\n",
    "\n",
    "# page = Flask(__name__)\n",
    "\n",
    "\n",
    "# @page.route(\"/\")\n",
    "# def hello():\n",
    "#     return(\"Hello World\")\n",
    "\n",
    "\n",
    "# if(__name__==\"__main__\"):\n",
    "#     page.run(host=\"0.0.0.0\")\n",
    "    \n",
    "    \n",
    "# IMAGE: https://github.com/bikash4044/ds/blob/main/1902_flask.png"
   ]
  },
  {
   "cell_type": "code",
   "execution_count": null,
   "id": "d66edbac-8062-4a56-a771-848acb54ea3b",
   "metadata": {},
   "outputs": [],
   "source": [
    "# Q3. What is App routing in Flask? Why do we use app routes?\n",
    "\n",
    "# A:\n",
    "# App Routing means mapping the URLs to a specific function that will handle the logic for that URL. \n",
    "# Modern web frameworks use app routes to help users remember the URLs and make navigation simpler. \n",
    "\n"
   ]
  },
  {
   "cell_type": "code",
   "execution_count": null,
   "id": "c39c1a54-4de5-4595-b812-fd4792c95ba2",
   "metadata": {},
   "outputs": [],
   "source": [
    "# Q4. Create a “/welcome” route to display the welcome message “Welcome to ABC Corporation” and a “/”\n",
    "# route to show the following details:\n",
    "# Company Name: ABC Corporation\n",
    "# Location: India\n",
    "# Contact Detail: 999-999-9999\n",
    "\n",
    "# A:\n",
    "# from flask import Flask\n",
    "\n",
    "# page = Flask(__name__)\n",
    "\n",
    "\n",
    "# @page.route(\"/\")\n",
    "# def disp2():\n",
    "#     return('''Company Name: ABC Corporation <br>\n",
    "#     Location: India <br>\n",
    "#     Contact Detail: 999-999-9999''')\n",
    "\n",
    "# @page.route(\"/welcome\")\n",
    "# def disp():\n",
    "#     return(\"Welcome to ABC Corporation\")\n",
    "\n",
    "\n",
    "# if(__name__==\"__main__\"):\n",
    "#     page.run(host=\"0.0.0.0\")\n",
    "    \n",
    "    \n",
    "# IMAGE: https://github.com/bikash4044/ds/blob/main/1902_flask2.png"
   ]
  },
  {
   "cell_type": "code",
   "execution_count": null,
   "id": "31fedfd0-0d64-4712-b4c0-773f0a88966e",
   "metadata": {},
   "outputs": [],
   "source": [
    "# Q5. What function is used in Flask for URL Building? Write a Python code to demonstrate the working of the url_for() function.\n",
    "\n",
    "# A:\n",
    "# url_for(\"function_name\") is used in python for URL building. it takes function as argument and returns the url.\n",
    "\n",
    "\n",
    "\n",
    "# code:\n",
    "# from flask import Flask, url_for\n",
    "\n",
    "# app = Flask(__name__)\n",
    "\n",
    "# @app.route('/')\n",
    "# def home():\n",
    "#     return 'Hello, this is the home page!'\n",
    "\n",
    "# @app.route('/about')\n",
    "# def about():\n",
    "#     return 'This is the about page.'\n",
    "\n",
    "# if __name__ == '__main__':\n",
    "#     with app.test_request_context():\n",
    "#         # Generate URLs using url_for()\n",
    "#         home_url = url_for('home')\n",
    "#         about_url = url_for('about')\n",
    "#         print(f\"HOME URL:{home_url}\")\n",
    "#         print(f\"ABOUT URL:{about_url}\")\n",
    "        \n",
    "\n",
    "        "
   ]
  }
 ],
 "metadata": {
  "kernelspec": {
   "display_name": "Python 3 (ipykernel)",
   "language": "python",
   "name": "python3"
  },
  "language_info": {
   "codemirror_mode": {
    "name": "ipython",
    "version": 3
   },
   "file_extension": ".py",
   "mimetype": "text/x-python",
   "name": "python",
   "nbconvert_exporter": "python",
   "pygments_lexer": "ipython3",
   "version": "3.10.8"
  }
 },
 "nbformat": 4,
 "nbformat_minor": 5
}
