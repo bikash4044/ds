{
 "cells": [
  {
   "cell_type": "markdown",
   "id": "140c42f9-0c73-4311-bb4b-139336b96545",
   "metadata": {},
   "source": [
    "## 1\n",
    "Tuple is the data type that can hold one or more element(s) inside it.\n",
    "The elements are separated by comma and enclosed by parenthesis ( ).\n",
    "e.g:- t = (1,2,3,4,5)\n",
    "The elements are accesible using index, but can't be modified using indexing.\n",
    "Tuples are immutable in nature."
   ]
  },
  {
   "cell_type": "markdown",
   "id": "fe9cc317-3bdd-45ef-8b37-a3201e1d3f2e",
   "metadata": {},
   "source": [
    "## 2\n",
    "Tuples support count() and index().\n",
    "count() returns the number of time an element is present in a tuple.\n",
    "index() returns the index of the element passed into it.\n",
    "Example:"
   ]
  },
  {
   "cell_type": "code",
   "execution_count": 2,
   "id": "46964b5f-5651-4040-97c7-74868c29e7fe",
   "metadata": {},
   "outputs": [],
   "source": [
    "t=(1,2,3,4,5)"
   ]
  },
  {
   "cell_type": "code",
   "execution_count": 3,
   "id": "f2ebae15-c5f1-4fbe-9abd-a1f037b99fe9",
   "metadata": {},
   "outputs": [
    {
     "data": {
      "text/plain": [
       "(1, 2, 3, 4, 5)"
      ]
     },
     "execution_count": 3,
     "metadata": {},
     "output_type": "execute_result"
    }
   ],
   "source": [
    "t"
   ]
  },
  {
   "cell_type": "code",
   "execution_count": 5,
   "id": "48cfca6b-6b59-46fe-a2db-f2c1d3dcc965",
   "metadata": {},
   "outputs": [
    {
     "data": {
      "text/plain": [
       "1"
      ]
     },
     "execution_count": 5,
     "metadata": {},
     "output_type": "execute_result"
    }
   ],
   "source": [
    "t.count(3)"
   ]
  },
  {
   "cell_type": "code",
   "execution_count": 6,
   "id": "0508489d-a99b-4807-9f54-65b81d3b9ed5",
   "metadata": {},
   "outputs": [
    {
     "data": {
      "text/plain": [
       "2"
      ]
     },
     "execution_count": 6,
     "metadata": {},
     "output_type": "execute_result"
    }
   ],
   "source": [
    "t.index(3)"
   ]
  },
  {
   "cell_type": "markdown",
   "id": "e5faf1f2-edac-459b-bc47-4b7f1b908726",
   "metadata": {},
   "source": [
    "Tuples have only two in-built function, the reason is tuples are immutabole in nature i.e thay can't be modified, though the variables can be assigned with a new tuple."
   ]
  },
  {
   "cell_type": "markdown",
   "id": "210da164-1b76-4dd1-9f8e-35dcd8ce10c7",
   "metadata": {},
   "source": [
    "## 3"
   ]
  },
  {
   "cell_type": "markdown",
   "id": "bac6dab7-4fa7-4a70-8220-7260a8f13bcb",
   "metadata": {},
   "source": [
    "Set do not allow duplicate items."
   ]
  },
  {
   "cell_type": "code",
   "execution_count": 7,
   "id": "3dff60fa-91cf-442d-a239-2260959b1812",
   "metadata": {},
   "outputs": [],
   "source": [
    "List = [1, 1, 1, 2, 1, 3, 1, 4, 2, 1, 2, 2, 2, 3, 2, 4, 3, 1, 3, 2, 3, 3, 3, 4, 4, 1, 4, 2, 4, 3, 4, 4]"
   ]
  },
  {
   "cell_type": "code",
   "execution_count": 8,
   "id": "790ece35-3fbc-4f73-a5c8-83424fafb4f2",
   "metadata": {},
   "outputs": [],
   "source": [
    "L=set(List)"
   ]
  },
  {
   "cell_type": "code",
   "execution_count": 9,
   "id": "f60b3bb2-d811-4db8-ac84-9e22b57fe0e6",
   "metadata": {},
   "outputs": [
    {
     "data": {
      "text/plain": [
       "{1, 2, 3, 4}"
      ]
     },
     "execution_count": 9,
     "metadata": {},
     "output_type": "execute_result"
    }
   ],
   "source": [
    "L"
   ]
  },
  {
   "cell_type": "markdown",
   "id": "e9afd4e3-a7e7-4eed-870e-134a14ed8f6e",
   "metadata": {},
   "source": [
    "## 4"
   ]
  },
  {
   "cell_type": "markdown",
   "id": "eaa29d0c-424a-487c-99f7-9af81296a7b6",
   "metadata": {},
   "source": [
    "union() creates a new set by combining the elements of both the sets without duplication, but update() replace the first set with the union of both."
   ]
  },
  {
   "cell_type": "code",
   "execution_count": 10,
   "id": "c4f799ac-52f1-4174-85c6-ed5468313bf8",
   "metadata": {},
   "outputs": [],
   "source": [
    "a={1,2,3,4}"
   ]
  },
  {
   "cell_type": "code",
   "execution_count": 11,
   "id": "2af13c98-72d0-46a3-98f3-968d7c54ef18",
   "metadata": {},
   "outputs": [],
   "source": [
    "b={4,5,6,7}"
   ]
  },
  {
   "cell_type": "code",
   "execution_count": 12,
   "id": "941f011c-0c99-4a05-adf8-652175a023e2",
   "metadata": {},
   "outputs": [],
   "source": [
    "u=a.union(b)"
   ]
  },
  {
   "cell_type": "code",
   "execution_count": 18,
   "id": "8bcf72a9-90a8-41c0-a555-84ea57ed0950",
   "metadata": {},
   "outputs": [],
   "source": [
    "a.update(b)"
   ]
  },
  {
   "cell_type": "code",
   "execution_count": 19,
   "id": "6f186e30-7985-4e21-a4d1-cd6aeff9fcc7",
   "metadata": {},
   "outputs": [
    {
     "data": {
      "text/plain": [
       "{1, 2, 3, 4, 5, 6, 7}"
      ]
     },
     "execution_count": 19,
     "metadata": {},
     "output_type": "execute_result"
    }
   ],
   "source": [
    "u"
   ]
  },
  {
   "cell_type": "code",
   "execution_count": 20,
   "id": "bd2e48b0-2237-4d82-a3c3-f83047a27213",
   "metadata": {},
   "outputs": [
    {
     "data": {
      "text/plain": [
       "{1, 2, 3, 4, 5, 6, 7}"
      ]
     },
     "execution_count": 20,
     "metadata": {},
     "output_type": "execute_result"
    }
   ],
   "source": [
    "a"
   ]
  },
  {
   "cell_type": "markdown",
   "id": "2cf669c8-1b30-4431-9b51-6838291efa65",
   "metadata": {},
   "source": [
    "## 5"
   ]
  },
  {
   "cell_type": "markdown",
   "id": "ff719d1a-6dac-4d42-9821-ff761826dd69",
   "metadata": {},
   "source": [
    "Dictionary in python is a data type that contains key-value pairs. The items here are not indexed i.e it is unordered."
   ]
  },
  {
   "cell_type": "code",
   "execution_count": 21,
   "id": "dd44928e-9739-4e2a-b9fd-5bd1dccb48b9",
   "metadata": {},
   "outputs": [],
   "source": [
    "Data = {\n",
    "    \"Name\" : \"Bikash\",\n",
    "    \"Roll\" : 15\n",
    "}"
   ]
  },
  {
   "cell_type": "code",
   "execution_count": 22,
   "id": "ffc8d47a-0f66-4cdb-adbf-fcd6a31a5b58",
   "metadata": {},
   "outputs": [
    {
     "data": {
      "text/plain": [
       "{'Name': 'Bikash', 'Roll': 15}"
      ]
     },
     "execution_count": 22,
     "metadata": {},
     "output_type": "execute_result"
    }
   ],
   "source": [
    "Data"
   ]
  },
  {
   "cell_type": "markdown",
   "id": "fceae347-428b-4374-9f88-42c558e3c2c1",
   "metadata": {},
   "source": [
    "## 6"
   ]
  },
  {
   "cell_type": "code",
   "execution_count": 23,
   "id": "16edfd79-31d3-46dc-911c-a227aca8b8f3",
   "metadata": {},
   "outputs": [],
   "source": [
    "Data2 = {\n",
    "    \"Name\" : \"Bikash\",\n",
    "    \"Roll\" : 15,\n",
    "    \"Purpose\" : { \"Lang\" : \"Python\",\"Platform\" : \"pwskills\"}\n",
    "}"
   ]
  },
  {
   "cell_type": "code",
   "execution_count": 24,
   "id": "a1ac93d7-20a5-418b-9a71-96abeb7c6132",
   "metadata": {},
   "outputs": [
    {
     "data": {
      "text/plain": [
       "{'Name': 'Bikash',\n",
       " 'Roll': 15,\n",
       " 'Purpose': {'Lang': 'Python', 'Platform': 'pwskills'}}"
      ]
     },
     "execution_count": 24,
     "metadata": {},
     "output_type": "execute_result"
    }
   ],
   "source": [
    "Data2"
   ]
  },
  {
   "cell_type": "markdown",
   "id": "ddc079d3-5821-4665-837a-109324ae7b49",
   "metadata": {},
   "source": [
    "## 7"
   ]
  },
  {
   "cell_type": "code",
   "execution_count": 28,
   "id": "d00ab035-47b7-45bc-9fae-7deb76bffef4",
   "metadata": {},
   "outputs": [
    {
     "data": {
      "text/plain": [
       "'Deep Learning'"
      ]
     },
     "execution_count": 28,
     "metadata": {},
     "output_type": "execute_result"
    }
   ],
   "source": [
    "dict1 = {\n",
    "\t\"language\": \"Python\", \n",
    "\t  \"course\": \"Data Science Masters\"\n",
    "}\n",
    "\n",
    "dict1.setdefault(\"language\", \"Python\")\n",
    "dict1.setdefault(\"course\", \"Data Science Masters\")\n",
    "dict1.setdefault(\"course2\", \"Machine Learning\")\n",
    "dict1.setdefault(\"course3\", \"Deep Learning\")"
   ]
  },
  {
   "cell_type": "code",
   "execution_count": 29,
   "id": "3fb573c9-71c9-4744-bc35-d3f90d58c53a",
   "metadata": {},
   "outputs": [
    {
     "data": {
      "text/plain": [
       "{'language': 'Python',\n",
       " 'course': 'Data Science Masters',\n",
       " 'course2': 'Machine Learning',\n",
       " 'course3': 'Deep Learning'}"
      ]
     },
     "execution_count": 29,
     "metadata": {},
     "output_type": "execute_result"
    }
   ],
   "source": [
    "dict1"
   ]
  },
  {
   "cell_type": "markdown",
   "id": "c260e4fb-7412-49dc-b384-41abd5de6844",
   "metadata": {},
   "source": [
    "### still confused for question 7"
   ]
  },
  {
   "cell_type": "markdown",
   "id": "21c3a4a7-0f49-4af4-ba30-86fe6d406546",
   "metadata": {},
   "source": [
    "## 8"
   ]
  },
  {
   "cell_type": "markdown",
   "id": "d83de2ba-5f1d-407e-a6d1-ed5b951d70a9",
   "metadata": {},
   "source": [
    "Dictionary has 3 view objects i.e key, value, items."
   ]
  },
  {
   "cell_type": "code",
   "execution_count": 30,
   "id": "684465bd-3be8-4f22-be0e-1b86de4b1a91",
   "metadata": {},
   "outputs": [],
   "source": [
    "dict2 = {'Sport': 'Cricket' , 'Teams': ['India', 'Australia', 'England', 'South Africa', 'Sri Lanka', 'New Zealand']}"
   ]
  },
  {
   "cell_type": "code",
   "execution_count": 32,
   "id": "041fe9d1-c177-479a-b584-eb7f73dcee36",
   "metadata": {},
   "outputs": [
    {
     "data": {
      "text/plain": [
       "dict_keys(['Sport', 'Teams'])"
      ]
     },
     "execution_count": 32,
     "metadata": {},
     "output_type": "execute_result"
    }
   ],
   "source": [
    "dict2.keys()"
   ]
  },
  {
   "cell_type": "code",
   "execution_count": 33,
   "id": "06ac20d5-dff6-43fb-accf-6947452ba84b",
   "metadata": {},
   "outputs": [
    {
     "data": {
      "text/plain": [
       "dict_values(['Cricket', ['India', 'Australia', 'England', 'South Africa', 'Sri Lanka', 'New Zealand']])"
      ]
     },
     "execution_count": 33,
     "metadata": {},
     "output_type": "execute_result"
    }
   ],
   "source": [
    "dict2.values()"
   ]
  },
  {
   "cell_type": "code",
   "execution_count": 34,
   "id": "8e3f6baa-2596-4b48-a250-6d8893426a3e",
   "metadata": {},
   "outputs": [
    {
     "data": {
      "text/plain": [
       "dict_items([('Sport', 'Cricket'), ('Teams', ['India', 'Australia', 'England', 'South Africa', 'Sri Lanka', 'New Zealand'])])"
      ]
     },
     "execution_count": 34,
     "metadata": {},
     "output_type": "execute_result"
    }
   ],
   "source": [
    "dict2.items()"
   ]
  },
  {
   "cell_type": "code",
   "execution_count": null,
   "id": "a04005c9-723e-47a6-b758-fca14db4edd0",
   "metadata": {},
   "outputs": [],
   "source": []
  }
 ],
 "metadata": {
  "kernelspec": {
   "display_name": "Python 3 (ipykernel)",
   "language": "python",
   "name": "python3"
  },
  "language_info": {
   "codemirror_mode": {
    "name": "ipython",
    "version": 3
   },
   "file_extension": ".py",
   "mimetype": "text/x-python",
   "name": "python",
   "nbconvert_exporter": "python",
   "pygments_lexer": "ipython3",
   "version": "3.10.8"
  }
 },
 "nbformat": 4,
 "nbformat_minor": 5
}
